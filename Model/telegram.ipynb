{
 "cells": [
  {
   "cell_type": "code",
   "execution_count": 1,
   "metadata": {},
   "outputs": [
    {
     "name": "stdout",
     "output_type": "stream",
     "text": [
      "{'ok': False, 'error_code': 404, 'description': 'Not Found'}\n"
     ]
    }
   ],
   "source": [
    "import requests\n",
    "import time\n",
    "# Telegram bot bilgileri\n",
    "TELEGRAM_TOKEN = 'xxxxxxx'\n",
    "CHAT_ID = 'yyyyyyyy'   # Chat ID'niz\n",
    "\n",
    "# Mesaj gönderme fonksiyonu\n",
    "def send_telegram_message(message):\n",
    "    url = f'https://api.telegram.org/bot{TELEGRAM_TOKEN}/sendMessage'\n",
    "    payload = {'chat_id': CHAT_ID, 'text': message}\n",
    "    response = requests.post(url, data=payload)\n",
    "    print(response.json())  # Yanıtı kontrol et\n",
    "\n",
    "# Mesaj gönderme\n",
    "send_telegram_message(\"Merhaba Faruk! It is working hell yeahhhh\")\n",
    "# Sonsuz döngü ile her dakika mesaj gönderme\n",
    "#while True:\n",
    "#    send_telegram_message()\n",
    "#    time.sleep(60)  # 60 saniye bekle"
   ]
  }
 ],
 "metadata": {
  "kernelspec": {
   "display_name": ".venv",
   "language": "python",
   "name": "python3"
  },
  "language_info": {
   "codemirror_mode": {
    "name": "ipython",
    "version": 3
   },
   "file_extension": ".py",
   "mimetype": "text/x-python",
   "name": "python",
   "nbconvert_exporter": "python",
   "pygments_lexer": "ipython3",
   "version": "3.12.8"
  }
 },
 "nbformat": 4,
 "nbformat_minor": 2
}
