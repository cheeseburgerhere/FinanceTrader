{
 "cells": [
  {
   "cell_type": "code",
   "execution_count": 2,
   "metadata": {},
   "outputs": [],
   "source": [
    "import numpy as np\n",
    "import pandas as pd\n",
    "import os"
   ]
  },
  {
   "cell_type": "code",
   "execution_count": 211,
   "metadata": {},
   "outputs": [],
   "source": [
    "dataLocation=\"../Data/StandardizedData\"\n",
    "allcsvs=os.listdir(dataLocation)\n",
    "# turn float64 to float 32\n",
    "# rawData=rawData.astype(np.float32)"
   ]
  },
  {
   "cell_type": "code",
   "execution_count": 210,
   "metadata": {},
   "outputs": [],
   "source": [
    "for i in range(len(allcsvs)):\n",
    "    rawData=pd.read_csv(os.path.join(dataLocation,allcsvs[i]))\n",
    "\n",
    "\n",
    "# I have to store all of the rawData accurately because I need them afterwards\n",
    "# or I can make a huge tensor and store all of them in it\n",
    "# but this raises concerns about the time series consistency"
   ]
  },
  {
   "cell_type": "code",
   "execution_count": 24,
   "metadata": {},
   "outputs": [
    {
     "data": {
      "text/html": [
       "<div>\n",
       "<style scoped>\n",
       "    .dataframe tbody tr th:only-of-type {\n",
       "        vertical-align: middle;\n",
       "    }\n",
       "\n",
       "    .dataframe tbody tr th {\n",
       "        vertical-align: top;\n",
       "    }\n",
       "\n",
       "    .dataframe thead th {\n",
       "        text-align: right;\n",
       "    }\n",
       "</style>\n",
       "<table border=\"1\" class=\"dataframe\">\n",
       "  <thead>\n",
       "    <tr style=\"text-align: right;\">\n",
       "      <th></th>\n",
       "      <th>Date</th>\n",
       "      <th>Open</th>\n",
       "      <th>High</th>\n",
       "      <th>Low</th>\n",
       "      <th>Close</th>\n",
       "      <th>Volume</th>\n",
       "      <th>Days_Between</th>\n",
       "      <th>Pct_Change</th>\n",
       "    </tr>\n",
       "  </thead>\n",
       "  <tbody>\n",
       "    <tr>\n",
       "      <th>0</th>\n",
       "      <td>2019-10-22 00:00:00+03:00</td>\n",
       "      <td>0.646781</td>\n",
       "      <td>0.652309</td>\n",
       "      <td>0.641253</td>\n",
       "      <td>0.652309</td>\n",
       "      <td>2.818350e+07</td>\n",
       "      <td>1.0</td>\n",
       "      <td>0.000000</td>\n",
       "    </tr>\n",
       "    <tr>\n",
       "      <th>1</th>\n",
       "      <td>2019-10-23 00:00:00+03:00</td>\n",
       "      <td>0.657837</td>\n",
       "      <td>0.663365</td>\n",
       "      <td>0.646781</td>\n",
       "      <td>0.663365</td>\n",
       "      <td>2.861088e+07</td>\n",
       "      <td>1.0</td>\n",
       "      <td>0.016949</td>\n",
       "    </tr>\n",
       "    <tr>\n",
       "      <th>2</th>\n",
       "      <td>2019-10-24 00:00:00+03:00</td>\n",
       "      <td>0.663365</td>\n",
       "      <td>0.679949</td>\n",
       "      <td>0.652309</td>\n",
       "      <td>0.663365</td>\n",
       "      <td>2.499212e+07</td>\n",
       "      <td>1.0</td>\n",
       "      <td>0.000000</td>\n",
       "    </tr>\n",
       "    <tr>\n",
       "      <th>3</th>\n",
       "      <td>2019-10-25 00:00:00+03:00</td>\n",
       "      <td>0.663365</td>\n",
       "      <td>0.663365</td>\n",
       "      <td>0.646781</td>\n",
       "      <td>0.663365</td>\n",
       "      <td>2.711898e+07</td>\n",
       "      <td>1.0</td>\n",
       "      <td>0.000000</td>\n",
       "    </tr>\n",
       "    <tr>\n",
       "      <th>4</th>\n",
       "      <td>2019-10-28 00:00:00+03:00</td>\n",
       "      <td>0.668893</td>\n",
       "      <td>0.668893</td>\n",
       "      <td>0.663365</td>\n",
       "      <td>0.663365</td>\n",
       "      <td>2.624481e+07</td>\n",
       "      <td>3.0</td>\n",
       "      <td>0.000000</td>\n",
       "    </tr>\n",
       "    <tr>\n",
       "      <th>...</th>\n",
       "      <td>...</td>\n",
       "      <td>...</td>\n",
       "      <td>...</td>\n",
       "      <td>...</td>\n",
       "      <td>...</td>\n",
       "      <td>...</td>\n",
       "      <td>...</td>\n",
       "      <td>...</td>\n",
       "    </tr>\n",
       "    <tr>\n",
       "      <th>1247</th>\n",
       "      <td>2024-10-16 00:00:00+03:00</td>\n",
       "      <td>4.050000</td>\n",
       "      <td>4.190000</td>\n",
       "      <td>3.990000</td>\n",
       "      <td>4.070000</td>\n",
       "      <td>7.700599e+07</td>\n",
       "      <td>1.0</td>\n",
       "      <td>0.004938</td>\n",
       "    </tr>\n",
       "    <tr>\n",
       "      <th>1248</th>\n",
       "      <td>2024-10-17 00:00:00+03:00</td>\n",
       "      <td>4.060000</td>\n",
       "      <td>4.160000</td>\n",
       "      <td>4.060000</td>\n",
       "      <td>4.160000</td>\n",
       "      <td>7.597829e+07</td>\n",
       "      <td>1.0</td>\n",
       "      <td>0.022113</td>\n",
       "    </tr>\n",
       "    <tr>\n",
       "      <th>1249</th>\n",
       "      <td>2024-10-18 00:00:00+03:00</td>\n",
       "      <td>4.170000</td>\n",
       "      <td>4.190000</td>\n",
       "      <td>4.050000</td>\n",
       "      <td>4.190000</td>\n",
       "      <td>7.844818e+07</td>\n",
       "      <td>1.0</td>\n",
       "      <td>0.007212</td>\n",
       "    </tr>\n",
       "    <tr>\n",
       "      <th>1250</th>\n",
       "      <td>2024-10-21 00:00:00+03:00</td>\n",
       "      <td>4.150000</td>\n",
       "      <td>4.230000</td>\n",
       "      <td>4.140000</td>\n",
       "      <td>4.150000</td>\n",
       "      <td>7.101958e+07</td>\n",
       "      <td>3.0</td>\n",
       "      <td>-0.009547</td>\n",
       "    </tr>\n",
       "    <tr>\n",
       "      <th>1251</th>\n",
       "      <td>2024-10-22 00:00:00+03:00</td>\n",
       "      <td>4.150000</td>\n",
       "      <td>4.290000</td>\n",
       "      <td>4.150000</td>\n",
       "      <td>4.200000</td>\n",
       "      <td>7.374059e+07</td>\n",
       "      <td>1.0</td>\n",
       "      <td>0.012048</td>\n",
       "    </tr>\n",
       "  </tbody>\n",
       "</table>\n",
       "<p>1252 rows × 8 columns</p>\n",
       "</div>"
      ],
      "text/plain": [
       "                           Date      Open      High       Low     Close  \\\n",
       "0     2019-10-22 00:00:00+03:00  0.646781  0.652309  0.641253  0.652309   \n",
       "1     2019-10-23 00:00:00+03:00  0.657837  0.663365  0.646781  0.663365   \n",
       "2     2019-10-24 00:00:00+03:00  0.663365  0.679949  0.652309  0.663365   \n",
       "3     2019-10-25 00:00:00+03:00  0.663365  0.663365  0.646781  0.663365   \n",
       "4     2019-10-28 00:00:00+03:00  0.668893  0.668893  0.663365  0.663365   \n",
       "...                         ...       ...       ...       ...       ...   \n",
       "1247  2024-10-16 00:00:00+03:00  4.050000  4.190000  3.990000  4.070000   \n",
       "1248  2024-10-17 00:00:00+03:00  4.060000  4.160000  4.060000  4.160000   \n",
       "1249  2024-10-18 00:00:00+03:00  4.170000  4.190000  4.050000  4.190000   \n",
       "1250  2024-10-21 00:00:00+03:00  4.150000  4.230000  4.140000  4.150000   \n",
       "1251  2024-10-22 00:00:00+03:00  4.150000  4.290000  4.150000  4.200000   \n",
       "\n",
       "            Volume  Days_Between  Pct_Change  \n",
       "0     2.818350e+07           1.0    0.000000  \n",
       "1     2.861088e+07           1.0    0.016949  \n",
       "2     2.499212e+07           1.0    0.000000  \n",
       "3     2.711898e+07           1.0    0.000000  \n",
       "4     2.624481e+07           3.0    0.000000  \n",
       "...            ...           ...         ...  \n",
       "1247  7.700599e+07           1.0    0.004938  \n",
       "1248  7.597829e+07           1.0    0.022113  \n",
       "1249  7.844818e+07           1.0    0.007212  \n",
       "1250  7.101958e+07           3.0   -0.009547  \n",
       "1251  7.374059e+07           1.0    0.012048  \n",
       "\n",
       "[1252 rows x 8 columns]"
      ]
     },
     "execution_count": 24,
     "metadata": {},
     "output_type": "execute_result"
    }
   ],
   "source": [
    "rawData"
   ]
  },
  {
   "cell_type": "code",
   "execution_count": 168,
   "metadata": {},
   "outputs": [],
   "source": [
    "lookback_window=7 \n",
    "#I don't have any idea which number is best\n",
    "# from past test it looks like model has an understanding of general trend of the stock\n",
    "# but not the specific chracteristics of the stock\n",
    "# chatgpt recommends me to increase lookback window\n",
    "\n",
    "unnecessaryColumns=[\"Date\",\"Pct_Change\"]\n",
    "\n",
    "from sklearn.preprocessing import MinMaxScaler\n",
    "\n",
    "scaler = MinMaxScaler()\n",
    "\n",
    "\n",
    "def df_to_X_y(df, scaler ,window_size=5):\n",
    "  lightWeightDf=df.drop(columns=unnecessaryColumns)\n",
    "  df_as_np = scaler.fit_transform(lightWeightDf.to_numpy())\n",
    "  X = []\n",
    "  y = []\n",
    "  for i in range(len(df_as_np)-window_size):\n",
    "    row = [a for a in df_as_np[i:i+window_size]]\n",
    "    X.append(row)\n",
    "    label = df_as_np[i+window_size,3]\n",
    "    y.append(label)\n",
    "  return np.array(X), np.array(y)"
   ]
  },
  {
   "cell_type": "code",
   "execution_count": 169,
   "metadata": {},
   "outputs": [
    {
     "data": {
      "text/plain": [
       "((1245, 7, 6), (1245,))"
      ]
     },
     "execution_count": 169,
     "metadata": {},
     "output_type": "execute_result"
    }
   ],
   "source": [
    "X,y=df_to_X_y(rawData, scaler ,lookback_window)\n",
    "X.shape, y.shape"
   ]
  },
  {
   "cell_type": "code",
   "execution_count": 127,
   "metadata": {},
   "outputs": [
    {
     "name": "stdout",
     "output_type": "stream",
     "text": [
      "WARNING:tensorflow:Layer lstm_11 will not use cuDNN kernels since it doesn't meet the criteria. It will use a generic GPU kernel as fallback when running on GPU.\n"
     ]
    },
    {
     "name": "stderr",
     "output_type": "stream",
     "text": [
      "WARNING:tensorflow:Layer lstm_11 will not use cuDNN kernels since it doesn't meet the criteria. It will use a generic GPU kernel as fallback when running on GPU.\n"
     ]
    },
    {
     "name": "stdout",
     "output_type": "stream",
     "text": [
      "Model: \"sequential_11\"\n",
      "_________________________________________________________________\n",
      " Layer (type)                Output Shape              Param #   \n",
      "=================================================================\n",
      " lstm_11 (LSTM)              (None, 32)                4992      \n",
      "                                                                 \n",
      " dense_22 (Dense)            (None, 8)                 264       \n",
      "                                                                 \n",
      " dense_23 (Dense)            (None, 1)                 9         \n",
      "                                                                 \n",
      "=================================================================\n",
      "Total params: 5,265\n",
      "Trainable params: 5,265\n",
      "Non-trainable params: 0\n",
      "_________________________________________________________________\n"
     ]
    }
   ],
   "source": [
    "from tensorflow.keras.models import Sequential\n",
    "from tensorflow.keras.layers import *\n",
    "from tensorflow.keras.callbacks import ModelCheckpoint\n",
    "from tensorflow.keras.losses import MeanSquaredError\n",
    "from tensorflow.keras.metrics import RootMeanSquaredError\n",
    "from tensorflow.keras.optimizers import Adam\n",
    "\n",
    "num_features=6 #for OHLC, volume and days between\n",
    "# #TODO for input layer we can use dollar price, australia index,\n",
    "\n",
    "model1 = Sequential()\n",
    "model1.add(InputLayer((lookback_window, num_features)))\n",
    "model1.add(LSTM(64, dropout=0.2, recurrent_dropout=0.2))\n",
    "model1.add(Dense(8, 'relu'))\n",
    "model1.add(Dense(1, 'linear'))\n",
    "\n",
    "model1.summary()"
   ]
  },
  {
   "cell_type": "code",
   "execution_count": 128,
   "metadata": {},
   "outputs": [],
   "source": [
    "from keras.callbacks import ReduceLROnPlateau\n",
    "\n",
    "lr_reduction = ReduceLROnPlateau(monitor='loss', factor=0.5, patience=5)\n",
    "cp1 = ModelCheckpoint('trainedModels/', save_best_only=True)\n",
    "model1.compile(loss=MeanSquaredError(), optimizer=Adam(learning_rate=0.001), metrics=[RootMeanSquaredError()])"
   ]
  },
  {
   "cell_type": "code",
   "execution_count": 129,
   "metadata": {},
   "outputs": [],
   "source": [
    "X_train1, y_train1 = X[:1000], y[:1000]\n",
    "X_val1, y_val1 = X[1000:], y[1000:]"
   ]
  },
  {
   "cell_type": "code",
   "execution_count": null,
   "metadata": {},
   "outputs": [],
   "source": [
    "model1.fit(X_train1, y_train1, validation_data=(X_val1, y_val1), epochs=10, callbacks=[cp1])"
   ]
  },
  {
   "cell_type": "code",
   "execution_count": null,
   "metadata": {},
   "outputs": [],
   "source": [
    "# from tensorflow.keras.models import load_model\n",
    "#code for loading the model\n",
    "# model1 = load_model('trainedModels/')"
   ]
  },
  {
   "cell_type": "code",
   "execution_count": 192,
   "metadata": {},
   "outputs": [],
   "source": [
    "def deNormalizePrediction(prediction, rawDataframe, scaler):\n",
    "    length=len(prediction.flatten())\n",
    "    dummyX=np.zeros((length,6))\n",
    "    normArray=scaler.fit_transform(rawDataframe.drop(columns=[\"Date\",\"Pct_Change\"]).to_numpy())\n",
    "    dummyX[:,:3]=normArray[:length,:3]\n",
    "    dummyX[:,3]=prediction.flatten()\n",
    "    dummyX[:,3:]=normArray[:length,3:]\n",
    "    return scaler.inverse_transform(dummyX)[:,3]"
   ]
  },
  {
   "cell_type": "code",
   "execution_count": null,
   "metadata": {},
   "outputs": [
    {
     "name": "stdout",
     "output_type": "stream",
     "text": [
      "32/32 [==============================] - 0s 6ms/step\n"
     ]
    },
    {
     "data": {
      "text/html": [
       "<div>\n",
       "<style scoped>\n",
       "    .dataframe tbody tr th:only-of-type {\n",
       "        vertical-align: middle;\n",
       "    }\n",
       "\n",
       "    .dataframe tbody tr th {\n",
       "        vertical-align: top;\n",
       "    }\n",
       "\n",
       "    .dataframe thead th {\n",
       "        text-align: right;\n",
       "    }\n",
       "</style>\n",
       "<table border=\"1\" class=\"dataframe\">\n",
       "  <thead>\n",
       "    <tr style=\"text-align: right;\">\n",
       "      <th></th>\n",
       "      <th>Train Predictions</th>\n",
       "      <th>Actuals</th>\n",
       "    </tr>\n",
       "  </thead>\n",
       "  <tbody>\n",
       "    <tr>\n",
       "      <th>0</th>\n",
       "      <td>0.652309</td>\n",
       "      <td>0.652309</td>\n",
       "    </tr>\n",
       "    <tr>\n",
       "      <th>1</th>\n",
       "      <td>0.663365</td>\n",
       "      <td>0.663365</td>\n",
       "    </tr>\n",
       "    <tr>\n",
       "      <th>2</th>\n",
       "      <td>0.663365</td>\n",
       "      <td>0.663365</td>\n",
       "    </tr>\n",
       "    <tr>\n",
       "      <th>3</th>\n",
       "      <td>0.663365</td>\n",
       "      <td>0.663365</td>\n",
       "    </tr>\n",
       "    <tr>\n",
       "      <th>4</th>\n",
       "      <td>0.663365</td>\n",
       "      <td>0.663365</td>\n",
       "    </tr>\n",
       "    <tr>\n",
       "      <th>...</th>\n",
       "      <td>...</td>\n",
       "      <td>...</td>\n",
       "    </tr>\n",
       "    <tr>\n",
       "      <th>995</th>\n",
       "      <td>6.330000</td>\n",
       "      <td>6.330000</td>\n",
       "    </tr>\n",
       "    <tr>\n",
       "      <th>996</th>\n",
       "      <td>6.240000</td>\n",
       "      <td>6.240000</td>\n",
       "    </tr>\n",
       "    <tr>\n",
       "      <th>997</th>\n",
       "      <td>6.170000</td>\n",
       "      <td>6.170000</td>\n",
       "    </tr>\n",
       "    <tr>\n",
       "      <th>998</th>\n",
       "      <td>6.260000</td>\n",
       "      <td>6.260000</td>\n",
       "    </tr>\n",
       "    <tr>\n",
       "      <th>999</th>\n",
       "      <td>5.940000</td>\n",
       "      <td>5.940000</td>\n",
       "    </tr>\n",
       "  </tbody>\n",
       "</table>\n",
       "<p>1000 rows × 2 columns</p>\n",
       "</div>"
      ],
      "text/plain": [
       "     Train Predictions   Actuals\n",
       "0             0.652309  0.652309\n",
       "1             0.663365  0.663365\n",
       "2             0.663365  0.663365\n",
       "3             0.663365  0.663365\n",
       "4             0.663365  0.663365\n",
       "..                 ...       ...\n",
       "995           6.330000  6.330000\n",
       "996           6.240000  6.240000\n",
       "997           6.170000  6.170000\n",
       "998           6.260000  6.260000\n",
       "999           5.940000  5.940000\n",
       "\n",
       "[1000 rows x 2 columns]"
      ]
     },
     "execution_count": 204,
     "metadata": {},
     "output_type": "execute_result"
    }
   ],
   "source": [
    "train_predictions = model1.predict(X_train1)\n",
    "\n",
    "endPred=deNormalizePrediction(train_predictions,rawData,scaler)\n",
    "train_results = pd.DataFrame(data={'Train Predictions': endPred, 'Actuals':rawData.iloc[:1000,4].to_numpy()})\n",
    "train_results"
   ]
  },
  {
   "cell_type": "code",
   "execution_count": 207,
   "metadata": {},
   "outputs": [
    {
     "name": "stdout",
     "output_type": "stream",
     "text": [
      "8/8 [==============================] - 0s 6ms/step\n"
     ]
    },
    {
     "data": {
      "text/html": [
       "<div>\n",
       "<style scoped>\n",
       "    .dataframe tbody tr th:only-of-type {\n",
       "        vertical-align: middle;\n",
       "    }\n",
       "\n",
       "    .dataframe tbody tr th {\n",
       "        vertical-align: top;\n",
       "    }\n",
       "\n",
       "    .dataframe thead th {\n",
       "        text-align: right;\n",
       "    }\n",
       "</style>\n",
       "<table border=\"1\" class=\"dataframe\">\n",
       "  <thead>\n",
       "    <tr style=\"text-align: right;\">\n",
       "      <th></th>\n",
       "      <th>Val Predictions</th>\n",
       "      <th>Actuals</th>\n",
       "    </tr>\n",
       "  </thead>\n",
       "  <tbody>\n",
       "    <tr>\n",
       "      <th>0</th>\n",
       "      <td>0.652309</td>\n",
       "      <td>5.51</td>\n",
       "    </tr>\n",
       "    <tr>\n",
       "      <th>1</th>\n",
       "      <td>0.663365</td>\n",
       "      <td>5.30</td>\n",
       "    </tr>\n",
       "    <tr>\n",
       "      <th>2</th>\n",
       "      <td>0.663365</td>\n",
       "      <td>5.11</td>\n",
       "    </tr>\n",
       "    <tr>\n",
       "      <th>3</th>\n",
       "      <td>0.663365</td>\n",
       "      <td>5.15</td>\n",
       "    </tr>\n",
       "    <tr>\n",
       "      <th>4</th>\n",
       "      <td>0.663365</td>\n",
       "      <td>5.30</td>\n",
       "    </tr>\n",
       "    <tr>\n",
       "      <th>...</th>\n",
       "      <td>...</td>\n",
       "      <td>...</td>\n",
       "    </tr>\n",
       "    <tr>\n",
       "      <th>240</th>\n",
       "      <td>1.470460</td>\n",
       "      <td>4.07</td>\n",
       "    </tr>\n",
       "    <tr>\n",
       "      <th>241</th>\n",
       "      <td>1.503628</td>\n",
       "      <td>4.16</td>\n",
       "    </tr>\n",
       "    <tr>\n",
       "      <th>242</th>\n",
       "      <td>1.498100</td>\n",
       "      <td>4.19</td>\n",
       "    </tr>\n",
       "    <tr>\n",
       "      <th>243</th>\n",
       "      <td>1.520212</td>\n",
       "      <td>4.15</td>\n",
       "    </tr>\n",
       "    <tr>\n",
       "      <th>244</th>\n",
       "      <td>1.597605</td>\n",
       "      <td>4.20</td>\n",
       "    </tr>\n",
       "  </tbody>\n",
       "</table>\n",
       "<p>245 rows × 2 columns</p>\n",
       "</div>"
      ],
      "text/plain": [
       "     Val Predictions  Actuals\n",
       "0           0.652309     5.51\n",
       "1           0.663365     5.30\n",
       "2           0.663365     5.11\n",
       "3           0.663365     5.15\n",
       "4           0.663365     5.30\n",
       "..               ...      ...\n",
       "240         1.470460     4.07\n",
       "241         1.503628     4.16\n",
       "242         1.498100     4.19\n",
       "243         1.520212     4.15\n",
       "244         1.597605     4.20\n",
       "\n",
       "[245 rows x 2 columns]"
      ]
     },
     "execution_count": 207,
     "metadata": {},
     "output_type": "execute_result"
    }
   ],
   "source": [
    "val_predictions = model1.predict(X_val1).flatten()\n",
    "endPredVal=deNormalizePrediction(val_predictions,rawData,scaler)\n",
    "# print(len(endPred))\n",
    "# make sure raw data has the same dimentions\n",
    "val_results = pd.DataFrame(data={'Val Predictions':endPredVal, 'Actuals':rawData.iloc[1007:,4].to_numpy()})\n",
    "val_results"
   ]
  },
  {
   "cell_type": "code",
   "execution_count": 205,
   "metadata": {},
   "outputs": [
    {
     "data": {
      "image/png": "[encoded data removed]",
      "text/plain": [
       "<Figure size 640x480 with 1 Axes>"
      ]
     },
     "metadata": {},
     "output_type": "display_data"
    }
   ],
   "source": [
    "import matplotlib.pyplot as plt\n",
    "#graph for training data\n",
    "plt.plot(rawData.iloc[:1000,4].to_numpy(), label='True Values')\n",
    "plt.plot(endPred, label='Predictions')\n",
    "plt.legend()\n",
    "plt.show()"
   ]
  },
  {
   "cell_type": "code",
   "execution_count": 208,
   "metadata": {},
   "outputs": [
    {
     "data": {
      "image/png": "[encoded data removed]",
      "text/plain": [
       "<Figure size 640x480 with 1 Axes>"
      ]
     },
     "metadata": {},
     "output_type": "display_data"
    }
   ],
   "source": [
    "#graph for validation data\n",
    "plt.plot(rawData.iloc[1007:,4].to_numpy(), label='True Values')\n",
    "plt.plot(endPredVal, label='Predictions')\n",
    "plt.legend()\n",
    "plt.show()\n",
    "#these both graphs demonstrate val and train set are not split correctly\n",
    "# the predictions show a great trend for the training data but not for validation set that has a differernt distribution  \n",
    "# this also shows that the model is way too small to pickup any details on the data (volume and price)"
   ]
  }
 ],
 "metadata": {
  "kernelspec": {
   "display_name": "tf",
   "language": "python",
   "name": "python3"
  },
  "language_info": {
   "codemirror_mode": {
    "name": "ipython",
    "version": 3
   },
   "file_extension": ".py",
   "mimetype": "text/x-python",
   "name": "python",
   "nbconvert_exporter": "python",
   "pygments_lexer": "ipython3",
   "version": "3.9.19"
  }
 },
 "nbformat": 4,
 "nbformat_minor": 2
}
