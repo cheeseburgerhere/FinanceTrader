{
 "cells": [
  {
   "cell_type": "code",
   "execution_count": 10,
   "metadata": {},
   "outputs": [],
   "source": [
    "import numpy as np\n",
    "import pandas as pd\n",
    "import os"
   ]
  },
  {
   "cell_type": "code",
   "execution_count": 24,
   "metadata": {},
   "outputs": [
    {
     "name": "stdout",
     "output_type": "stream",
     "text": [
      "<class 'pandas.core.frame.DataFrame'>\n",
      "RangeIndex: 3866030 entries, 0 to 3866029\n",
      "Data columns (total 6 columns):\n",
      " #   Column       Dtype  \n",
      "---  ------       -----  \n",
      " 0   fund_symbol  object \n",
      " 1   open         float64\n",
      " 2   high         float64\n",
      " 3   low          float64\n",
      " 4   close        float64\n",
      " 5   volume       int64  \n",
      "dtypes: float64(4), int64(1), object(1)\n",
      "memory usage: 177.0+ MB\n"
     ]
    }
   ],
   "source": [
    "dataLocation=\"../Data/KaggleData/US_Funds_dataset_from_Yahoo_Finance/ETF prices.csv\"\n",
    "rawData=pd.read_csv(dataLocation).drop(columns=[\"adj_close\",\"price_date\"])\n",
    "rawData.info()\n",
    "# turn float64 to float 32"
   ]
  },
  {
   "cell_type": "code",
   "execution_count": 42,
   "metadata": {},
   "outputs": [],
   "source": [
    "# stocks=rawData[\"fund_symbol\"].unique()\n",
    "# it takes abt 5 mins to do this find another way\n",
    "\n",
    "# dfs= [0]* stocks.shape[0]\n",
    "# for i,stock in enumerate(stocks):\n",
    "#     print(i)\n",
    "#     dfs[i]=rawData[rawData[\"fund_symbol\"] == stock]\n",
    "# rawData=None"
   ]
  },
  {
   "cell_type": "code",
   "execution_count": 4,
   "metadata": {},
   "outputs": [],
   "source": [
    "lookback_window=10 #I don't have any idea which number is best\n",
    "def create_sequences(data, lookback):\n",
    "    X, y = [], []\n",
    "    for i in range(len(data) - lookback):\n",
    "        X.append(data[i:i + lookback])\n",
    "        y.append(data[i + lookback])\n",
    "    return np.array(X), np.array(y)"
   ]
  },
  {
   "cell_type": "code",
   "execution_count": 5,
   "metadata": {},
   "outputs": [],
   "source": [
    "from tensorflow.keras.models import Sequential\n",
    "from tensorflow.keras.layers import LSTM, Dense\n",
    "\n",
    "\n",
    "num_features=5 #for OHLC and volume\n",
    "model = Sequential()\n",
    "model.add(LSTM(32), return_sequences=True, input_shape=(lookback_window, num_features)))\n",
    "model.add(Dense(1))  # Predicting one value, like 'close'\n",
    "model.compile(optimizer='adam', loss='mean_squared_error')"
   ]
  }
 ],
 "metadata": {
  "kernelspec": {
   "display_name": "tf",
   "language": "python",
   "name": "python3"
  },
  "language_info": {
   "codemirror_mode": {
    "name": "ipython",
    "version": 3
   },
   "file_extension": ".py",
   "mimetype": "text/x-python",
   "name": "python",
   "nbconvert_exporter": "python",
   "pygments_lexer": "ipython3",
   "version": "3.9.19"
  }
 },
 "nbformat": 4,
 "nbformat_minor": 2
}
