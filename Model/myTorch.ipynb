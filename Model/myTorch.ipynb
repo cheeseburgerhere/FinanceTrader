{
 "cells": [
  {
   "cell_type": "code",
   "execution_count": 119,
   "metadata": {},
   "outputs": [],
   "source": [
    "import numpy as np\n",
    "import torch\n",
    "import torch.nn as nn\n",
    "from torch.utils.data import DataLoader, Dataset\n",
    "import pandas as pd\n",
    "import os"
   ]
  },
  {
   "cell_type": "code",
   "execution_count": 120,
   "metadata": {},
   "outputs": [],
   "source": [
    "\n",
    "# Hyperparameters\n",
    "lookback_window = 7  # Number of time steps\n",
    "#I don't have any idea which number is best\n",
    "# from past test it looks like model has an understanding of general trend of the stock\n",
    "# but not the specific chracteristics of the stock\n",
    "# chatgpt recommends me to increase lookback window\n",
    "input_size = 7       # Number of features (univariate = 1)\n",
    "output_size = 1       # Predicting one value\n",
    "hidden_size = 64      # Number of LSTM neurons\n",
    "num_layers = 2        # Number of LSTM layers\n",
    "\n",
    "alpha=1 #weight of directional loss\n",
    "learning_rate = 0.001\n",
    "epochs = 10\n",
    "batch_size = 32\n",
    "\n",
    "#TODO: USD/TRY exchange rate input\n",
    "#TODO: Faiz Enflasyon ve Piyasa Katılımcıları Anketi input\n",
    "\n",
    "#TODO: Takas Verisi (model iyi sonuçlar vermezse son çare olarak kullanılabilir)\n",
    "\n",
    "#TODO: Vadeli İşlem ve Opsiyon Borsası (VIOP) input (Çok karmaşıklaştırıyor gelecekte belki)\n",
    "#TODO: Anlık Aracı Kurum Dağılımı  (çok karıştırabilir)\n",
    "\n"
   ]
  },
  {
   "cell_type": "code",
   "execution_count": 121,
   "metadata": {},
   "outputs": [],
   "source": [
    "dataLocation=\"../Data/StandardizedData\"\n",
    "allcsvs=os.listdir(dataLocation)\n",
    "# turn float64 to float 32"
   ]
  },
  {
   "cell_type": "code",
   "execution_count": 122,
   "metadata": {},
   "outputs": [],
   "source": [
    "unnecessaryColumns=[\"Date\"]\n",
    "\n",
    "from Scaler import Scaler\n",
    "from sklearn.preprocessing import StandardScaler\n",
    "\n",
    "\n",
    "# Can't do with minMax scaler we need Z scaler\n",
    "#Rewrite Time\n",
    "scaler = Scaler(0,50)\n",
    "zScalerDic={}\n",
    "\n",
    "\n",
    "def df_to_X_y(df,zScaler,window_size=6):\n",
    "  lightWeightDf=df.drop(columns=unnecessaryColumns)\n",
    "  df_as_np = zScaler.fit_transform(lightWeightDf.to_numpy())\n",
    "  # df_as_np = lightWeightDf.to_numpy()\n",
    "  \n",
    "  X = []\n",
    "  y = []\n",
    "  for i in range(len(df_as_np)-window_size):\n",
    "    row = [a for a in df_as_np[i:i + window_size]]\n",
    "    X.append(row)\n",
    "    label = df_as_np[i + window_size, -1]\n",
    "    y.append(label)\n",
    "  return np.array(X), np.array(y)\n",
    "#df_to_X_y(pd.read_csv(dataLocation+\"/AEFES.IS.csv\"),scaler,lookback_window)"
   ]
  },
  {
   "cell_type": "code",
   "execution_count": 123,
   "metadata": {},
   "outputs": [],
   "source": [
    "# Combine all CSVs\n",
    "def process_all_data():\n",
    "    XAll = []\n",
    "    yAll = []\n",
    "    nameAll = []\n",
    "\n",
    "    for csv_file in allcsvs:\n",
    "        rawData = pd.read_csv(os.path.join(dataLocation, csv_file))\n",
    "        currentScaler = StandardScaler()\n",
    "        zScalerDic[csv_file] = currentScaler\n",
    "\n",
    "        Xtemp, yTemp = df_to_X_y(rawData, currentScaler, lookback_window)\n",
    "        XAll.append(Xtemp)\n",
    "        yAll.append(yTemp)\n",
    "        nameAll.extend([csv_file] * len(yTemp))\n",
    "\n",
    "    XAll = np.concatenate(XAll, axis=0)\n",
    "    yAll = np.concatenate(yAll, axis=0)\n",
    "\n",
    "    return XAll, yAll, np.array(nameAll)\n",
    "\n",
    "XAll, yAll, nameAll = process_all_data()\n",
    "\n",
    "# %%\n",
    "\n",
    "# I have to store all of the rawData accurately because I need them afterwards\n",
    "# or I can make a huge tensor and store all of them in it\n",
    "# but this raises concerns about the time series consistency"
   ]
  },
  {
   "cell_type": "code",
   "execution_count": 124,
   "metadata": {},
   "outputs": [
    {
     "data": {
      "text/plain": [
       "((57412, 7, 7), (57412,), (57412,))"
      ]
     },
     "execution_count": 124,
     "metadata": {},
     "output_type": "execute_result"
    }
   ],
   "source": [
    "XAll.shape, yAll.shape, nameAll.shape"
   ]
  },
  {
   "cell_type": "code",
   "execution_count": 125,
   "metadata": {},
   "outputs": [],
   "source": [
    "def shuffle_data(X, y, names):\n",
    "    \"\"\"\n",
    "    Shuffle the data while maintaining the correspondence between X and y.\n",
    "\n",
    "    Parameters:\n",
    "    X (numpy.ndarray): The input features tensor.\n",
    "    y (numpy.ndarray): The target array.\n",
    "\n",
    "    Returns:\n",
    "    tuple: Shuffled X and y tensors.\n",
    "    \"\"\"\n",
    "    assert len(X) == len(y), \"X and y must have the same length.\"\n",
    "    assert len(y) == len(names), \"y and names must have the same length.\"\n",
    "\n",
    "    # Generate a random permutation of indices\n",
    "    #TODO add a seed for reproducibility\n",
    "    #add seed to the code below\n",
    "    np.random.seed(42)\n",
    "    indices = np.random.permutation(len(X))\n",
    "    # print(indices[:5])\n",
    "    # Shuffle X and y\n",
    "    X_shuffled = X[indices]\n",
    "    y_shuffled = y[indices]\n",
    "    name_shuffled = names[indices]\n",
    "    \n",
    "    return X_shuffled, y_shuffled, name_shuffled"
   ]
  },
  {
   "cell_type": "code",
   "execution_count": 126,
   "metadata": {},
   "outputs": [],
   "source": [
    "X_shuffled, y_shuffled, name_shuffled = shuffle_data(XAll, yAll, nameAll)"
   ]
  },
  {
   "cell_type": "code",
   "execution_count": 127,
   "metadata": {},
   "outputs": [],
   "source": [
    "class TimeSeriesDataset(Dataset):\n",
    "    def __init__(self, X, y, names):\n",
    "        self.dataX = torch.tensor(X, dtype=torch.float32)\n",
    "        self.dataY = torch.tensor(y, dtype=torch.float32)\n",
    "        self.names = names\n",
    "\n",
    "    def __len__(self):\n",
    "        return self.dataX.size(0)\n",
    "\n",
    "    def __getitem__(self, idx):\n",
    "        sequence = self.dataX[idx, :]\n",
    "        target = self.dataY[idx]\n",
    "        name = self.names[idx]\n",
    "        return sequence, target, name\n",
    "\n",
    "# %%\n",
    "\n",
    "\n",
    "#TODO  dropout or batch normalization\n",
    "# LSTM Model\n",
    "class LSTMModel(nn.Module):\n",
    "    def __init__(self, input_size, hidden_size, num_layers, output_size):\n",
    "        super(LSTMModel, self).__init__()\n",
    "        self.hidden_size = hidden_size\n",
    "        self.num_layers = num_layers\n",
    "        self.lstm = nn.LSTM(input_size, hidden_size, num_layers, batch_first=True)\n",
    "        self.fc = nn.Linear(hidden_size, output_size)\n",
    "\n",
    "    def forward(self, x):\n",
    "        h0 = torch.zeros(self.num_layers, x.size(0), self.hidden_size).to(x.device)\n",
    "        c0 = torch.zeros(self.num_layers, x.size(0), self.hidden_size).to(x.device)\n",
    "\n",
    "        out, _ = self.lstm(x, (h0, c0))\n",
    "        out = self.fc(out[:, -1, :])\n",
    "        return out\n"
   ]
  },
  {
   "cell_type": "code",
   "execution_count": 128,
   "metadata": {},
   "outputs": [],
   "source": [
    "import torch.nn.functional as F\n",
    "\n",
    "\n",
    "#TODO test and utilize\n",
    "class AttentionMechanism(nn.Module):\n",
    "    def __init__(self, hidden_dim):\n",
    "        super(AttentionMechanism, self).__init__()\n",
    "        self.attention_weights = nn.Linear(hidden_dim, 1, bias=False)\n",
    "    \n",
    "    def forward(self, lstm_outputs):\n",
    "        # lstm_outputs: [batch_size, seq_len, hidden_dim]\n",
    "        attention_scores = self.attention_weights(lstm_outputs).squeeze(-1)  # [batch_size, seq_len]\n",
    "        attention_weights = F.softmax(attention_scores, dim=1)  # [batch_size, seq_len]\n",
    "        weighted_output = torch.sum(lstm_outputs * attention_weights.unsqueeze(-1), dim=1)  # [batch_size, hidden_dim]\n",
    "        return weighted_output, attention_weights\n",
    "    \n",
    "\n",
    "class LSTMAttentionModel(nn.Module):\n",
    "    def __init__(self, input_dim, hidden_dim, output_dim, num_layers=1, bidirectional=False):\n",
    "        super(LSTMAttentionModel, self).__init__()\n",
    "        self.hidden_dim = hidden_dim\n",
    "        self.num_layers = num_layers\n",
    "        self.bidirectional = bidirectional\n",
    "        self.lstm = nn.LSTM(input_dim, hidden_dim, num_layers, batch_first=True, bidirectional=bidirectional)\n",
    "        self.attention = AttentionMechanism(hidden_dim * (2 if bidirectional else 1))\n",
    "        self.fc = nn.Linear(hidden_dim * (2 if bidirectional else 1), output_dim)\n",
    "    \n",
    "    def forward(self, x):\n",
    "        lstm_out, _ = self.lstm(x)  # [batch_size, seq_len, hidden_dim]\n",
    "        attention_out, attention_weights = self.attention(lstm_out)  # [batch_size, hidden_dim], [batch_size, seq_len]\n",
    "        output = self.fc(attention_out)  # [batch_size, output_dim]\n",
    "        return output, attention_weights"
   ]
  },
  {
   "cell_type": "code",
   "execution_count": 129,
   "metadata": {},
   "outputs": [
    {
     "name": "stdout",
     "output_type": "stream",
     "text": [
      "Using cuda\n"
     ]
    }
   ],
   "source": [
    "device = torch.device('cuda') if torch.cuda.is_available() else torch.device('cpu')\n",
    "print(f\"Using {device}\")"
   ]
  },
  {
   "cell_type": "code",
   "execution_count": 130,
   "metadata": {},
   "outputs": [],
   "source": [
    "X_train, y_train = X_shuffled[:int(0.8 * len(X_shuffled))], y_shuffled[:int(0.8 * len(y_shuffled))]\n",
    "X_val, y_val = X_shuffled[int(0.8 * len(X_shuffled)):], y_shuffled[int(0.8 * len(y_shuffled))]\n",
    "name_train, name_val = name_shuffled[:int(0.8 * len(name_shuffled))], name_shuffled[int(0.8 * len(name_shuffled))]\n",
    "\n",
    "\n",
    "X_val = X_shuffled[int(0.8*len(X_shuffled)):]\n",
    "y_val = y_shuffled[int(0.8*len(y_shuffled)):]\n",
    "name_val = name_shuffled[int(0.8*len(name_shuffled)):]"
   ]
  },
  {
   "cell_type": "code",
   "execution_count": 131,
   "metadata": {},
   "outputs": [],
   "source": [
    "trainDataset = TimeSeriesDataset(X_train, y_train,name_train)\n",
    "train_loader = DataLoader(trainDataset, batch_size=batch_size, shuffle=False)\n",
    "#Dataset for validation\n",
    "valDataset = TimeSeriesDataset(X_val, y_val,name_val)\n",
    "val_loader = DataLoader(valDataset, batch_size=batch_size, shuffle=False)\n",
    "\n",
    "# Cross-validation: On non-overlapping sequential splits for evaluation."
   ]
  },
  {
   "cell_type": "code",
   "execution_count": 132,
   "metadata": {},
   "outputs": [],
   "source": [
    "def directional_loss(outputs, targets, sequences):\n",
    "    # Calculate the direction of predictions and actual values\n",
    "    pred_dir = outputs.squeeze()  >= 0\n",
    "    true_dir = targets  >= 0\n",
    "    # Penalize mismatched directions\n",
    "    mismatches = (pred_dir != true_dir).float()\n",
    "    return mismatches.mean()"
   ]
  },
  {
   "cell_type": "code",
   "execution_count": 133,
   "metadata": {},
   "outputs": [],
   "source": [
    "def train_one_epoch(model, dataloader, optimizer, criterion, device):\n",
    "    model.train()\n",
    "    running_loss = 0.0\n",
    "\n",
    "    for sequences, targets in dataloader:\n",
    "        sequences, targets = sequences.to(device), targets.to(device)\n",
    "        print(f\"Train - Sequences device: {sequences.device}, Targets device: {targets.device}\")\n",
    "\n",
    "        optimizer.zero_grad()\n",
    "        outputs = model(sequences)\n",
    "        loss = criterion(outputs, targets)\n",
    "        loss.backward()\n",
    "        optimizer.step()\n",
    "\n",
    "        running_loss += loss.item()\n",
    "\n",
    "    return running_loss / len(dataloader)\n",
    "    \n",
    "\n",
    "\n",
    "def validate(model, dataloader, criterion, device):\n",
    "    model.eval()\n",
    "    running_loss = 0.0\n",
    "\n",
    "    with torch.no_grad():\n",
    "        for sequences, targets in dataloader:\n",
    "            sequences, targets = sequences.to(device), targets.to(device)\n",
    "            print(f\"Validate - Sequences device: {sequences.device}, Targets device: {targets.device}\")\n",
    "\n",
    "            outputs = model(sequences)\n",
    "            loss = criterion(outputs, targets)\n",
    "\n",
    "            running_loss += loss.item()\n",
    "\n",
    "    return running_loss / len(dataloader)\n"
   ]
  },
  {
   "cell_type": "markdown",
   "metadata": {},
   "source": [
    "## Some Potenetial Metrics to evaluate models\n",
    "\n",
    "Profit and Loss (PnL) simulation for trading applications."
   ]
  },
  {
   "cell_type": "code",
   "execution_count": 134,
   "metadata": {},
   "outputs": [],
   "source": [
    "# Initialize model, loss function, and optimizer\n",
    "model = LSTMModel(input_size, hidden_size, num_layers, output_size)\n",
    "criterion = nn.MSELoss()\n",
    "optimizer = torch.optim.Adam(model.parameters(), lr=learning_rate)"
   ]
  },
  {
   "cell_type": "code",
   "execution_count": 135,
   "metadata": {},
   "outputs": [
    {
     "ename": "TypeError",
     "evalue": "train_one_epoch() missing 1 required positional argument: 'device'",
     "output_type": "error",
     "traceback": [
      "\u001b[1;31m---------------------------------------------------------------------------\u001b[0m",
      "\u001b[1;31mTypeError\u001b[0m                                 Traceback (most recent call last)",
      "Cell \u001b[1;32mIn[135], line 7\u001b[0m\n\u001b[0;32m      4\u001b[0m \u001b[38;5;66;03m# Training loop\u001b[39;00m\n\u001b[0;32m      5\u001b[0m \u001b[38;5;28;01mfor\u001b[39;00m epoch \u001b[38;5;129;01min\u001b[39;00m \u001b[38;5;28mrange\u001b[39m(epochs):\n\u001b[1;32m----> 7\u001b[0m     epoch_loss\u001b[38;5;241m=\u001b[39m\u001b[43mtrain_one_epoch\u001b[49m\u001b[43m(\u001b[49m\u001b[43mmodel\u001b[49m\u001b[43m,\u001b[49m\u001b[43moptimizer\u001b[49m\u001b[43m,\u001b[49m\u001b[43mcriterion\u001b[49m\u001b[43m,\u001b[49m\u001b[43mtrain_loader\u001b[49m\u001b[43m)\u001b[49m\n\u001b[0;32m      8\u001b[0m     val_loss, direction\u001b[38;5;241m=\u001b[39mvalidate(model,criterion,val_loader)\n\u001b[0;32m      9\u001b[0m     valLosses\u001b[38;5;241m.\u001b[39mappend(val_loss)\n",
      "\u001b[1;31mTypeError\u001b[0m: train_one_epoch() missing 1 required positional argument: 'device'"
     ]
    }
   ],
   "source": [
    "\n",
    "valLosses=[]\n",
    "trainLosses=[]\n",
    "DAvals=[]\n",
    "# Training loop\n",
    "for epoch in range(epochs):\n",
    "\n",
    "    epoch_loss=train_one_epoch(model,optimizer,criterion,train_loader)\n",
    "    val_loss, direction=validate(model,criterion,val_loader)\n",
    "    valLosses.append(val_loss)\n",
    "    trainLosses.append(epoch_loss)\n",
    "    DAvals.append(direction)\n",
    "    print(f\"Epoch {epoch+1}/{epochs}, Loss: {epoch_loss / len(train_loader):.4f}, Validation Loss: {val_loss / len(val_loader):.4f}, Directional Accuracy: {direction / len(nameAll):.4f}\")"
   ]
  },
  {
   "cell_type": "code",
   "execution_count": null,
   "metadata": {},
   "outputs": [
    {
     "data": {
      "image/png": "[encoded data removed]",
      "text/plain": [
       "<Figure size 640x480 with 1 Axes>"
      ]
     },
     "metadata": {},
     "output_type": "display_data"
    }
   ],
   "source": [
    "import matplotlib.pyplot as plt\n",
    "import numpy as np\n",
    "startPoint=0\n",
    "# Example float array\n",
    "val_array = valLosses[startPoint:]\n",
    "train_array = trainLosses[startPoint:]\n",
    "\n",
    "# Create an x-axis for the data points\n",
    "x = np.arange(len(train_array))\n",
    "y = np.arange(len(val_array))\n",
    "\n",
    "# Plot the graph\n",
    "plt.plot(x, train_array, marker='o', linestyle='-', color='b', label='Train Loss')\n",
    "plt.plot(y, val_array, marker='o', linestyle='-', color='r', label='Val Loss')\n",
    "\n",
    "# Add labels and title\n",
    "plt.xlabel('Index')\n",
    "plt.ylabel('Value')\n",
    "plt.title('Float Array Plot')\n",
    "plt.legend()\n",
    "\n",
    "plt.grid(True)\n",
    "plt.show()"
   ]
  },
  {
   "cell_type": "code",
   "execution_count": null,
   "metadata": {},
   "outputs": [
    {
     "data": {
      "image/png": "[encoded data removed]",
      "text/plain": [
       "<Figure size 640x480 with 1 Axes>"
      ]
     },
     "metadata": {},
     "output_type": "display_data"
    }
   ],
   "source": [
    "startPoint=20\n",
    "da_array = DAvals[startPoint:]\n",
    "# Create an x-axis for the data points\n",
    "x = np.arange(len(da_array))\n",
    "\n",
    "# Plot the graph\n",
    "plt.plot(x, da_array, marker='o', linestyle='-', color='b', label='Directional Succsess')\n",
    "# Add labels and title\n",
    "plt.xlabel('Index')\n",
    "plt.ylabel('Value')\n",
    "plt.title('Float Array Plot')\n",
    "plt.legend()\n",
    "\n",
    "plt.grid(True)\n",
    "plt.show()"
   ]
  },
  {
   "cell_type": "code",
   "execution_count": null,
   "metadata": {},
   "outputs": [
    {
     "name": "stdout",
     "output_type": "stream",
     "text": [
      "Test Input Shape: torch.Size([32, 7, 7])\n",
      "Predicted Output Shape: torch.Size([32])\n",
      "First Prediction: 22.024295806884766\n",
      "Actual Output (First Target): 24.29424476623535\n"
     ]
    },
    {
     "data": {
      "text/plain": [
       "tensor([22.0243, 22.0228, 21.9584, 22.0228, 22.0229, 22.0255, 22.0229, 22.0229,\n",
       "        22.0229, 22.0230, 21.7241, 22.0229, 22.0229, 22.0229, 22.0230, 20.9263,\n",
       "        22.0228, 21.8627, 22.0235, 20.9506, 21.9365, 22.0234, 22.0238, 21.6591,\n",
       "        22.0228, 22.0229, 22.0229, 22.0235, 22.0266, 22.0231, 22.0227, 22.0229],\n",
       "       device='cuda:0')"
      ]
     },
     "execution_count": 66,
     "metadata": {},
     "output_type": "execute_result"
    }
   ],
   "source": [
    "# Extract one batch of data for testing\n",
    "model.to(device)\n",
    "for sequences, targets, name in train_loader:\n",
    "    testInput = sequences.to(device)  # Sequence data\n",
    "    # testInput.to(device)\n",
    "    print(f\"Test Input Shape: {testInput.shape}\")\n",
    "    realOutput = targets   # Ground truth output\n",
    "    break\n",
    "\n",
    "# Ensure the model is in evaluation mode\n",
    "model.eval()\n",
    "\n",
    "# Predict using the model\n",
    "with torch.no_grad():  # Disable gradient calculations for inference\n",
    "    predicted = model(testInput).squeeze()  # Forward pass through the model\n",
    "\n",
    "# Check shapes and results\n",
    "print(f\"Predicted Output Shape: {predicted.shape}\")\n",
    "print(f\"First Prediction: {predicted[0].item()}\")\n",
    "print(f\"Actual Output (First Target): {realOutput[0].item()}\")\n",
    "\n",
    "predicted\n",
    "# testInput.shape"
   ]
  },
  {
   "cell_type": "code",
   "execution_count": 67,
   "metadata": {},
   "outputs": [
    {
     "data": {
      "text/plain": [
       "tensor([24.2942, 21.6720, 17.8864, 16.9488, 21.6909, 21.1853, 18.9113, 19.3737,\n",
       "        21.6331, 21.9316, 19.4545, 20.6627, 21.4087, 21.8962, 20.7968, 23.6905,\n",
       "        21.3292, 19.5903, 18.2252, 22.1843, 20.1580, 23.0305, 23.7830, 25.9998,\n",
       "        19.0670, 25.0667, 17.9985, 21.3697, 24.4653, 22.1478, 21.9370, 22.4500])"
      ]
     },
     "execution_count": 67,
     "metadata": {},
     "output_type": "execute_result"
    }
   ],
   "source": [
    "realOutput"
   ]
  }
 ],
 "metadata": {
  "kernelspec": {
   "display_name": "ml",
   "language": "python",
   "name": "python3"
  },
  "language_info": {
   "codemirror_mode": {
    "name": "ipython",
    "version": 3
   },
   "file_extension": ".py",
   "mimetype": "text/x-python",
   "name": "python",
   "nbconvert_exporter": "python",
   "pygments_lexer": "ipython3",
   "version": "3.10.16"
  }
 },
 "nbformat": 4,
 "nbformat_minor": 2
}
