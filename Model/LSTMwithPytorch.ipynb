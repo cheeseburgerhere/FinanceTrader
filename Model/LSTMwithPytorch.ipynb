{
 "cells": [
  {
   "cell_type": "code",
   "execution_count": 1,
   "metadata": {},
   "outputs": [],
   "source": [
    "import numpy as np\n",
    "import torch\n",
    "import torch.nn as nn\n",
    "from torch.utils.data import DataLoader, Dataset\n",
    "import pandas as pd\n",
    "import os"
   ]
  },
  {
   "cell_type": "markdown",
   "metadata": {},
   "source": [
    "## Good combs\n",
    "\n",
    "->\n",
    "hidden_size = 50      \n",
    "num_layers = 3        \n",
    "output_size = 1       \n",
    "learning_rate = 0.0001\n",
    "\n",
    "val_loss= ~0.017"
   ]
  },
  {
   "cell_type": "code",
   "execution_count": 2,
   "metadata": {},
   "outputs": [],
   "source": [
    "\n",
    "# Hyperparameters\n",
    "lookback_window = 7  # Number of time steps\n",
    "#I don't have any idea which number is best\n",
    "# from past test it looks like model has an understanding of general trend of the stock\n",
    "# but not the specific chracteristics of the stock\n",
    "# chatgpt recommends me to increase lookback window\n",
    "input_size = 6        # Number of features (univariate = 1)\n",
    "output_size = 1       # Predicting one value\n",
    "hidden_size = 50      # Number of LSTM neurons\n",
    "num_layers = 3        # Number of LSTM layers\n",
    "learning_rate = 0.0001\n",
    "epochs = 40\n",
    "batch_size = 32\n",
    "\n",
    "#TODO: USD/TRY exchange rate input\n",
    "#TODO: Faiz Enflasyon ve Piyasa Katılımcıları Anketi input\n",
    "\n",
    "#TODO: Takas Verisi (model iyi sonuçlar vermezse son çare olarak kullanılabilir)\n",
    "\n",
    "#TODO: Vadeli İşlem ve Opsiyon Borsası (VIOP) input (Çok karmaşıklaştırıyor gelecekte belki)\n",
    "#TODO: Anlık Aracı Kurum Dağılımı  (çok karıştırabilir)\n",
    "\n"
   ]
  },
  {
   "cell_type": "code",
   "execution_count": 3,
   "metadata": {},
   "outputs": [],
   "source": [
    "dataLocation=\"../Data/StandardizedData\"\n",
    "allcsvs=os.listdir(dataLocation)\n",
    "# turn float64 to float 32"
   ]
  },
  {
   "cell_type": "code",
   "execution_count": 4,
   "metadata": {},
   "outputs": [],
   "source": [
    "unnecessaryColumns=[\"Date\",\"Pct_Change\"]\n",
    "\n",
    "from Scaler import Scaler\n",
    "\n",
    "scaler = Scaler(0,50)\n",
    "\n",
    "\n",
    "def df_to_X_y(df,window_size=5):\n",
    "  lightWeightDf=df.drop(columns=unnecessaryColumns)\n",
    "  # print(lightWeightDf)\n",
    "  # changeMatrix=lightWeightDf.copy()\n",
    "  # changeMatrix[\"Open\"]=changeMatrix[\"Open\"].pct_change()\n",
    "  # changeMatrix[\"High\"]=changeMatrix[\"High\"].pct_change()\n",
    "  # changeMatrix[\"Low\"]=changeMatrix[\"Low\"].pct_change()\n",
    "  # changeMatrix[\"Close\"]=changeMatrix[\"Close\"].pct_change()\n",
    "  # changeMatrix[\"Volume\"]=changeMatrix[\"Volume\"].pct_change()\n",
    "  # changeMatrix.dropna(inplace=True)\n",
    "  # changeMatrix.fillna(0,inplace=True)\n",
    "  # df_as_np = scaler.fit_transform(lightWeightDf.to_numpy())\n",
    "  df_as_np = lightWeightDf.to_numpy()\n",
    "  X = []\n",
    "  y = []\n",
    "  for i in range(len(df_as_np)-window_size):\n",
    "    row = [a for a in df_as_np[i:i+window_size]]\n",
    "    X.append(row)\n",
    "    label = df_as_np[i+window_size,3]\n",
    "    y.append(label)\n",
    "  return np.array(X), np.array(y)"
   ]
  },
  {
   "cell_type": "code",
   "execution_count": 5,
   "metadata": {},
   "outputs": [],
   "source": [
    "XAll = np.zeros(1, dtype=np.int32)\n",
    "yAll = np.zeros(1, dtype=np.int32)\n",
    "\n",
    "for i in range(len(allcsvs)):\n",
    "    rawData=pd.read_csv(os.path.join(dataLocation,allcsvs[i]))\n",
    "    Xtemp,yTemp=df_to_X_y(rawData, lookback_window)\n",
    "    if(XAll.shape[0] == 1 and yAll.shape[0] == 1):\n",
    "        XAll=Xtemp\n",
    "        yAll=yTemp\n",
    "    else:\n",
    "        XAll=np.concatenate((XAll,Xtemp),axis=0)\n",
    "        yAll=np.concatenate((yAll,yTemp),axis=0)\n",
    "XAll=scaler.fit_transform(XAll)\n",
    "yAll=scaler.fit_transform(yAll)\n",
    "\n",
    "# I have to store all of the rawData accurately because I need them afterwards\n",
    "# or I can make a huge tensor and store all of them in it\n",
    "# but this raises concerns about the time series consistency"
   ]
  },
  {
   "cell_type": "code",
   "execution_count": 6,
   "metadata": {},
   "outputs": [
    {
     "data": {
      "text/plain": [
       "((57412, 7, 6), (57412,))"
      ]
     },
     "execution_count": 6,
     "metadata": {},
     "output_type": "execute_result"
    }
   ],
   "source": [
    "XAll.shape, yAll.shape"
   ]
  },
  {
   "cell_type": "code",
   "execution_count": 7,
   "metadata": {},
   "outputs": [],
   "source": [
    "def shuffle_data(X, y):\n",
    "    \"\"\"\n",
    "    Shuffle the data while maintaining the correspondence between X and y.\n",
    "\n",
    "    Parameters:\n",
    "    X (numpy.ndarray): The input features tensor.\n",
    "    y (numpy.ndarray): The target array.\n",
    "\n",
    "    Returns:\n",
    "    tuple: Shuffled X and y tensors.\n",
    "    \"\"\"\n",
    "    assert len(X) == len(y), \"X and y must have the same length.\"\n",
    "    \n",
    "    # Generate a random permutation of indices\n",
    "    #TODO add a seed for reproducibility\n",
    "    #add seed to the code below\n",
    "    np.random.seed(42)\n",
    "    indices = np.random.permutation(len(X))\n",
    "    # print(indices[:5])\n",
    "    # Shuffle X and y\n",
    "    X_shuffled = X[indices]\n",
    "    y_shuffled = y[indices]\n",
    "    \n",
    "    return X_shuffled, y_shuffled"
   ]
  },
  {
   "cell_type": "code",
   "execution_count": 8,
   "metadata": {},
   "outputs": [],
   "source": [
    "X_shuffled, y_shuffled = shuffle_data(XAll, yAll)"
   ]
  },
  {
   "cell_type": "code",
   "execution_count": 9,
   "metadata": {},
   "outputs": [],
   "source": [
    "class TimeSeriesDataset(Dataset):\n",
    "    def __init__(self, X_shuffled, y_shuffled):\n",
    "        # #NOTE shuffling is automatically done in the dataloader\n",
    "        # X_shuffled, y_shuffled = shuffle_data(X, y)\n",
    "        self.dataX = torch.tensor(X_shuffled, dtype=torch.float32)\n",
    "        self.dataY = torch.tensor(y_shuffled, dtype=torch.float32)\n",
    "        \n",
    "    def __len__(self):\n",
    "        return self.dataX.size(0)\n",
    "\n",
    "    def __getitem__(self, idx):\n",
    "        sequence = self.dataX[idx, :]\n",
    "        target = self.dataY[idx]\n",
    "        return sequence, target\n",
    "\n",
    "# LSTM Model\n",
    "class LSTMModel(nn.Module):\n",
    "    def __init__(self, input_size, hidden_size, num_layers, output_size):\n",
    "        super(LSTMModel, self).__init__()\n",
    "        self.lstm = nn.LSTM(input_size, hidden_size, num_layers, batch_first=True, bidirectional=False)\n",
    "        self.fc = nn.Linear(hidden_size, output_size)\n",
    "\n",
    "    def forward(self, x):\n",
    "        output, _ = self.lstm(x)\n",
    "        last_output = output[:, -1, :]  # Take the output at the last time step\n",
    "        return self.fc(last_output)\n",
    "    \n",
    "    # def init_weights(module):\n",
    "    #     if isinstance(module, nn.LSTM):\n",
    "    #         nn.init.xavier_normal_(module.weight_ih_l0)\n",
    "    #         nn.init.xavier_normal_(module.weight_hh_l0)\n",
    "    #         if module.is_bidirectional:\n",
    "    #             nn.init.xavier_normal_(module.weight_ih_l0_reverse)\n",
    "    #             nn.init.xavier_normal_(module.weight_hh_l0_reverse) \n"
   ]
  },
  {
   "cell_type": "code",
   "execution_count": 10,
   "metadata": {},
   "outputs": [
    {
     "name": "stdout",
     "output_type": "stream",
     "text": [
      "Using cuda\n"
     ]
    }
   ],
   "source": [
    "device = torch.device('cuda') if torch.cuda.is_available() else torch.device('cpu')\n",
    "print(f\"Using {device}\")"
   ]
  },
  {
   "cell_type": "code",
   "execution_count": 11,
   "metadata": {},
   "outputs": [],
   "source": [
    "X_train = X_shuffled[:int(0.8*len(X_shuffled))]\n",
    "y_train = y_shuffled[:int(0.8*len(y_shuffled))]\n",
    "X_val = X_shuffled[int(0.8*len(X_shuffled)):]\n",
    "y_val = y_shuffled[int(0.8*len(y_shuffled)):]"
   ]
  },
  {
   "cell_type": "code",
   "execution_count": 12,
   "metadata": {},
   "outputs": [],
   "source": [
    "trainDataset = TimeSeriesDataset(X_train, y_train)\n",
    "train_loader = DataLoader(trainDataset, batch_size=batch_size, shuffle=False)\n",
    "#Dataset for validation\n",
    "valDataset = TimeSeriesDataset(X_val, y_val)\n",
    "val_loader = DataLoader(valDataset, batch_size=batch_size, shuffle=False)\n",
    "\n",
    "# Cross-validation: On non-overlapping sequential splits for evaluation."
   ]
  },
  {
   "cell_type": "code",
   "execution_count": 13,
   "metadata": {},
   "outputs": [],
   "source": [
    "def train_one_epoch(model,optimizer,criterion,train_loader):\n",
    "    model.train()\n",
    "    model.to(device)\n",
    "    epoch_loss = 0\n",
    "\n",
    "    for sequences, targets in train_loader:\n",
    "        sequences, targets = sequences.to(device), targets.to(device)\n",
    "        optimizer.zero_grad()\n",
    "        outputs = model(sequences)\n",
    "        loss = criterion(outputs.squeeze(), targets)\n",
    "        loss.backward()\n",
    "        optimizer.step()\n",
    "        \n",
    "        epoch_loss += loss.item()\n",
    "    return epoch_loss\n",
    "    # print(f\"Epoch {epoch+1}/{epochs}, Loss: {epoch_loss / len(train_loader):.4f}\")\n",
    "    \n",
    "\n",
    "\n",
    "def validate(model,criterion,val_loader):\n",
    "    model.eval()\n",
    "    model.to(device)\n",
    "    val_loss = 0\n",
    "\n",
    "    with torch.no_grad():\n",
    "        for sequences, targets in val_loader:\n",
    "            sequences, targets = sequences.to(device), targets.to(device)\n",
    "            outputs = model(sequences)\n",
    "            loss = criterion(outputs.squeeze(), targets)\n",
    "            val_loss += loss.item()\n",
    "    return val_loss\n",
    "    # print(f\"Validation Loss: {val_loss / len(val_loader):.4f}\")"
   ]
  },
  {
   "cell_type": "markdown",
   "metadata": {},
   "source": [
    "## Some Potenetial Metrics to evaluate models\n",
    "\n",
    "\n",
    "Directional Accuracy\n",
    "Measures how often the predicted direction (up or down) matches the actual direction.\n",
    "Formula: \n",
    "DA=Number of Correct Directions/Total Predictions\n",
    "\n",
    "Cons: Ignores magnitude of errors.\n",
    "\n",
    "## OR\n",
    "Profit and Loss (PnL) simulation for trading applications."
   ]
  },
  {
   "cell_type": "code",
   "execution_count": 14,
   "metadata": {},
   "outputs": [],
   "source": [
    "# Initialize model, loss function, and optimizer\n",
    "model = LSTMModel(input_size, hidden_size, num_layers, output_size)\n",
    "criterion = nn.MSELoss()\n",
    "optimizer = torch.optim.Adam(model.parameters(), lr=learning_rate)"
   ]
  },
  {
   "cell_type": "code",
   "execution_count": 15,
   "metadata": {},
   "outputs": [
    {
     "name": "stdout",
     "output_type": "stream",
     "text": [
      "Epoch 1/40, Loss: 20.0949, Validation Loss: 14.8678\n",
      "Epoch 2/40, Loss: 12.3142, Validation Loss: 9.7450\n"
     ]
    },
    {
     "ename": "KeyboardInterrupt",
     "evalue": "",
     "output_type": "error",
     "traceback": [
      "\u001b[1;31m---------------------------------------------------------------------------\u001b[0m",
      "\u001b[1;31mKeyboardInterrupt\u001b[0m                         Traceback (most recent call last)",
      "Cell \u001b[1;32mIn[15], line 6\u001b[0m\n\u001b[0;32m      3\u001b[0m \u001b[38;5;66;03m# Training loop\u001b[39;00m\n\u001b[0;32m      4\u001b[0m \u001b[38;5;28;01mfor\u001b[39;00m epoch \u001b[38;5;129;01min\u001b[39;00m \u001b[38;5;28mrange\u001b[39m(epochs):\n\u001b[1;32m----> 6\u001b[0m     epoch_loss\u001b[38;5;241m=\u001b[39m\u001b[43mtrain_one_epoch\u001b[49m\u001b[43m(\u001b[49m\u001b[43mmodel\u001b[49m\u001b[43m,\u001b[49m\u001b[43moptimizer\u001b[49m\u001b[43m,\u001b[49m\u001b[43mcriterion\u001b[49m\u001b[43m,\u001b[49m\u001b[43mtrain_loader\u001b[49m\u001b[43m)\u001b[49m\n\u001b[0;32m      7\u001b[0m     val_loss\u001b[38;5;241m=\u001b[39mvalidate(model,criterion,val_loader)\n\u001b[0;32m      8\u001b[0m     valLosses\u001b[38;5;241m.\u001b[39mappend(val_loss)\n",
      "Cell \u001b[1;32mIn[13], line 9\u001b[0m, in \u001b[0;36mtrain_one_epoch\u001b[1;34m(model, optimizer, criterion, train_loader)\u001b[0m\n\u001b[0;32m      7\u001b[0m sequences, targets \u001b[38;5;241m=\u001b[39m sequences\u001b[38;5;241m.\u001b[39mto(device), targets\u001b[38;5;241m.\u001b[39mto(device)\n\u001b[0;32m      8\u001b[0m optimizer\u001b[38;5;241m.\u001b[39mzero_grad()\n\u001b[1;32m----> 9\u001b[0m outputs \u001b[38;5;241m=\u001b[39m \u001b[43mmodel\u001b[49m\u001b[43m(\u001b[49m\u001b[43msequences\u001b[49m\u001b[43m)\u001b[49m\n\u001b[0;32m     10\u001b[0m loss \u001b[38;5;241m=\u001b[39m criterion(outputs\u001b[38;5;241m.\u001b[39msqueeze(), targets)\n\u001b[0;32m     11\u001b[0m loss\u001b[38;5;241m.\u001b[39mbackward()\n",
      "File \u001b[1;32mc:\\Users\\alt_user\\anaconda3\\envs\\tf\\lib\\site-packages\\torch\\nn\\modules\\module.py:1553\u001b[0m, in \u001b[0;36mModule._wrapped_call_impl\u001b[1;34m(self, *args, **kwargs)\u001b[0m\n\u001b[0;32m   1551\u001b[0m     \u001b[38;5;28;01mreturn\u001b[39;00m \u001b[38;5;28mself\u001b[39m\u001b[38;5;241m.\u001b[39m_compiled_call_impl(\u001b[38;5;241m*\u001b[39margs, \u001b[38;5;241m*\u001b[39m\u001b[38;5;241m*\u001b[39mkwargs)  \u001b[38;5;66;03m# type: ignore[misc]\u001b[39;00m\n\u001b[0;32m   1552\u001b[0m \u001b[38;5;28;01melse\u001b[39;00m:\n\u001b[1;32m-> 1553\u001b[0m     \u001b[38;5;28;01mreturn\u001b[39;00m \u001b[38;5;28mself\u001b[39m\u001b[38;5;241m.\u001b[39m_call_impl(\u001b[38;5;241m*\u001b[39margs, \u001b[38;5;241m*\u001b[39m\u001b[38;5;241m*\u001b[39mkwargs)\n",
      "File \u001b[1;32mc:\\Users\\alt_user\\anaconda3\\envs\\tf\\lib\\site-packages\\torch\\nn\\modules\\module.py:1562\u001b[0m, in \u001b[0;36mModule._call_impl\u001b[1;34m(self, *args, **kwargs)\u001b[0m\n\u001b[0;32m   1557\u001b[0m \u001b[38;5;66;03m# If we don't have any hooks, we want to skip the rest of the logic in\u001b[39;00m\n\u001b[0;32m   1558\u001b[0m \u001b[38;5;66;03m# this function, and just call forward.\u001b[39;00m\n\u001b[0;32m   1559\u001b[0m \u001b[38;5;28;01mif\u001b[39;00m \u001b[38;5;129;01mnot\u001b[39;00m (\u001b[38;5;28mself\u001b[39m\u001b[38;5;241m.\u001b[39m_backward_hooks \u001b[38;5;129;01mor\u001b[39;00m \u001b[38;5;28mself\u001b[39m\u001b[38;5;241m.\u001b[39m_backward_pre_hooks \u001b[38;5;129;01mor\u001b[39;00m \u001b[38;5;28mself\u001b[39m\u001b[38;5;241m.\u001b[39m_forward_hooks \u001b[38;5;129;01mor\u001b[39;00m \u001b[38;5;28mself\u001b[39m\u001b[38;5;241m.\u001b[39m_forward_pre_hooks\n\u001b[0;32m   1560\u001b[0m         \u001b[38;5;129;01mor\u001b[39;00m _global_backward_pre_hooks \u001b[38;5;129;01mor\u001b[39;00m _global_backward_hooks\n\u001b[0;32m   1561\u001b[0m         \u001b[38;5;129;01mor\u001b[39;00m _global_forward_hooks \u001b[38;5;129;01mor\u001b[39;00m _global_forward_pre_hooks):\n\u001b[1;32m-> 1562\u001b[0m     \u001b[38;5;28;01mreturn\u001b[39;00m forward_call(\u001b[38;5;241m*\u001b[39margs, \u001b[38;5;241m*\u001b[39m\u001b[38;5;241m*\u001b[39mkwargs)\n\u001b[0;32m   1564\u001b[0m \u001b[38;5;28;01mtry\u001b[39;00m:\n\u001b[0;32m   1565\u001b[0m     result \u001b[38;5;241m=\u001b[39m \u001b[38;5;28;01mNone\u001b[39;00m\n",
      "Cell \u001b[1;32mIn[9], line 24\u001b[0m, in \u001b[0;36mLSTMModel.forward\u001b[1;34m(self, x)\u001b[0m\n\u001b[0;32m     23\u001b[0m \u001b[38;5;28;01mdef\u001b[39;00m \u001b[38;5;21mforward\u001b[39m(\u001b[38;5;28mself\u001b[39m, x):\n\u001b[1;32m---> 24\u001b[0m     output, _ \u001b[38;5;241m=\u001b[39m \u001b[38;5;28;43mself\u001b[39;49m\u001b[38;5;241;43m.\u001b[39;49m\u001b[43mlstm\u001b[49m\u001b[43m(\u001b[49m\u001b[43mx\u001b[49m\u001b[43m)\u001b[49m\n\u001b[0;32m     25\u001b[0m     last_output \u001b[38;5;241m=\u001b[39m output[:, \u001b[38;5;241m-\u001b[39m\u001b[38;5;241m1\u001b[39m, :]  \u001b[38;5;66;03m# Take the output at the last time step\u001b[39;00m\n\u001b[0;32m     26\u001b[0m     \u001b[38;5;28;01mreturn\u001b[39;00m \u001b[38;5;28mself\u001b[39m\u001b[38;5;241m.\u001b[39mfc(last_output)\n",
      "File \u001b[1;32mc:\\Users\\alt_user\\anaconda3\\envs\\tf\\lib\\site-packages\\torch\\nn\\modules\\module.py:1553\u001b[0m, in \u001b[0;36mModule._wrapped_call_impl\u001b[1;34m(self, *args, **kwargs)\u001b[0m\n\u001b[0;32m   1551\u001b[0m     \u001b[38;5;28;01mreturn\u001b[39;00m \u001b[38;5;28mself\u001b[39m\u001b[38;5;241m.\u001b[39m_compiled_call_impl(\u001b[38;5;241m*\u001b[39margs, \u001b[38;5;241m*\u001b[39m\u001b[38;5;241m*\u001b[39mkwargs)  \u001b[38;5;66;03m# type: ignore[misc]\u001b[39;00m\n\u001b[0;32m   1552\u001b[0m \u001b[38;5;28;01melse\u001b[39;00m:\n\u001b[1;32m-> 1553\u001b[0m     \u001b[38;5;28;01mreturn\u001b[39;00m \u001b[38;5;28mself\u001b[39m\u001b[38;5;241m.\u001b[39m_call_impl(\u001b[38;5;241m*\u001b[39margs, \u001b[38;5;241m*\u001b[39m\u001b[38;5;241m*\u001b[39mkwargs)\n",
      "File \u001b[1;32mc:\\Users\\alt_user\\anaconda3\\envs\\tf\\lib\\site-packages\\torch\\nn\\modules\\module.py:1562\u001b[0m, in \u001b[0;36mModule._call_impl\u001b[1;34m(self, *args, **kwargs)\u001b[0m\n\u001b[0;32m   1557\u001b[0m \u001b[38;5;66;03m# If we don't have any hooks, we want to skip the rest of the logic in\u001b[39;00m\n\u001b[0;32m   1558\u001b[0m \u001b[38;5;66;03m# this function, and just call forward.\u001b[39;00m\n\u001b[0;32m   1559\u001b[0m \u001b[38;5;28;01mif\u001b[39;00m \u001b[38;5;129;01mnot\u001b[39;00m (\u001b[38;5;28mself\u001b[39m\u001b[38;5;241m.\u001b[39m_backward_hooks \u001b[38;5;129;01mor\u001b[39;00m \u001b[38;5;28mself\u001b[39m\u001b[38;5;241m.\u001b[39m_backward_pre_hooks \u001b[38;5;129;01mor\u001b[39;00m \u001b[38;5;28mself\u001b[39m\u001b[38;5;241m.\u001b[39m_forward_hooks \u001b[38;5;129;01mor\u001b[39;00m \u001b[38;5;28mself\u001b[39m\u001b[38;5;241m.\u001b[39m_forward_pre_hooks\n\u001b[0;32m   1560\u001b[0m         \u001b[38;5;129;01mor\u001b[39;00m _global_backward_pre_hooks \u001b[38;5;129;01mor\u001b[39;00m _global_backward_hooks\n\u001b[0;32m   1561\u001b[0m         \u001b[38;5;129;01mor\u001b[39;00m _global_forward_hooks \u001b[38;5;129;01mor\u001b[39;00m _global_forward_pre_hooks):\n\u001b[1;32m-> 1562\u001b[0m     \u001b[38;5;28;01mreturn\u001b[39;00m forward_call(\u001b[38;5;241m*\u001b[39margs, \u001b[38;5;241m*\u001b[39m\u001b[38;5;241m*\u001b[39mkwargs)\n\u001b[0;32m   1564\u001b[0m \u001b[38;5;28;01mtry\u001b[39;00m:\n\u001b[0;32m   1565\u001b[0m     result \u001b[38;5;241m=\u001b[39m \u001b[38;5;28;01mNone\u001b[39;00m\n",
      "File \u001b[1;32mc:\\Users\\alt_user\\anaconda3\\envs\\tf\\lib\\site-packages\\torch\\nn\\modules\\rnn.py:917\u001b[0m, in \u001b[0;36mLSTM.forward\u001b[1;34m(self, input, hx)\u001b[0m\n\u001b[0;32m    914\u001b[0m         hx \u001b[38;5;241m=\u001b[39m \u001b[38;5;28mself\u001b[39m\u001b[38;5;241m.\u001b[39mpermute_hidden(hx, sorted_indices)\n\u001b[0;32m    916\u001b[0m \u001b[38;5;28;01mif\u001b[39;00m batch_sizes \u001b[38;5;129;01mis\u001b[39;00m \u001b[38;5;28;01mNone\u001b[39;00m:\n\u001b[1;32m--> 917\u001b[0m     result \u001b[38;5;241m=\u001b[39m \u001b[43m_VF\u001b[49m\u001b[38;5;241;43m.\u001b[39;49m\u001b[43mlstm\u001b[49m\u001b[43m(\u001b[49m\u001b[38;5;28;43minput\u001b[39;49m\u001b[43m,\u001b[49m\u001b[43m \u001b[49m\u001b[43mhx\u001b[49m\u001b[43m,\u001b[49m\u001b[43m \u001b[49m\u001b[38;5;28;43mself\u001b[39;49m\u001b[38;5;241;43m.\u001b[39;49m\u001b[43m_flat_weights\u001b[49m\u001b[43m,\u001b[49m\u001b[43m \u001b[49m\u001b[38;5;28;43mself\u001b[39;49m\u001b[38;5;241;43m.\u001b[39;49m\u001b[43mbias\u001b[49m\u001b[43m,\u001b[49m\u001b[43m \u001b[49m\u001b[38;5;28;43mself\u001b[39;49m\u001b[38;5;241;43m.\u001b[39;49m\u001b[43mnum_layers\u001b[49m\u001b[43m,\u001b[49m\n\u001b[0;32m    918\u001b[0m \u001b[43m                      \u001b[49m\u001b[38;5;28;43mself\u001b[39;49m\u001b[38;5;241;43m.\u001b[39;49m\u001b[43mdropout\u001b[49m\u001b[43m,\u001b[49m\u001b[43m \u001b[49m\u001b[38;5;28;43mself\u001b[39;49m\u001b[38;5;241;43m.\u001b[39;49m\u001b[43mtraining\u001b[49m\u001b[43m,\u001b[49m\u001b[43m \u001b[49m\u001b[38;5;28;43mself\u001b[39;49m\u001b[38;5;241;43m.\u001b[39;49m\u001b[43mbidirectional\u001b[49m\u001b[43m,\u001b[49m\u001b[43m \u001b[49m\u001b[38;5;28;43mself\u001b[39;49m\u001b[38;5;241;43m.\u001b[39;49m\u001b[43mbatch_first\u001b[49m\u001b[43m)\u001b[49m\n\u001b[0;32m    919\u001b[0m \u001b[38;5;28;01melse\u001b[39;00m:\n\u001b[0;32m    920\u001b[0m     result \u001b[38;5;241m=\u001b[39m _VF\u001b[38;5;241m.\u001b[39mlstm(\u001b[38;5;28minput\u001b[39m, batch_sizes, hx, \u001b[38;5;28mself\u001b[39m\u001b[38;5;241m.\u001b[39m_flat_weights, \u001b[38;5;28mself\u001b[39m\u001b[38;5;241m.\u001b[39mbias,\n\u001b[0;32m    921\u001b[0m                       \u001b[38;5;28mself\u001b[39m\u001b[38;5;241m.\u001b[39mnum_layers, \u001b[38;5;28mself\u001b[39m\u001b[38;5;241m.\u001b[39mdropout, \u001b[38;5;28mself\u001b[39m\u001b[38;5;241m.\u001b[39mtraining, \u001b[38;5;28mself\u001b[39m\u001b[38;5;241m.\u001b[39mbidirectional)\n",
      "\u001b[1;31mKeyboardInterrupt\u001b[0m: "
     ]
    }
   ],
   "source": [
    "\n",
    "valLosses=[]\n",
    "trainLosses=[]\n",
    "# Training loop\n",
    "for epoch in range(epochs):\n",
    "\n",
    "    epoch_loss=train_one_epoch(model,optimizer,criterion,train_loader)\n",
    "    val_loss=validate(model,criterion,val_loader)\n",
    "    valLosses.append(val_loss)\n",
    "    trainLosses.append(epoch_loss)\n",
    "    print(f\"Epoch {epoch+1}/{epochs}, Loss: {epoch_loss / len(train_loader):.4f}, Validation Loss: {val_loss / len(val_loader):.4f}\")"
   ]
  },
  {
   "cell_type": "code",
   "execution_count": null,
   "metadata": {},
   "outputs": [
    {
     "data": {
      "image/png": "[encoded data removed]",
      "text/plain": [
       "<Figure size 640x480 with 1 Axes>"
      ]
     },
     "metadata": {},
     "output_type": "display_data"
    }
   ],
   "source": [
    "import matplotlib.pyplot as plt\n",
    "import numpy as np\n",
    "startPoint=20\n",
    "# Example float array\n",
    "val_array = valLosses[startPoint:]\n",
    "train_array = trainLosses[startPoint:]\n",
    "\n",
    "# Create an x-axis for the data points\n",
    "x = np.arange(len(train_array))\n",
    "y = np.arange(len(val_array))\n",
    "\n",
    "# Plot the graph\n",
    "plt.plot(x, train_array, marker='o', linestyle='-', color='b', label='Train Loss')\n",
    "plt.plot(y, val_array, marker='o', linestyle='-', color='r', label='Val Loss')\n",
    "\n",
    "# Add labels and title\n",
    "plt.xlabel('Index')\n",
    "plt.ylabel('Value')\n",
    "plt.title('Float Array Plot')\n",
    "plt.legend()\n",
    "\n",
    "# Show the plot\n",
    "plt.grid(True)\n",
    "plt.show()"
   ]
  },
  {
   "cell_type": "code",
   "execution_count": 143,
   "metadata": {},
   "outputs": [
    {
     "name": "stdout",
     "output_type": "stream",
     "text": [
      "Test Input Shape: torch.Size([32, 7, 6])\n",
      "Predicted Output Shape: torch.Size([32])\n",
      "First Prediction: 0.045229971408843994\n",
      "Actual Output (First Target): 0.04271427169442177\n"
     ]
    },
    {
     "data": {
      "text/plain": [
       "tensor([4.5230e-02, 1.6486e-02, 2.4266e-01, 1.6760e-02, 2.3425e-02, 2.1333e-02,\n",
       "        5.7698e-03, 8.7743e-02, 3.0597e-02, 4.8004e-02, 7.9392e-02, 7.7771e-02,\n",
       "        6.0423e-03, 1.8990e-02, 2.0806e-02, 1.0909e-01, 2.4974e-02, 1.5172e-01,\n",
       "        3.9933e-01, 1.6192e-01, 1.7944e+01, 5.1782e-02, 2.0598e-01, 3.0508e+01,\n",
       "        3.3764e-02, 1.7434e-02, 2.4963e-02, 1.2270e-01, 6.3469e-02, 2.8155e-02,\n",
       "        1.8185e-01, 7.8433e-03], device='cuda:0')"
      ]
     },
     "execution_count": 143,
     "metadata": {},
     "output_type": "execute_result"
    }
   ],
   "source": [
    "# Extract one batch of data for testing\n",
    "model.to(device)\n",
    "for sequences, targets in train_loader:\n",
    "    testInput = sequences.to(device)  # Sequence data\n",
    "    # testInput.to(device)\n",
    "    print(f\"Test Input Shape: {testInput.shape}\")\n",
    "    realOutput = targets   # Ground truth output\n",
    "    break\n",
    "\n",
    "# Ensure the model is in evaluation mode\n",
    "model.eval()\n",
    "\n",
    "# Predict using the model\n",
    "with torch.no_grad():  # Disable gradient calculations for inference\n",
    "    predicted = model(testInput).squeeze()  # Forward pass through the model\n",
    "\n",
    "# Check shapes and results\n",
    "print(f\"Predicted Output Shape: {predicted.shape}\")\n",
    "print(f\"First Prediction: {predicted[0].item()}\")\n",
    "print(f\"Actual Output (First Target): {realOutput[0].item()}\")\n",
    "\n",
    "predicted\n",
    "# testInput.shape"
   ]
  },
  {
   "cell_type": "code",
   "execution_count": 144,
   "metadata": {},
   "outputs": [
    {
     "data": {
      "text/plain": [
       "tensor([4.2714e-02, 1.3052e-02, 2.1574e-01, 8.8532e-03, 1.8071e-02, 1.8761e-02,\n",
       "        1.2616e-03, 8.3142e-02, 2.3698e-02, 5.1450e-02, 7.6398e-02, 7.1266e-02,\n",
       "        5.3477e-03, 1.1943e-02, 1.3763e-02, 1.0939e-01, 2.2065e-02, 1.4621e-01,\n",
       "        3.7303e-01, 1.4807e-01, 1.7945e+01, 5.2223e-02, 2.0659e-01, 3.1335e+01,\n",
       "        3.5885e-02, 9.4360e-03, 2.3699e-02, 1.1157e-01, 6.5198e-02, 2.4801e-02,\n",
       "        1.8301e-01, 3.5260e-03])"
      ]
     },
     "execution_count": 144,
     "metadata": {},
     "output_type": "execute_result"
    }
   ],
   "source": [
    "realOutput"
   ]
  }
 ],
 "metadata": {
  "kernelspec": {
   "display_name": "tf",
   "language": "python",
   "name": "python3"
  },
  "language_info": {
   "codemirror_mode": {
    "name": "ipython",
    "version": 3
   },
   "file_extension": ".py",
   "mimetype": "text/x-python",
   "name": "python",
   "nbconvert_exporter": "python",
   "pygments_lexer": "ipython3",
   "version": "3.9.19"
  }
 },
 "nbformat": 4,
 "nbformat_minor": 2
}
