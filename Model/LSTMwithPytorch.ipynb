{
 "cells": [
  {
   "cell_type": "code",
   "execution_count": 33,
   "metadata": {},
   "outputs": [],
   "source": [
    "import numpy as np\n",
    "import torch\n",
    "import torch.nn as nn\n",
    "from torch.utils.data import DataLoader, Dataset\n",
    "import pandas as pd\n",
    "import os"
   ]
  },
  {
   "cell_type": "code",
   "execution_count": 34,
   "metadata": {},
   "outputs": [],
   "source": [
    "\n",
    "# Hyperparameters\n",
    "lookback_window = 7  # Number of time steps\n",
    "#I don't have any idea which number is best\n",
    "# from past test it looks like model has an understanding of general trend of the stock\n",
    "# but not the specific chracteristics of the stock\n",
    "# chatgpt recommends me to increase lookback window\n",
    "input_size = 6        # Number of features (univariate = 1)\n",
    "output_size = 1       # Predicting one value\n",
    "hidden_size = 100      # Number of LSTM neurons\n",
    "num_layers = 10        # Number of LSTM layers\n",
    "\n",
    "alpha=1 #weight of directional loss\n",
    "learning_rate = 0.0001\n",
    "epochs = 50\n",
    "batch_size = 32\n",
    "\n",
    "#TODO: USD/TRY exchange rate input\n",
    "#TODO: Faiz Enflasyon ve Piyasa Katılımcıları Anketi input\n",
    "\n",
    "#TODO: Takas Verisi (model iyi sonuçlar vermezse son çare olarak kullanılabilir)\n",
    "\n",
    "#TODO: Vadeli İşlem ve Opsiyon Borsası (VIOP) input (Çok karmaşıklaştırıyor gelecekte belki)\n",
    "#TODO: Anlık Aracı Kurum Dağılımı  (çok karıştırabilir)\n",
    "\n"
   ]
  },
  {
   "cell_type": "code",
   "execution_count": 35,
   "metadata": {},
   "outputs": [],
   "source": [
    "dataLocation=\"../Data/StandardizedData\"\n",
    "allcsvs=os.listdir(dataLocation)\n",
    "# turn float64 to float 32"
   ]
  },
  {
   "cell_type": "code",
   "execution_count": 36,
   "metadata": {},
   "outputs": [],
   "source": [
    "unnecessaryColumns=[\"Date\",\"Pct_Change\"]\n",
    "\n",
    "from Scaler import Scaler\n",
    "from sklearn.preprocessing import StandardScaler\n",
    "\n",
    "\n",
    "# Can't do with minMax scaler we need Z scaler\n",
    "#Rewrite Time\n",
    "scaler = Scaler(0,50)\n",
    "zScalerDic={}\n",
    "\n",
    "\n",
    "def df_to_X_y(df,zScaler,window_size=5):\n",
    "  lightWeightDf=df.drop(columns=unnecessaryColumns)\n",
    "  df_as_np = zScaler.fit_transform(lightWeightDf.to_numpy())\n",
    "  # df_as_np = lightWeightDf.to_numpy()\n",
    "\n",
    "  X = []\n",
    "  y = []\n",
    "  for i in range(len(df_as_np)-window_size):\n",
    "    row = [a for a in df_as_np[i:i+window_size]]\n",
    "    X.append(row)\n",
    "    label = df_as_np[i+window_size,3]\n",
    "    y.append(label)\n",
    "  return np.array(X), np.array(y)"
   ]
  },
  {
   "cell_type": "code",
   "execution_count": 37,
   "metadata": {},
   "outputs": [],
   "source": [
    "XAll = np.zeros(1, dtype=np.int32)\n",
    "yAll = np.zeros(1, dtype=np.int32)\n",
    "\n",
    "for i in range(len(allcsvs)):\n",
    "    rawData=pd.read_csv(os.path.join(dataLocation,allcsvs[i]))\n",
    "    currentScaler=StandardScaler()\n",
    "    zScalerDic[allcsvs[i]]=currentScaler\n",
    "    Xtemp,yTemp=df_to_X_y(rawData, currentScaler, lookback_window)\n",
    "    nameTemp=np.array([allcsvs[i]]*yTemp.shape[0])\n",
    "\n",
    "    if(XAll.shape[0] == 1 and yAll.shape[0] == 1):\n",
    "        XAll=Xtemp\n",
    "        yAll=yTemp\n",
    "        nameAll=nameTemp\n",
    "    else:\n",
    "        XAll=np.concatenate((XAll,Xtemp),axis=0)\n",
    "        yAll=np.concatenate((yAll,yTemp),axis=0)\n",
    "        nameAll=np.concatenate((nameAll,nameTemp),axis=0)\n",
    "XAll=scaler.fit_transform(XAll)\n",
    "yAll=scaler.fit_transform(yAll)\n",
    "\n",
    "# I have to store all of the rawData accurately because I need them afterwards\n",
    "# or I can make a huge tensor and store all of them in it\n",
    "# but this raises concerns about the time series consistency"
   ]
  },
  {
   "cell_type": "code",
   "execution_count": 38,
   "metadata": {},
   "outputs": [
    {
     "data": {
      "text/plain": [
       "((57412, 7, 6), (57412,), (57412,))"
      ]
     },
     "execution_count": 38,
     "metadata": {},
     "output_type": "execute_result"
    }
   ],
   "source": [
    "XAll.shape, yAll.shape, nameAll.shape"
   ]
  },
  {
   "cell_type": "code",
   "execution_count": 39,
   "metadata": {},
   "outputs": [],
   "source": [
    "def shuffle_data(X, y, names):\n",
    "    \"\"\"\n",
    "    Shuffle the data while maintaining the correspondence between X and y.\n",
    "\n",
    "    Parameters:\n",
    "    X (numpy.ndarray): The input features tensor.\n",
    "    y (numpy.ndarray): The target array.\n",
    "\n",
    "    Returns:\n",
    "    tuple: Shuffled X and y tensors.\n",
    "    \"\"\"\n",
    "    assert len(X) == len(y), \"X and y must have the same length.\"\n",
    "    assert len(y) == len(names), \"y and names must have the same length.\"\n",
    "\n",
    "    # Generate a random permutation of indices\n",
    "    #TODO add a seed for reproducibility\n",
    "    #add seed to the code below\n",
    "    np.random.seed(42)\n",
    "    indices = np.random.permutation(len(X))\n",
    "    # print(indices[:5])\n",
    "    # Shuffle X and y\n",
    "    X_shuffled = X[indices]\n",
    "    y_shuffled = y[indices]\n",
    "    name_shuffled = names[indices]\n",
    "    \n",
    "    return X_shuffled, y_shuffled, name_shuffled"
   ]
  },
  {
   "cell_type": "code",
   "execution_count": 40,
   "metadata": {},
   "outputs": [],
   "source": [
    "X_shuffled, y_shuffled, name_shuffled = shuffle_data(XAll, yAll, nameAll)"
   ]
  },
  {
   "cell_type": "code",
   "execution_count": 41,
   "metadata": {},
   "outputs": [],
   "source": [
    "class TimeSeriesDataset(Dataset):\n",
    "    def __init__(self, X_shuffled, y_shuffled, name_shuffled):\n",
    "        # #NOTE shuffling is automatically done in the dataloader\n",
    "        # X_shuffled, y_shuffled = shuffle_data(X, y)\n",
    "        self.dataX = torch.tensor(X_shuffled, dtype=torch.float32)\n",
    "        self.dataY = torch.tensor(y_shuffled, dtype=torch.float32)\n",
    "        self.names = name_shuffled\n",
    "        \n",
    "    def __len__(self):\n",
    "        return self.dataX.size(0)\n",
    "\n",
    "    def __getitem__(self, idx):\n",
    "        sequence = self.dataX[idx, :]\n",
    "        target = self.dataY[idx]\n",
    "        name = self.names[idx]\n",
    "        return sequence, target, name\n",
    "\n",
    "\n",
    "#TODO  dropout or batch normalization\n",
    "# LSTM Model\n",
    "class LSTMModel(nn.Module):\n",
    "    def __init__(self, input_size, hidden_size, num_layers, output_size):\n",
    "        super(LSTMModel, self).__init__()\n",
    "        self.lstm = nn.LSTM(input_size, hidden_size, num_layers, batch_first=True, bidirectional=False)\n",
    "        self.fc = nn.Linear(hidden_size, output_size)\n",
    "#try hidden_size*2 if bidirectional is True\n",
    "    def forward(self, x):\n",
    "        output, _ = self.lstm(x)\n",
    "        last_output = output[:, -1, :]  # Take the output at the last time step\n",
    "        return self.fc(last_output)\n"
   ]
  },
  {
   "cell_type": "code",
   "execution_count": 42,
   "metadata": {},
   "outputs": [],
   "source": [
    "import torch.nn.functional as F\n",
    "\n",
    "\n",
    "#TODO test and utilize\n",
    "class AttentionMechanism(nn.Module):\n",
    "    def __init__(self, hidden_dim):\n",
    "        super(AttentionMechanism, self).__init__()\n",
    "        self.attention_weights = nn.Linear(hidden_dim, 1, bias=False)\n",
    "    \n",
    "    def forward(self, lstm_outputs):\n",
    "        # lstm_outputs: [batch_size, seq_len, hidden_dim]\n",
    "        attention_scores = self.attention_weights(lstm_outputs).squeeze(-1)  # [batch_size, seq_len]\n",
    "        attention_weights = F.softmax(attention_scores, dim=1)  # [batch_size, seq_len]\n",
    "        weighted_output = torch.sum(lstm_outputs * attention_weights.unsqueeze(-1), dim=1)  # [batch_size, hidden_dim]\n",
    "        return weighted_output, attention_weights\n",
    "    \n",
    "\n",
    "class LSTMAttentionModel(nn.Module):\n",
    "    def __init__(self, input_dim, hidden_dim, output_dim, num_layers=1, bidirectional=False):\n",
    "        super(LSTMAttentionModel, self).__init__()\n",
    "        self.hidden_dim = hidden_dim\n",
    "        self.num_layers = num_layers\n",
    "        self.bidirectional = bidirectional\n",
    "        self.lstm = nn.LSTM(input_dim, hidden_dim, num_layers, batch_first=True, bidirectional=bidirectional)\n",
    "        self.attention = AttentionMechanism(hidden_dim * (2 if bidirectional else 1))\n",
    "        self.fc = nn.Linear(hidden_dim * (2 if bidirectional else 1), output_dim)\n",
    "    \n",
    "    def forward(self, x):\n",
    "        lstm_out, _ = self.lstm(x)  # [batch_size, seq_len, hidden_dim]\n",
    "        attention_out, attention_weights = self.attention(lstm_out)  # [batch_size, hidden_dim], [batch_size, seq_len]\n",
    "        output = self.fc(attention_out)  # [batch_size, output_dim]\n",
    "        return output, attention_weights"
   ]
  },
  {
   "cell_type": "code",
   "execution_count": 43,
   "metadata": {},
   "outputs": [
    {
     "name": "stdout",
     "output_type": "stream",
     "text": [
      "Using cuda\n"
     ]
    }
   ],
   "source": [
    "device = torch.device('cuda') if torch.cuda.is_available() else torch.device('cpu')\n",
    "print(f\"Using {device}\")"
   ]
  },
  {
   "cell_type": "code",
   "execution_count": 44,
   "metadata": {},
   "outputs": [],
   "source": [
    "X_train = X_shuffled[:int(0.8*len(X_shuffled))]\n",
    "y_train = y_shuffled[:int(0.8*len(y_shuffled))]\n",
    "name_train = name_shuffled[:int(0.8*len(name_shuffled))]\n",
    "\n",
    "X_val = X_shuffled[int(0.8*len(X_shuffled)):]\n",
    "y_val = y_shuffled[int(0.8*len(y_shuffled)):]\n",
    "name_val = name_shuffled[int(0.8*len(name_shuffled)):]"
   ]
  },
  {
   "cell_type": "code",
   "execution_count": 45,
   "metadata": {},
   "outputs": [],
   "source": [
    "trainDataset = TimeSeriesDataset(X_train, y_train,name_train)\n",
    "train_loader = DataLoader(trainDataset, batch_size=batch_size, shuffle=False)\n",
    "#Dataset for validation\n",
    "valDataset = TimeSeriesDataset(X_val, y_val,name_val)\n",
    "val_loader = DataLoader(valDataset, batch_size=batch_size, shuffle=False)\n",
    "\n",
    "# Cross-validation: On non-overlapping sequential splits for evaluation."
   ]
  },
  {
   "cell_type": "code",
   "execution_count": 46,
   "metadata": {},
   "outputs": [],
   "source": [
    "def directional_loss(outputs, targets, sequences):\n",
    "    # Calculate the direction of predictions and actual values\n",
    "    pred_dir = (outputs.squeeze() - sequences[:, -1, 3]) >= 0\n",
    "    true_dir = (targets - sequences[:, -1, 3]) >= 0\n",
    "    # Penalize mismatched directions\n",
    "    mismatches = (pred_dir != true_dir).float()\n",
    "    return mismatches.mean()"
   ]
  },
  {
   "cell_type": "code",
   "execution_count": 47,
   "metadata": {},
   "outputs": [],
   "source": [
    "def train_one_epoch(model,optimizer,criterion,train_loader):\n",
    "    model.train()\n",
    "    model.to(device)\n",
    "    epoch_loss = 0\n",
    "\n",
    "    for sequences, targets, name in train_loader:\n",
    "        sequences, targets = sequences.to(device), targets.to(device)\n",
    "        optimizer.zero_grad()\n",
    "        outputs = model(sequences)\n",
    "        mse=criterion(outputs.squeeze(), targets)\n",
    "        dir_loss = directional_loss(outputs, targets, sequences)\n",
    "\n",
    "        loss = mse + alpha * dir_loss\n",
    "        loss.backward()\n",
    "        optimizer.step()\n",
    "        \n",
    "        epoch_loss += loss.item()\n",
    "    return epoch_loss\n",
    "    # print(f\"Epoch {epoch+1}/{epochs}, Loss: {epoch_loss / len(train_loader):.4f}\")\n",
    "    \n",
    "\n",
    "\n",
    "def validate(model,criterion,val_loader):\n",
    "    model.eval()\n",
    "    model.to(device)\n",
    "    val_loss = 0\n",
    "    DA=0\n",
    "\n",
    "    with torch.no_grad():\n",
    "        for sequences, targets, name in val_loader:\n",
    "            sequences, targets = sequences.to(device), targets.to(device)\n",
    "            outputs = model(sequences)\n",
    "            # loss = criterion(outputs.squeeze(), targets)\n",
    "            dirMatrix=(outputs.squeeze() - sequences[:,-1,3])>=0\n",
    "            truthDirMatrix=(targets - sequences[:,-1,3])>=0\n",
    "\n",
    "            DA+=(dirMatrix==truthDirMatrix).sum().item()\n",
    "            mse=criterion(outputs.squeeze(), targets)\n",
    "            dir_loss = directional_loss(outputs, targets, sequences)\n",
    "\n",
    "            loss = mse + alpha * dir_loss\n",
    "\n",
    "            val_loss += loss.item()\n",
    "    return val_loss, DA\n",
    "    # print(f\"Validation Loss: {val_loss / len(val_loader):.4f}\")"
   ]
  },
  {
   "cell_type": "markdown",
   "metadata": {},
   "source": [
    "## Some Potenetial Metrics to evaluate models\n",
    "\n",
    "Profit and Loss (PnL) simulation for trading applications."
   ]
  },
  {
   "cell_type": "code",
   "execution_count": 48,
   "metadata": {},
   "outputs": [],
   "source": [
    "# Initialize model, loss function, and optimizer\n",
    "model = LSTMModel(input_size, hidden_size, num_layers, output_size)\n",
    "criterion = nn.MSELoss()\n",
    "optimizer = torch.optim.Adam(model.parameters(), lr=learning_rate)"
   ]
  },
  {
   "cell_type": "code",
   "execution_count": 49,
   "metadata": {},
   "outputs": [
    {
     "name": "stdout",
     "output_type": "stream",
     "text": [
      "Epoch 1/50, Loss: 145.4162, Validation Loss: 79.8443, Directional Accuracy: 0.0728\n",
      "Epoch 2/50, Loss: 61.2341, Validation Loss: 24.7746, Directional Accuracy: 0.1253\n",
      "Epoch 3/50, Loss: 13.5465, Validation Loss: 5.8979, Directional Accuracy: 0.1239\n",
      "Epoch 4/50, Loss: 4.2917, Validation Loss: 2.2235, Directional Accuracy: 0.0963\n",
      "Epoch 5/50, Loss: 2.1559, Validation Loss: 1.2046, Directional Accuracy: 0.0758\n",
      "Epoch 6/50, Loss: 1.2561, Validation Loss: 0.4449, Directional Accuracy: 0.1293\n",
      "Epoch 7/50, Loss: 0.8507, Validation Loss: 0.2755, Directional Accuracy: 0.1262\n",
      "Epoch 8/50, Loss: 0.7380, Validation Loss: 0.2237, Directional Accuracy: 0.1268\n",
      "Epoch 9/50, Loss: 0.6985, Validation Loss: 0.1978, Directional Accuracy: 0.1314\n",
      "Epoch 10/50, Loss: 0.6762, Validation Loss: 0.1883, Directional Accuracy: 0.1336\n",
      "Epoch 11/50, Loss: 0.6622, Validation Loss: 0.1814, Directional Accuracy: 0.1347\n",
      "Epoch 12/50, Loss: 0.6525, Validation Loss: 0.1738, Directional Accuracy: 0.1352\n",
      "Epoch 13/50, Loss: 0.6444, Validation Loss: 0.1679, Directional Accuracy: 0.1355\n",
      "Epoch 14/50, Loss: 0.6370, Validation Loss: 0.1641, Directional Accuracy: 0.1353\n",
      "Epoch 15/50, Loss: 0.6311, Validation Loss: 0.1611, Directional Accuracy: 0.1353\n",
      "Epoch 16/50, Loss: 0.6267, Validation Loss: 0.1590, Directional Accuracy: 0.1346\n",
      "Epoch 17/50, Loss: 0.6229, Validation Loss: 0.1572, Directional Accuracy: 0.1336\n",
      "Epoch 18/50, Loss: 0.6194, Validation Loss: 0.1560, Directional Accuracy: 0.1320\n",
      "Epoch 19/50, Loss: 0.6168, Validation Loss: 0.1555, Directional Accuracy: 0.1300\n",
      "Epoch 20/50, Loss: 0.6150, Validation Loss: 0.1552, Directional Accuracy: 0.1272\n",
      "Epoch 21/50, Loss: 0.6145, Validation Loss: 0.1553, Directional Accuracy: 0.1255\n",
      "Epoch 22/50, Loss: 0.6136, Validation Loss: 0.1552, Directional Accuracy: 0.1247\n",
      "Epoch 23/50, Loss: 0.6128, Validation Loss: 0.1551, Directional Accuracy: 0.1243\n",
      "Epoch 24/50, Loss: 0.6105, Validation Loss: 0.1548, Directional Accuracy: 0.1246\n",
      "Epoch 25/50, Loss: 0.6081, Validation Loss: 0.1543, Directional Accuracy: 0.1253\n",
      "Epoch 26/50, Loss: 0.6081, Validation Loss: 0.1539, Directional Accuracy: 0.1256\n",
      "Epoch 27/50, Loss: 0.6069, Validation Loss: 0.1536, Directional Accuracy: 0.1257\n",
      "Epoch 28/50, Loss: 0.6058, Validation Loss: 0.1534, Directional Accuracy: 0.1251\n",
      "Epoch 29/50, Loss: 0.6053, Validation Loss: 0.1533, Directional Accuracy: 0.1247\n",
      "Epoch 30/50, Loss: 0.6029, Validation Loss: 0.1532, Directional Accuracy: 0.1239\n",
      "Epoch 31/50, Loss: 0.6017, Validation Loss: 0.1531, Directional Accuracy: 0.1228\n",
      "Epoch 32/50, Loss: 0.6003, Validation Loss: 0.1530, Directional Accuracy: 0.1224\n",
      "Epoch 33/50, Loss: 0.5988, Validation Loss: 0.1529, Directional Accuracy: 0.1218\n",
      "Epoch 34/50, Loss: 0.5969, Validation Loss: 0.1526, Directional Accuracy: 0.1215\n",
      "Epoch 35/50, Loss: 0.5960, Validation Loss: 0.1525, Directional Accuracy: 0.1212\n",
      "Epoch 36/50, Loss: 0.5945, Validation Loss: 0.1521, Directional Accuracy: 0.1214\n",
      "Epoch 37/50, Loss: 0.5931, Validation Loss: 0.1520, Directional Accuracy: 0.1208\n",
      "Epoch 38/50, Loss: 0.5918, Validation Loss: 0.1518, Directional Accuracy: 0.1207\n",
      "Epoch 39/50, Loss: 0.5902, Validation Loss: 0.1518, Directional Accuracy: 0.1200\n",
      "Epoch 40/50, Loss: 0.5895, Validation Loss: 0.1515, Directional Accuracy: 0.1201\n",
      "Epoch 41/50, Loss: 0.5884, Validation Loss: 0.1514, Directional Accuracy: 0.1202\n",
      "Epoch 42/50, Loss: 0.5881, Validation Loss: 0.1514, Directional Accuracy: 0.1199\n",
      "Epoch 43/50, Loss: 0.5871, Validation Loss: 0.1516, Directional Accuracy: 0.1193\n",
      "Epoch 44/50, Loss: 0.5855, Validation Loss: 0.1519, Directional Accuracy: 0.1174\n",
      "Epoch 45/50, Loss: 0.5838, Validation Loss: 0.1523, Directional Accuracy: 0.1164\n",
      "Epoch 46/50, Loss: 0.5830, Validation Loss: 0.1527, Directional Accuracy: 0.1152\n",
      "Epoch 47/50, Loss: 0.5821, Validation Loss: 0.1533, Directional Accuracy: 0.1132\n",
      "Epoch 48/50, Loss: 0.5816, Validation Loss: 0.1541, Directional Accuracy: 0.1115\n",
      "Epoch 49/50, Loss: 0.5809, Validation Loss: 0.1549, Directional Accuracy: 0.1089\n",
      "Epoch 50/50, Loss: 0.5802, Validation Loss: 0.1558, Directional Accuracy: 0.1065\n"
     ]
    }
   ],
   "source": [
    "\n",
    "valLosses=[]\n",
    "trainLosses=[]\n",
    "DAvals=[]\n",
    "# Training loop\n",
    "for epoch in range(epochs):\n",
    "\n",
    "    epoch_loss=train_one_epoch(model,optimizer,criterion,train_loader)\n",
    "    val_loss, direction=validate(model,criterion,val_loader)\n",
    "    valLosses.append(val_loss)\n",
    "    trainLosses.append(epoch_loss)\n",
    "    DAvals.append(direction)\n",
    "    print(f\"Epoch {epoch+1}/{epochs}, Loss: {epoch_loss / len(train_loader):.4f}, Validation Loss: {val_loss / len(val_loader):.4f}, Directional Accuracy: {direction / len(nameAll):.4f}\")"
   ]
  },
  {
   "cell_type": "code",
   "execution_count": 50,
   "metadata": {},
   "outputs": [
    {
     "data": {
      "image/png": "[encoded data removed]",
      "text/plain": [
       "<Figure size 640x480 with 1 Axes>"
      ]
     },
     "metadata": {},
     "output_type": "display_data"
    }
   ],
   "source": [
    "import matplotlib.pyplot as plt\n",
    "import numpy as np\n",
    "startPoint=0\n",
    "# Example float array\n",
    "val_array = valLosses[startPoint:]\n",
    "train_array = trainLosses[startPoint:]\n",
    "\n",
    "# Create an x-axis for the data points\n",
    "x = np.arange(len(train_array))\n",
    "y = np.arange(len(val_array))\n",
    "\n",
    "# Plot the graph\n",
    "plt.plot(x, train_array, marker='o', linestyle='-', color='b', label='Train Loss')\n",
    "plt.plot(y, val_array, marker='o', linestyle='-', color='r', label='Val Loss')\n",
    "\n",
    "# Add labels and title\n",
    "plt.xlabel('Index')\n",
    "plt.ylabel('Value')\n",
    "plt.title('Float Array Plot')\n",
    "plt.legend()\n",
    "\n",
    "plt.grid(True)\n",
    "plt.show()"
   ]
  },
  {
   "cell_type": "code",
   "execution_count": 51,
   "metadata": {},
   "outputs": [
    {
     "data": {
      "image/png": "[encoded data removed]",
      "text/plain": [
       "<Figure size 640x480 with 1 Axes>"
      ]
     },
     "metadata": {},
     "output_type": "display_data"
    }
   ],
   "source": [
    "startPoint=20\n",
    "da_array = DAvals[startPoint:]\n",
    "# Create an x-axis for the data points\n",
    "x = np.arange(len(da_array))\n",
    "\n",
    "# Plot the graph\n",
    "plt.plot(x, da_array, marker='o', linestyle='-', color='b', label='Directional Succsess')\n",
    "# Add labels and title\n",
    "plt.xlabel('Index')\n",
    "plt.ylabel('Value')\n",
    "plt.title('Float Array Plot')\n",
    "plt.legend()\n",
    "\n",
    "plt.grid(True)\n",
    "plt.show()"
   ]
  },
  {
   "cell_type": "code",
   "execution_count": 52,
   "metadata": {},
   "outputs": [
    {
     "name": "stdout",
     "output_type": "stream",
     "text": [
      "Test Input Shape: torch.Size([32, 7, 6])\n",
      "Predicted Output Shape: torch.Size([32])\n",
      "First Prediction: 12.088550567626953\n",
      "Actual Output (First Target): 12.056931495666504\n"
     ]
    },
    {
     "data": {
      "text/plain": [
       "tensor([12.0886, 10.3268, 35.1022,  8.7907, 13.2710, 13.5064, 12.2604, 11.0673,\n",
       "        10.7679, 11.7571, 31.7134, 13.4759, 12.5459, 12.3063, 10.7874, 23.5145,\n",
       "        11.3462, 22.6921, 19.9691, 29.9556, 21.6570, 12.4420, 22.6282, 32.8167,\n",
       "        14.0113, 15.1625, 13.0469, 20.0320, 13.6726, 10.8335, 35.3725, 10.9141],\n",
       "       device='cuda:0')"
      ]
     },
     "execution_count": 52,
     "metadata": {},
     "output_type": "execute_result"
    }
   ],
   "source": [
    "# Extract one batch of data for testing\n",
    "model.to(device)\n",
    "for sequences, targets, name in train_loader:\n",
    "    testInput = sequences.to(device)  # Sequence data\n",
    "    # testInput.to(device)\n",
    "    print(f\"Test Input Shape: {testInput.shape}\")\n",
    "    realOutput = targets   # Ground truth output\n",
    "    break\n",
    "\n",
    "# Ensure the model is in evaluation mode\n",
    "model.eval()\n",
    "\n",
    "# Predict using the model\n",
    "with torch.no_grad():  # Disable gradient calculations for inference\n",
    "    predicted = model(testInput).squeeze()  # Forward pass through the model\n",
    "\n",
    "# Check shapes and results\n",
    "print(f\"Predicted Output Shape: {predicted.shape}\")\n",
    "print(f\"First Prediction: {predicted[0].item()}\")\n",
    "print(f\"Actual Output (First Target): {realOutput[0].item()}\")\n",
    "\n",
    "predicted\n",
    "# testInput.shape"
   ]
  },
  {
   "cell_type": "code",
   "execution_count": 53,
   "metadata": {},
   "outputs": [
    {
     "data": {
      "text/plain": [
       "tensor([12.0569, 10.3236, 34.0482,  8.6764, 13.1621, 13.3180, 12.1587, 11.0014,\n",
       "        10.7556, 11.6829, 30.9787, 13.2700, 12.4440, 12.2816, 10.7637, 23.8408,\n",
       "        11.3111, 22.0922, 19.4094, 29.9829, 21.2527, 12.4007, 22.6313, 32.8407,\n",
       "        13.7339, 15.3199, 12.8578, 19.8841, 13.6654, 10.8272, 34.9865, 10.9540])"
      ]
     },
     "execution_count": 53,
     "metadata": {},
     "output_type": "execute_result"
    }
   ],
   "source": [
    "realOutput"
   ]
  }
 ],
 "metadata": {
  "kernelspec": {
   "display_name": "tf",
   "language": "python",
   "name": "python3"
  },
  "language_info": {
   "codemirror_mode": {
    "name": "ipython",
    "version": 3
   },
   "file_extension": ".py",
   "mimetype": "text/x-python",
   "name": "python",
   "nbconvert_exporter": "python",
   "pygments_lexer": "ipython3",
   "version": "3.9.19"
  }
 },
 "nbformat": 4,
 "nbformat_minor": 2
}
