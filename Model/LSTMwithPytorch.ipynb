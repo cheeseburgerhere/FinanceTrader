{
 "cells": [
  {
   "cell_type": "code",
   "execution_count": 1,
   "metadata": {},
   "outputs": [],
   "source": [
    "import numpy as np\n",
    "import torch\n",
    "import torch.nn as nn\n",
    "from torch.utils.data import DataLoader, Dataset\n",
    "import pandas as pd\n",
    "import os"
   ]
  },
  {
   "cell_type": "code",
   "execution_count": 2,
   "metadata": {},
   "outputs": [],
   "source": [
    "\n",
    "# Hyperparameters\n",
    "lookback_window = 7  # Number of time steps\n",
    "#I don't have any idea which number is best\n",
    "# from past test it looks like model has an understanding of general trend of the stock\n",
    "# but not the specific chracteristics of the stock\n",
    "# chatgpt recommends me to increase lookback window\n",
    "input_size = 6        # Number of features (univariate = 1)\n",
    "hidden_size = 50      # Number of LSTM neurons\n",
    "num_layers = 2        # Number of LSTM layers\n",
    "output_size = 1       # Predicting one value\n",
    "learning_rate = 0.001\n",
    "epochs = 50\n",
    "batch_size = 32\n"
   ]
  },
  {
   "cell_type": "code",
   "execution_count": 3,
   "metadata": {},
   "outputs": [],
   "source": [
    "dataLocation=\"../Data/StandardizedData\"\n",
    "allcsvs=os.listdir(dataLocation)\n",
    "# turn float64 to float 32"
   ]
  },
  {
   "cell_type": "code",
   "execution_count": null,
   "metadata": {},
   "outputs": [],
   "source": [
    "# changeMatrix=rawData.copy()\n",
    "# changeMatrix[\"Open\"]=changeMatrix[\"Open\"].pct_change()\n",
    "# changeMatrix[\"High\"]=changeMatrix[\"High\"].pct_change()\n",
    "# changeMatrix[\"Low\"]=changeMatrix[\"Low\"].pct_change()\n",
    "# changeMatrix[\"Close\"]=changeMatrix[\"Close\"].pct_change()\n",
    "# changeMatrix[\"Volume\"]=changeMatrix[\"Volume\"].pct_change()\n",
    "# # changeMatrix.dropna(inplace=True)\n",
    "# changeMatrix.fillna(0,inplace=True)\n",
    "# # changeMatrix.drop(columns=[\"Pct_Change\"],inplace=True)\n",
    "# changeMatrix"
   ]
  },
  {
   "cell_type": "code",
   "execution_count": 4,
   "metadata": {},
   "outputs": [],
   "source": [
    "unnecessaryColumns=[\"Date\",\"Pct_Change\"]\n",
    "\n",
    "from sklearn.preprocessing import MinMaxScaler\n",
    "\n",
    "# scaler = MinMaxScaler()\n",
    "\n",
    "\n",
    "def df_to_X_y(df, scaler ,window_size=5):\n",
    "  lightWeightDf=df.drop(columns=unnecessaryColumns)\n",
    "  df_as_np = scaler.fit_transform(lightWeightDf.to_numpy())\n",
    "  X = []\n",
    "  y = []\n",
    "  for i in range(len(df_as_np)-window_size):\n",
    "    row = [a for a in df_as_np[i:i+window_size]]\n",
    "    X.append(row)\n",
    "    label = df_as_np[i+window_size,3]\n",
    "    y.append(label)\n",
    "  return np.array(X), np.array(y)"
   ]
  },
  {
   "cell_type": "code",
   "execution_count": 23,
   "metadata": {},
   "outputs": [],
   "source": [
    "# XAll = np.zeros(1, dtype=np.int32)\n",
    "# yAll = np.zeros(1, dtype=np.int32)\n",
    "\n",
    "# for i in range(len(allcsvs)):\n",
    "#     rawData=pd.read_csv(os.path.join(dataLocation,allcsvs[i]))\n",
    "#     Xtemp,yTemp=df_to_X_y(rawData, scaler ,lookback_window)\n",
    "#     if(XAll.shape[0] == 1 and yAll.shape[0] == 1):\n",
    "#         XAll=Xtemp\n",
    "#         yAll=yTemp\n",
    "#     else:\n",
    "#         XAll=np.concatenate((XAll,Xtemp),axis=0)\n",
    "#         yAll=np.concatenate((yAll,yTemp),axis=0)\n",
    "\n",
    "\n",
    "# I have to store all of the rawData accurately because I need them afterwards\n",
    "# or I can make a huge tensor and store all of them in it\n",
    "# but this raises concerns about the time series consistency"
   ]
  },
  {
   "cell_type": "code",
   "execution_count": 24,
   "metadata": {},
   "outputs": [
    {
     "data": {
      "text/plain": [
       "((57412, 7, 6), (57412,))"
      ]
     },
     "execution_count": 24,
     "metadata": {},
     "output_type": "execute_result"
    }
   ],
   "source": [
    "# XAll.shape, yAll.shape"
   ]
  },
  {
   "cell_type": "code",
   "execution_count": 5,
   "metadata": {},
   "outputs": [],
   "source": [
    "def shuffle_data(X, y):\n",
    "    \"\"\"\n",
    "    Shuffle the data while maintaining the correspondence between X and y.\n",
    "\n",
    "    Parameters:\n",
    "    X (numpy.ndarray): The input features tensor.\n",
    "    y (numpy.ndarray): The target array.\n",
    "\n",
    "    Returns:\n",
    "    tuple: Shuffled X and y tensors.\n",
    "    \"\"\"\n",
    "    assert len(X) == len(y), \"X and y must have the same length.\"\n",
    "    \n",
    "    # Generate a random permutation of indices\n",
    "    indices = np.random.permutation(len(X))\n",
    "    # print(indices[:5])\n",
    "    # Shuffle X and y\n",
    "    X_shuffled = X[indices]\n",
    "    y_shuffled = y[indices]\n",
    "    \n",
    "    return X_shuffled, y_shuffled"
   ]
  },
  {
   "cell_type": "code",
   "execution_count": 29,
   "metadata": {},
   "outputs": [
    {
     "name": "stdout",
     "output_type": "stream",
     "text": [
      "[26684  1127 52441 48644 36731]\n"
     ]
    }
   ],
   "source": [
    "# X_shuffled, y_shuffled = shuffle_data(XAll, yAll)"
   ]
  },
  {
   "cell_type": "code",
   "execution_count": 6,
   "metadata": {},
   "outputs": [],
   "source": [
    "class TimeSeriesDataset(Dataset):\n",
    "    def __init__(self, allcsvLoc : list, dataDir):\n",
    "        self.scaler =MinMaxScaler()\n",
    "        X = np.zeros(1)\n",
    "        y = np.zeros(1)\n",
    "\n",
    "        for i in range(len(allcsvLoc)):\n",
    "            rawData=pd.read_csv(os.path.join(dataDir,allcsvLoc[i]))\n",
    "            Xtemp,yTemp=df_to_X_y(rawData, self.scaler, lookback_window)\n",
    "            if(X.shape[0] == 1 and y.shape[0] == 1):\n",
    "                X=Xtemp\n",
    "                y=yTemp\n",
    "            else:\n",
    "                X=np.concatenate((X,Xtemp),axis=0)\n",
    "                y=np.concatenate((y,yTemp),axis=0)\n",
    "\n",
    "\n",
    "        #shuffle the data\n",
    "        #NOTE shuffling is automatically done in the dataloader\n",
    "        X_shuffled, y_shuffled = shuffle_data(X, y)\n",
    "        self.dataX = torch.tensor(X_shuffled, dtype=torch.float32)\n",
    "        self.dataY = torch.tensor(y_shuffled, dtype=torch.float32)\n",
    "        \n",
    "        \n",
    "\n",
    "    def __len__(self):\n",
    "        return self.dataX.size(0)\n",
    "\n",
    "    def __getitem__(self, idx):\n",
    "        sequence = self.dataX[idx, :]\n",
    "        target = self.dataY[idx]\n",
    "        return sequence, target\n",
    "\n",
    "# LSTM Model\n",
    "class LSTMModel(nn.Module):\n",
    "    def __init__(self, input_size, hidden_size, num_layers, output_size):\n",
    "        super(LSTMModel, self).__init__()\n",
    "        self.lstm = nn.LSTM(input_size, hidden_size, num_layers, batch_first=True)\n",
    "        self.fc = nn.Linear(hidden_size, output_size)\n",
    "\n",
    "    def forward(self, x):\n",
    "        output, _ = self.lstm(x)\n",
    "        last_output = output[:, -1, :]  # Take the output at the last time step\n",
    "        return self.fc(last_output)\n",
    "    \n",
    "    # def init_weights(module):\n",
    "    #     if isinstance(module, nn.LSTM):\n",
    "    #         nn.init.xavier_normal_(module.weight_ih_l0)\n",
    "    #         nn.init.xavier_normal_(module.weight_hh_l0)\n",
    "    #         if module.is_bidirectional:\n",
    "    #             nn.init.xavier_normal_(module.weight_ih_l0_reverse)\n",
    "    #             nn.init.xavier_normal_(module.weight_hh_l0_reverse) \n"
   ]
  },
  {
   "cell_type": "code",
   "execution_count": 7,
   "metadata": {},
   "outputs": [
    {
     "name": "stdout",
     "output_type": "stream",
     "text": [
      "Using cuda\n"
     ]
    }
   ],
   "source": [
    "device = torch.device('cuda') if torch.cuda.is_available() else torch.device('cpu')\n",
    "print(f\"Using {device}\")"
   ]
  },
  {
   "cell_type": "code",
   "execution_count": null,
   "metadata": {},
   "outputs": [],
   "source": [
    "X_train = X_shuffled[:int(0.8*len(X_shuffled))]\n",
    "y_train = y_shuffled[:int(0.8*len(y_shuffled))]\n",
    "X_val = X_shuffled[int(0.8*len(X_shuffled)):]\n",
    "y_val = y_shuffled[int(0.8*len(y_shuffled)):]"
   ]
  },
  {
   "cell_type": "code",
   "execution_count": null,
   "metadata": {},
   "outputs": [
    {
     "name": "stdout",
     "output_type": "stream",
     "text": [
      "Epoch 1/50, Loss: 0.0510\n",
      "Epoch 2/50, Loss: 0.0026\n",
      "Epoch 3/50, Loss: 0.0011\n",
      "Epoch 4/50, Loss: 0.0009\n",
      "Epoch 5/50, Loss: 0.0010\n",
      "Epoch 6/50, Loss: 0.0010\n",
      "Epoch 7/50, Loss: 0.0009\n",
      "Epoch 8/50, Loss: 0.0008\n",
      "Epoch 9/50, Loss: 0.0009\n",
      "Epoch 10/50, Loss: 0.0008\n",
      "Epoch 11/50, Loss: 0.0008\n",
      "Epoch 12/50, Loss: 0.0008\n",
      "Epoch 13/50, Loss: 0.0007\n",
      "Epoch 14/50, Loss: 0.0007\n",
      "Epoch 15/50, Loss: 0.0008\n",
      "Epoch 16/50, Loss: 0.0007\n",
      "Epoch 17/50, Loss: 0.0007\n",
      "Epoch 18/50, Loss: 0.0007\n",
      "Epoch 19/50, Loss: 0.0008\n",
      "Epoch 20/50, Loss: 0.0008\n",
      "Epoch 21/50, Loss: 0.0006\n",
      "Epoch 22/50, Loss: 0.0007\n",
      "Epoch 23/50, Loss: 0.0006\n",
      "Epoch 24/50, Loss: 0.0006\n",
      "Epoch 25/50, Loss: 0.0006\n",
      "Epoch 26/50, Loss: 0.0006\n",
      "Epoch 27/50, Loss: 0.0005\n",
      "Epoch 28/50, Loss: 0.0006\n",
      "Epoch 29/50, Loss: 0.0005\n",
      "Epoch 30/50, Loss: 0.0005\n",
      "Epoch 31/50, Loss: 0.0006\n",
      "Epoch 32/50, Loss: 0.0005\n",
      "Epoch 33/50, Loss: 0.0005\n",
      "Epoch 34/50, Loss: 0.0005\n",
      "Epoch 35/50, Loss: 0.0005\n",
      "Epoch 36/50, Loss: 0.0005\n",
      "Epoch 37/50, Loss: 0.0005\n",
      "Epoch 38/50, Loss: 0.0005\n",
      "Epoch 39/50, Loss: 0.0005\n",
      "Epoch 40/50, Loss: 0.0005\n",
      "Epoch 41/50, Loss: 0.0004\n",
      "Epoch 42/50, Loss: 0.0005\n",
      "Epoch 43/50, Loss: 0.0004\n",
      "Epoch 44/50, Loss: 0.0004\n",
      "Epoch 45/50, Loss: 0.0005\n",
      "Epoch 46/50, Loss: 0.0004\n",
      "Epoch 47/50, Loss: 0.0004\n",
      "Epoch 48/50, Loss: 0.0004\n",
      "Epoch 49/50, Loss: 0.0004\n",
      "Epoch 50/50, Loss: 0.0004\n"
     ]
    }
   ],
   "source": [
    "trainDataset = TimeSeriesDataset(rawData)\n",
    "train_loader = DataLoader(trainDataset, batch_size=batch_size, shuffle=True)\n",
    "# If you want to maintain proper batching while avoiding overfitting to a specific order during training, you could use techniques like:\n",
    "\n",
    "# Random Sampling of Starting Points: Without fully shuffling the data.\n",
    "# Cross-validation: On non-overlapping sequential splits for evaluation.\n",
    "\n",
    "\n",
    "# Initialize model, loss function, and optimizer\n",
    "model = LSTMModel(input_size, hidden_size, num_layers, output_size)\n",
    "criterion = nn.MSELoss()\n",
    "optimizer = torch.optim.Adam(model.parameters(), lr=learning_rate)\n",
    "\n",
    "# Training loop\n",
    "for epoch in range(epochs):\n",
    "    model.train()\n",
    "    epoch_loss = 0\n",
    "\n",
    "    for sequences, targets in train_loader:\n",
    "        optimizer.zero_grad()\n",
    "        outputs = model(sequences)\n",
    "        loss = criterion(outputs.squeeze(), targets)\n",
    "        loss.backward()\n",
    "        optimizer.step()\n",
    "        epoch_loss += loss.item()\n",
    "\n",
    "    print(f\"Epoch {epoch+1}/{epochs}, Loss: {epoch_loss / len(train_loader):.4f}\")"
   ]
  },
  {
   "cell_type": "code",
   "execution_count": 34,
   "metadata": {},
   "outputs": [
    {
     "name": "stdout",
     "output_type": "stream",
     "text": [
      "Test Input Shape: torch.Size([32, 7, 6])\n",
      "Predicted Output Shape: torch.Size([32])\n",
      "First Prediction: 0.8080300092697144\n",
      "Actual Output (First Target): 0.8317721486091614\n"
     ]
    },
    {
     "data": {
      "text/plain": [
       "tensor([0.8080, 0.0297, 0.1301, 0.5177, 0.3785, 0.1505, 0.8001, 0.5566, 0.1417,\n",
       "        0.1639, 0.0841, 0.1765, 0.0565, 0.3737, 0.0722, 0.5325, 0.2416, 0.1002,\n",
       "        0.3656, 0.1389, 0.0771, 0.5591, 0.1352, 0.0634, 0.1092, 0.0532, 0.1175,\n",
       "        0.1679, 0.5604, 0.3900, 0.6289, 0.0728])"
      ]
     },
     "execution_count": 34,
     "metadata": {},
     "output_type": "execute_result"
    }
   ],
   "source": [
    "# Extract one batch of data for testing\n",
    "for sequences, targets in train_loader:\n",
    "    testInput = sequences  # Sequence data\n",
    "    print(f\"Test Input Shape: {testInput.shape}\")\n",
    "    realOutput = targets   # Ground truth output\n",
    "    break\n",
    "\n",
    "# Ensure the model is in evaluation mode\n",
    "model.eval()\n",
    "\n",
    "# Predict using the model\n",
    "with torch.no_grad():  # Disable gradient calculations for inference\n",
    "    predicted = model(testInput).squeeze()  # Forward pass through the model\n",
    "\n",
    "# Check shapes and results\n",
    "print(f\"Predicted Output Shape: {predicted.shape}\")\n",
    "print(f\"First Prediction: {predicted[0].item()}\")\n",
    "print(f\"Actual Output (First Target): {realOutput[0].item()}\")\n",
    "\n",
    "predicted\n",
    "# testInput.shape"
   ]
  },
  {
   "cell_type": "code",
   "execution_count": 35,
   "metadata": {},
   "outputs": [
    {
     "data": {
      "text/plain": [
       "tensor([0.8318, 0.0333, 0.1348, 0.5432, 0.3610, 0.1396, 0.7947, 0.5679, 0.1442,\n",
       "        0.1689, 0.0879, 0.1788, 0.0589, 0.3629, 0.0802, 0.5601, 0.2882, 0.1125,\n",
       "        0.3657, 0.1365, 0.0835, 0.5416, 0.1391, 0.0667, 0.1050, 0.0495, 0.1125,\n",
       "        0.1783, 0.5864, 0.4106, 0.6423, 0.0760])"
      ]
     },
     "execution_count": 35,
     "metadata": {},
     "output_type": "execute_result"
    }
   ],
   "source": [
    "realOutput"
   ]
  }
 ],
 "metadata": {
  "kernelspec": {
   "display_name": "tf",
   "language": "python",
   "name": "python3"
  },
  "language_info": {
   "codemirror_mode": {
    "name": "ipython",
    "version": 3
   },
   "file_extension": ".py",
   "mimetype": "text/x-python",
   "name": "python",
   "nbconvert_exporter": "python",
   "pygments_lexer": "ipython3",
   "version": "3.9.19"
  }
 },
 "nbformat": 4,
 "nbformat_minor": 2
}
