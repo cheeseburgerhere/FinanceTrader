{
 "cells": [
  {
   "cell_type": "code",
   "execution_count": 35,
   "metadata": {},
   "outputs": [],
   "source": [
    "import numpy as np\n",
    "import torch\n",
    "import torch.nn as nn\n",
    "from torch.utils.data import DataLoader, Dataset\n",
    "import pandas as pd\n",
    "import os"
   ]
  },
  {
   "cell_type": "code",
   "execution_count": null,
   "metadata": {},
   "outputs": [],
   "source": [
    "\n",
    "# Hyperparameters\n",
    "lookback_window = 10  \n",
    "input_size = 6\n",
    "#TODO cut the days between        \n",
    "output_size = 1     \n",
    "\n",
    "num_layers = 1        \n",
    "\n",
    "embed_dim = 64\n",
    "hidden_size = 128  \n",
    "\n",
    "\n",
    "alpha=1 #weight of directional loss\n",
    "learning_rate = 0.0001\n",
    "epochs = 40\n",
    "batch_size = 32\n",
    "\n",
    "#TODO: USD/TRY exchange rate input\n",
    "#TODO: Faiz Enflasyon ve Piyasa Katılımcıları Anketi input\n",
    "\n",
    "#TODO: Takas Verisi (model iyi sonuçlar vermezse son çare olarak kullanılabilir)"
   ]
  },
  {
   "cell_type": "code",
   "execution_count": 37,
   "metadata": {},
   "outputs": [],
   "source": [
    "dataLocation=\"../Data/StandardizedData\"\n",
    "allcsvs=os.listdir(dataLocation)\n",
    "# turn float64 to float 32"
   ]
  },
  {
   "cell_type": "code",
   "execution_count": 38,
   "metadata": {},
   "outputs": [],
   "source": [
    "unnecessaryColumns=[\"Date\",\"Pct_Change\"]\n",
    "\n",
    "import sys\n",
    "\n",
    "# Add the parent directory to the sys.path so that traderPackage is found\n",
    "parent_dir = os.path.abspath(os.path.join(os.getcwd(), \"..\"))\n",
    "if parent_dir not in sys.path:\n",
    "    sys.path.insert(0, parent_dir)\n",
    "\n",
    "from traderPackage.Scaler import Scaler \n",
    "from sklearn.preprocessing import StandardScaler\n",
    "\n",
    "\n",
    "# Can't do with minMax scaler we need Z scaler\n",
    "#Rewrite Time\n",
    "scaler = Scaler(0,50)\n",
    "zScalerDic={}\n",
    "\n",
    "\n",
    "def df_to_X_y(df,zScaler,window_size=5):\n",
    "  lightWeightDf=df.drop(columns=unnecessaryColumns)\n",
    "  df_as_np = zScaler.fit_transform(lightWeightDf.to_numpy())\n",
    "  # df_as_np = lightWeightDf.to_numpy()\n",
    "\n",
    "  X = []\n",
    "  y = []\n",
    "  open=[]\n",
    "  for i in range(len(df_as_np)-window_size):\n",
    "    row = [a for a in df_as_np[i:i+window_size]]\n",
    "    X.append(row)\n",
    "    label = df_as_np[i+window_size,3]\n",
    "    y.append(label)\n",
    "    open.append(df_as_np[i+window_size,0])\n",
    "  return np.array(X), np.array(y),np.array(open)"
   ]
  },
  {
   "cell_type": "code",
   "execution_count": 39,
   "metadata": {},
   "outputs": [
    {
     "data": {
      "text/html": [
       "<div>\n",
       "<style scoped>\n",
       "    .dataframe tbody tr th:only-of-type {\n",
       "        vertical-align: middle;\n",
       "    }\n",
       "\n",
       "    .dataframe tbody tr th {\n",
       "        vertical-align: top;\n",
       "    }\n",
       "\n",
       "    .dataframe thead th {\n",
       "        text-align: right;\n",
       "    }\n",
       "</style>\n",
       "<table border=\"1\" class=\"dataframe\">\n",
       "  <thead>\n",
       "    <tr style=\"text-align: right;\">\n",
       "      <th></th>\n",
       "      <th>Date</th>\n",
       "      <th>Open</th>\n",
       "      <th>High</th>\n",
       "      <th>Low</th>\n",
       "      <th>Close</th>\n",
       "      <th>Volume</th>\n",
       "      <th>Days_Between</th>\n",
       "      <th>Pct_Change</th>\n",
       "    </tr>\n",
       "  </thead>\n",
       "  <tbody>\n",
       "    <tr>\n",
       "      <th>0</th>\n",
       "      <td>2019-10-22 00:00:00+03:00</td>\n",
       "      <td>0.646781</td>\n",
       "      <td>0.652309</td>\n",
       "      <td>0.641253</td>\n",
       "      <td>0.652309</td>\n",
       "      <td>2.818350e+07</td>\n",
       "      <td>1.0</td>\n",
       "      <td>0.000000</td>\n",
       "    </tr>\n",
       "    <tr>\n",
       "      <th>1</th>\n",
       "      <td>2019-10-23 00:00:00+03:00</td>\n",
       "      <td>0.657837</td>\n",
       "      <td>0.663365</td>\n",
       "      <td>0.646781</td>\n",
       "      <td>0.663365</td>\n",
       "      <td>2.861088e+07</td>\n",
       "      <td>1.0</td>\n",
       "      <td>0.016949</td>\n",
       "    </tr>\n",
       "    <tr>\n",
       "      <th>2</th>\n",
       "      <td>2019-10-24 00:00:00+03:00</td>\n",
       "      <td>0.663365</td>\n",
       "      <td>0.679949</td>\n",
       "      <td>0.652309</td>\n",
       "      <td>0.663365</td>\n",
       "      <td>2.499212e+07</td>\n",
       "      <td>1.0</td>\n",
       "      <td>0.000000</td>\n",
       "    </tr>\n",
       "    <tr>\n",
       "      <th>3</th>\n",
       "      <td>2019-10-25 00:00:00+03:00</td>\n",
       "      <td>0.663365</td>\n",
       "      <td>0.663365</td>\n",
       "      <td>0.646781</td>\n",
       "      <td>0.663365</td>\n",
       "      <td>2.711898e+07</td>\n",
       "      <td>1.0</td>\n",
       "      <td>0.000000</td>\n",
       "    </tr>\n",
       "    <tr>\n",
       "      <th>4</th>\n",
       "      <td>2019-10-28 00:00:00+03:00</td>\n",
       "      <td>0.668893</td>\n",
       "      <td>0.668893</td>\n",
       "      <td>0.663365</td>\n",
       "      <td>0.663365</td>\n",
       "      <td>2.624481e+07</td>\n",
       "      <td>3.0</td>\n",
       "      <td>0.000000</td>\n",
       "    </tr>\n",
       "    <tr>\n",
       "      <th>...</th>\n",
       "      <td>...</td>\n",
       "      <td>...</td>\n",
       "      <td>...</td>\n",
       "      <td>...</td>\n",
       "      <td>...</td>\n",
       "      <td>...</td>\n",
       "      <td>...</td>\n",
       "      <td>...</td>\n",
       "    </tr>\n",
       "    <tr>\n",
       "      <th>1247</th>\n",
       "      <td>2024-10-16 00:00:00+03:00</td>\n",
       "      <td>4.050000</td>\n",
       "      <td>4.190000</td>\n",
       "      <td>3.990000</td>\n",
       "      <td>4.070000</td>\n",
       "      <td>7.700599e+07</td>\n",
       "      <td>1.0</td>\n",
       "      <td>0.004938</td>\n",
       "    </tr>\n",
       "    <tr>\n",
       "      <th>1248</th>\n",
       "      <td>2024-10-17 00:00:00+03:00</td>\n",
       "      <td>4.060000</td>\n",
       "      <td>4.160000</td>\n",
       "      <td>4.060000</td>\n",
       "      <td>4.160000</td>\n",
       "      <td>7.597829e+07</td>\n",
       "      <td>1.0</td>\n",
       "      <td>0.022113</td>\n",
       "    </tr>\n",
       "    <tr>\n",
       "      <th>1249</th>\n",
       "      <td>2024-10-18 00:00:00+03:00</td>\n",
       "      <td>4.170000</td>\n",
       "      <td>4.190000</td>\n",
       "      <td>4.050000</td>\n",
       "      <td>4.190000</td>\n",
       "      <td>7.844818e+07</td>\n",
       "      <td>1.0</td>\n",
       "      <td>0.007212</td>\n",
       "    </tr>\n",
       "    <tr>\n",
       "      <th>1250</th>\n",
       "      <td>2024-10-21 00:00:00+03:00</td>\n",
       "      <td>4.150000</td>\n",
       "      <td>4.230000</td>\n",
       "      <td>4.140000</td>\n",
       "      <td>4.150000</td>\n",
       "      <td>7.101958e+07</td>\n",
       "      <td>3.0</td>\n",
       "      <td>-0.009547</td>\n",
       "    </tr>\n",
       "    <tr>\n",
       "      <th>1251</th>\n",
       "      <td>2024-10-22 00:00:00+03:00</td>\n",
       "      <td>4.150000</td>\n",
       "      <td>4.290000</td>\n",
       "      <td>4.150000</td>\n",
       "      <td>4.200000</td>\n",
       "      <td>7.374059e+07</td>\n",
       "      <td>1.0</td>\n",
       "      <td>0.012048</td>\n",
       "    </tr>\n",
       "  </tbody>\n",
       "</table>\n",
       "<p>1252 rows × 8 columns</p>\n",
       "</div>"
      ],
      "text/plain": [
       "                           Date      Open      High       Low     Close  \\\n",
       "0     2019-10-22 00:00:00+03:00  0.646781  0.652309  0.641253  0.652309   \n",
       "1     2019-10-23 00:00:00+03:00  0.657837  0.663365  0.646781  0.663365   \n",
       "2     2019-10-24 00:00:00+03:00  0.663365  0.679949  0.652309  0.663365   \n",
       "3     2019-10-25 00:00:00+03:00  0.663365  0.663365  0.646781  0.663365   \n",
       "4     2019-10-28 00:00:00+03:00  0.668893  0.668893  0.663365  0.663365   \n",
       "...                         ...       ...       ...       ...       ...   \n",
       "1247  2024-10-16 00:00:00+03:00  4.050000  4.190000  3.990000  4.070000   \n",
       "1248  2024-10-17 00:00:00+03:00  4.060000  4.160000  4.060000  4.160000   \n",
       "1249  2024-10-18 00:00:00+03:00  4.170000  4.190000  4.050000  4.190000   \n",
       "1250  2024-10-21 00:00:00+03:00  4.150000  4.230000  4.140000  4.150000   \n",
       "1251  2024-10-22 00:00:00+03:00  4.150000  4.290000  4.150000  4.200000   \n",
       "\n",
       "            Volume  Days_Between  Pct_Change  \n",
       "0     2.818350e+07           1.0    0.000000  \n",
       "1     2.861088e+07           1.0    0.016949  \n",
       "2     2.499212e+07           1.0    0.000000  \n",
       "3     2.711898e+07           1.0    0.000000  \n",
       "4     2.624481e+07           3.0    0.000000  \n",
       "...            ...           ...         ...  \n",
       "1247  7.700599e+07           1.0    0.004938  \n",
       "1248  7.597829e+07           1.0    0.022113  \n",
       "1249  7.844818e+07           1.0    0.007212  \n",
       "1250  7.101958e+07           3.0   -0.009547  \n",
       "1251  7.374059e+07           1.0    0.012048  \n",
       "\n",
       "[1252 rows x 8 columns]"
      ]
     },
     "execution_count": 39,
     "metadata": {},
     "output_type": "execute_result"
    }
   ],
   "source": [
    "XAll = np.zeros(1, dtype=np.int32)\n",
    "yAll = np.zeros(1, dtype=np.int32)\n",
    "\n",
    "for i in range(len(allcsvs)):\n",
    "    rawData=pd.read_csv(os.path.join(dataLocation,allcsvs[i]))\n",
    "    currentScaler=StandardScaler()\n",
    "    zScalerDic[allcsvs[i]]=currentScaler\n",
    "    Xtemp, yTemp, openTemp=df_to_X_y(rawData, currentScaler, lookback_window)\n",
    "    nameTemp=np.array([allcsvs[i]]*yTemp.shape[0])\n",
    "\n",
    "    if(XAll.shape[0] == 1 and yAll.shape[0] == 1):\n",
    "        XAll=Xtemp\n",
    "        yAll=yTemp\n",
    "        nameAll=nameTemp\n",
    "        openAll=openTemp\n",
    "    else:\n",
    "        XAll=np.concatenate((XAll,Xtemp),axis=0)\n",
    "        yAll=np.concatenate((yAll,yTemp),axis=0)\n",
    "        nameAll=np.concatenate((nameAll,nameTemp),axis=0)\n",
    "        openAll=np.concatenate((openAll,openTemp),axis=0)\n",
    "        \n",
    "XAll=scaler.fit_transform(XAll)\n",
    "yAll=scaler.fit_transform(yAll)\n",
    "openAll=scaler.fit_transform(openAll)\n",
    "\n",
    "Xtemp=None\n",
    "yTemp=None\n",
    "nameTemp=None\n",
    "openTemp=None\n",
    "rawData"
   ]
  },
  {
   "cell_type": "code",
   "execution_count": 40,
   "metadata": {},
   "outputs": [
    {
     "data": {
      "text/plain": [
       "((52345, 10, 6), (52345,), (52345,), (52345,))"
      ]
     },
     "execution_count": 40,
     "metadata": {},
     "output_type": "execute_result"
    }
   ],
   "source": [
    "XAll.shape, yAll.shape, nameAll.shape, openAll.shape"
   ]
  },
  {
   "cell_type": "code",
   "execution_count": 41,
   "metadata": {},
   "outputs": [],
   "source": [
    "def shuffle_data(X, y, names, open):\n",
    "    \"\"\"\n",
    "    Shuffle the data while maintaining the correspondence between X and y.\n",
    "\n",
    "    Parameters:\n",
    "    X (numpy.ndarray): The input features tensor.\n",
    "    y (numpy.ndarray): The target array.\n",
    "\n",
    "    Returns:\n",
    "    tuple: Shuffled X and y tensors.\n",
    "    \"\"\"\n",
    "    assert len(X) == len(y), \"X and y must have the same length.\"\n",
    "    assert len(y) == len(names), \"y and names must have the same length.\"\n",
    "\n",
    "    # Generate a random permutation of indices\n",
    "    #TODO add a seed for reproducibility\n",
    "    #add seed to the code below\n",
    "    np.random.seed(42)\n",
    "    indices = np.random.permutation(len(X))\n",
    "    # print(indices[:5])\n",
    "    # Shuffle X and y\n",
    "    X_shuffled = X[indices]\n",
    "    y_shuffled = y[indices]\n",
    "    name_shuffled = names[indices]\n",
    "    open_shuffled = open[indices]\n",
    "    \n",
    "    return X_shuffled, y_shuffled, name_shuffled, open_shuffled"
   ]
  },
  {
   "cell_type": "code",
   "execution_count": 42,
   "metadata": {},
   "outputs": [],
   "source": [
    "X_shuffled, y_shuffled, name_shuffled, open_shuffled = shuffle_data(XAll, yAll, nameAll, openAll)"
   ]
  },
  {
   "cell_type": "code",
   "execution_count": null,
   "metadata": {},
   "outputs": [
    {
     "name": "stdout",
     "output_type": "stream",
     "text": [
      "Using cuda\n"
     ]
    }
   ],
   "source": [
    "import torch.nn.functional as F\n",
    "from Architecture.MiddleAttentionModel import LSTMDoubleAttentionModel\n",
    "from Architecture.TimeSeriesDataset import TimeSeriesDataset\n",
    "\n",
    "device = torch.device('cuda') if torch.cuda.is_available() else torch.device('cpu')\n",
    "print(f\"Using {device}\")"
   ]
  },
  {
   "cell_type": "code",
   "execution_count": 45,
   "metadata": {},
   "outputs": [
    {
     "data": {
      "text/plain": [
       "(41876, 10469)"
      ]
     },
     "execution_count": 45,
     "metadata": {},
     "output_type": "execute_result"
    }
   ],
   "source": [
    "X_train = X_shuffled[:int(0.8*len(X_shuffled))]\n",
    "y_train = y_shuffled[:int(0.8*len(y_shuffled))]\n",
    "name_train = name_shuffled[:int(0.8*len(name_shuffled))]\n",
    "open_train = open_shuffled[:int(0.8*len(open_shuffled))]\n",
    "\n",
    "X_val = X_shuffled[int(0.8*len(X_shuffled)):]\n",
    "y_val = y_shuffled[int(0.8*len(y_shuffled)):]\n",
    "name_val = name_shuffled[int(0.8*len(name_shuffled)):]\n",
    "open_val = open_shuffled[int(0.8*len(open_shuffled)):]\n",
    "# I don't need open in the train set but it exists just because consistency\n",
    "\n",
    "len(X_train), len(X_val)"
   ]
  },
  {
   "cell_type": "code",
   "execution_count": 46,
   "metadata": {},
   "outputs": [],
   "source": [
    "trainDataset = TimeSeriesDataset(X_train, y_train,name_train, open_train)\n",
    "train_loader = DataLoader(trainDataset, batch_size=batch_size, shuffle=False)\n",
    "\n",
    "#Dataset for validation\n",
    "valDataset = TimeSeriesDataset(X_val, y_val,name_val ,open_val)\n",
    "val_loader = DataLoader(valDataset, batch_size=batch_size, shuffle=False)\n",
    "\n",
    "# Cross-validation: On non-overlapping sequential splits for evaluation."
   ]
  },
  {
   "cell_type": "code",
   "execution_count": 47,
   "metadata": {},
   "outputs": [],
   "source": [
    "def directional_loss(outputs, targets, sequences):\n",
    "    # Calculate the direction of predictions and actual values\n",
    "    pred_dir = (outputs.squeeze() - sequences[:, -1, 3]) >= 0\n",
    "    true_dir = (targets - sequences[:, -1, 3]) >= 0\n",
    "    # Penalize mismatched directions\n",
    "    mismatches = (pred_dir != true_dir).float()\n",
    "    return mismatches.mean()\n",
    "\n",
    "def inverseScale(sequence, scaler, name, predIndex, dataIndex):\n",
    "    placeHolder=np.zeros((batch_size,lookback_window,input_size))\n",
    "    placeHolder[:,-1,dataIndex]=sequence.cpu().numpy()\n",
    "    reverseScaled=scaler.inverse_transform(placeHolder[predIndex,:,:])\n",
    "    return zScalerDic[name].inverse_transform(reverseScaled)\n",
    "\n",
    "def asymmetric_huber_loss(y_pred, y_true, delta=.5, alpha=3.0, beta=3.0):\n",
    "    error = y_pred - y_true\n",
    "    loss = torch.where(\n",
    "        error < -delta,\n",
    "        alpha * 0.5 * (error ** 2),  # Underprediction penalty\n",
    "        torch.where(\n",
    "            error > delta,\n",
    "            beta * 0.5 * (error ** 2),  # Overprediction penalty\n",
    "            delta * torch.abs(error) - 0.5 * delta ** 2  # Standard Huber region\n",
    "        )\n",
    "    )\n",
    "    return torch.mean(loss)"
   ]
  },
  {
   "cell_type": "code",
   "execution_count": 48,
   "metadata": {},
   "outputs": [],
   "source": [
    "dirLossBool=False\n",
    "\n",
    "def train_one_epoch(model,optimizer,criterion,train_loader, scheduler):\n",
    "    model.train()\n",
    "    model.to(device)\n",
    "    epoch_loss = 0\n",
    "\n",
    "    for sequences, targets, name, open in train_loader:\n",
    "        sequences, targets = sequences.to(device), targets.to(device)\n",
    "        optimizer.zero_grad()\n",
    "        # outputs, att = model(sequences)\n",
    "        outputs= model(sequences)\n",
    "\n",
    "        mse=criterion(outputs.squeeze(), targets)\n",
    "        dir_loss = directional_loss(outputs, targets, sequences)\n",
    "\n",
    "        loss = mse + alpha * dir_loss * dirLossBool\n",
    "        # loss = mse\n",
    "\n",
    "        loss.backward()\n",
    "        optimizer.step()\n",
    "        \n",
    "        epoch_loss += loss.item()\n",
    "\n",
    "\n",
    "    scheduler.step()\n",
    "    return epoch_loss    \n",
    "\n",
    "calculateProfit=True\n",
    "def validate(model,criterion,val_loader):\n",
    "    model.eval()\n",
    "    model.to(device)\n",
    "    val_loss = 0\n",
    "    DA=0\n",
    "    capital = 0\n",
    "    with torch.no_grad():\n",
    "        for sequences, targets, name, open in val_loader:\n",
    "            sequences, targets = sequences.to(device), targets.to(device)\n",
    "            # outputs, att = model(sequences)\n",
    "            outputs = model(sequences)\n",
    "            \n",
    "\n",
    "            #Start of the DA code\n",
    "            dirMatrix=(outputs.squeeze() - sequences[:,-1,3])>=0\n",
    "            truthDirMatrix=(targets - sequences[:,-1,3])>=0\n",
    "            DA+=(dirMatrix==truthDirMatrix).sum().item()\n",
    "            #end\n",
    "\n",
    "            mse=criterion(outputs.squeeze(), targets)\n",
    "            dir_loss = directional_loss(outputs, targets, sequences)\n",
    "\n",
    "            loss = mse + alpha * dir_loss*dirLossBool\n",
    "\n",
    "\n",
    "            val_loss += loss.item()\n",
    "            if(not calculateProfit):\n",
    "                continue\n",
    "            outputs=outputs.squeeze()\n",
    "            for index in range(0, targets.shape[0]):\n",
    "\n",
    "                realVal=inverseScale(targets[index],scaler,name[index],index, 3)[-1,3]\n",
    "                predVal=inverseScale(outputs[index],scaler,name[index],index, 3)[-1,3]\n",
    "                nextOpen=inverseScale(open[index],scaler,name[index],index, 0)[-1,0]\n",
    "\n",
    "                #code for the previous value scaling\n",
    "                # realPrevVal=zScalerDic[name[index]].inverse_transform(scaler.inverse_transform(sequences[index,-2:,:].cpu().numpy()))[-1,3]\n",
    "\n",
    "                if predVal > nextOpen:  # Buy\n",
    "                    profit = (realVal - nextOpen) \n",
    "                elif predVal < nextOpen:  # Short\n",
    "                    profit = (nextOpen - realVal) \n",
    "                else:  # No trade\n",
    "                    profit = 0\n",
    "\n",
    "                capital += (profit)  # Update capital\n",
    "    return val_loss, DA, capital\n",
    "    # print(f\"Validation Loss: {val_loss / len(val_loader):.4f}\")"
   ]
  },
  {
   "cell_type": "code",
   "execution_count": null,
   "metadata": {},
   "outputs": [],
   "source": [
    "from torch.optim.lr_scheduler import StepLR\n",
    "\n",
    "# Initialize model, loss function, and optimizer\n",
    "model = LSTMDoubleAttentionModel(input_size, embed_dim, hidden_size, output_size, num_layers=num_layers, bidirectional=True)\n",
    "# model = LSTMModel(input_size, hidden_size, num_layers, output_size)\n",
    "\n",
    "\n",
    "# criterion = nn.MSELoss()\n",
    "criterion = asymmetric_huber_loss\n",
    "\n",
    "optimizer = torch.optim.Adam(model.parameters(), lr=learning_rate)\n",
    "scheduler = StepLR(optimizer, step_size=10, gamma=0.1)"
   ]
  },
  {
   "cell_type": "code",
   "execution_count": 50,
   "metadata": {},
   "outputs": [],
   "source": [
    "loaded=False\n",
    "if(input(\"Do you want to load the previous model? (y/n)\")==\"y\"):\n",
    "    model.load_state_dict(torch.load(\"./Weights/lr_dec_BiDir6200.pth\", weights_only=True))\n",
    "    model.eval()\n",
    "    loaded=True"
   ]
  },
  {
   "cell_type": "code",
   "execution_count": 53,
   "metadata": {},
   "outputs": [
    {
     "name": "stdout",
     "output_type": "stream",
     "text": [
      "Epoch 1/40, Loss: 131.2001, Validation Loss: 44.7129, Directional Accuracy: 0.1005, Profit: 937.0595\n",
      "Epoch 2/40, Loss: 22.8597, Validation Loss: 10.1266, Directional Accuracy: 0.1055, Profit: 3214.4322\n",
      "Epoch 3/40, Loss: 5.5694, Validation Loss: 2.9000, Directional Accuracy: 0.1045, Profit: 4084.6326\n",
      "Epoch 4/40, Loss: 1.7654, Validation Loss: 1.0818, Directional Accuracy: 0.1073, Profit: 4857.9435\n",
      "Epoch 5/40, Loss: 0.7316, Validation Loss: 0.5223, Directional Accuracy: 0.1077, Profit: 5081.1516\n",
      "Epoch 6/40, Loss: 0.3908, Validation Loss: 0.3178, Directional Accuracy: 0.1089, Profit: 5283.1644\n",
      "Epoch 7/40, Loss: 0.2628, Validation Loss: 0.2389, Directional Accuracy: 0.1095, Profit: 5724.3524\n",
      "Epoch 8/40, Loss: 0.2125, Validation Loss: 0.2047, Directional Accuracy: 0.1098, Profit: 5755.7034\n",
      "Epoch 9/40, Loss: 0.1907, Validation Loss: 0.1867, Directional Accuracy: 0.1102, Profit: 5889.5714\n",
      "Epoch 10/40, Loss: 0.1801, Validation Loss: 0.1758, Directional Accuracy: 0.1105, Profit: 5965.6349\n",
      "Epoch 11/40, Loss: 0.1661, Validation Loss: 0.1673, Directional Accuracy: 0.1139, Profit: 5668.0694\n",
      "Epoch 12/40, Loss: 0.1651, Validation Loss: 0.1664, Directional Accuracy: 0.1138, Profit: 5656.2726\n",
      "Epoch 13/40, Loss: 0.1644, Validation Loss: 0.1656, Directional Accuracy: 0.1138, Profit: 5721.2492\n",
      "Epoch 14/40, Loss: 0.1637, Validation Loss: 0.1648, Directional Accuracy: 0.1141, Profit: 5751.0896\n",
      "Epoch 15/40, Loss: 0.1631, Validation Loss: 0.1641, Directional Accuracy: 0.1141, Profit: 5731.1098\n",
      "Epoch 16/40, Loss: 0.1626, Validation Loss: 0.1634, Directional Accuracy: 0.1146, Profit: 5715.5937\n",
      "Epoch 17/40, Loss: 0.1621, Validation Loss: 0.1628, Directional Accuracy: 0.1147, Profit: 5683.7036\n",
      "Epoch 18/40, Loss: 0.1616, Validation Loss: 0.1623, Directional Accuracy: 0.1147, Profit: 5729.3761\n",
      "Epoch 19/40, Loss: 0.1611, Validation Loss: 0.1617, Directional Accuracy: 0.1147, Profit: 5777.7963\n",
      "Epoch 20/40, Loss: 0.1607, Validation Loss: 0.1612, Directional Accuracy: 0.1147, Profit: 5737.2290\n",
      "Epoch 21/40, Loss: 0.1592, Validation Loss: 0.1611, Directional Accuracy: 0.1152, Profit: 5807.0446\n",
      "Epoch 22/40, Loss: 0.1591, Validation Loss: 0.1610, Directional Accuracy: 0.1150, Profit: 5841.1344\n",
      "Epoch 23/40, Loss: 0.1591, Validation Loss: 0.1609, Directional Accuracy: 0.1149, Profit: 5809.1761\n",
      "Epoch 24/40, Loss: 0.1590, Validation Loss: 0.1608, Directional Accuracy: 0.1149, Profit: 5815.4766\n",
      "Epoch 25/40, Loss: 0.1590, Validation Loss: 0.1608, Directional Accuracy: 0.1148, Profit: 5838.5303\n",
      "Epoch 26/40, Loss: 0.1589, Validation Loss: 0.1607, Directional Accuracy: 0.1148, Profit: 5833.6087\n",
      "Epoch 27/40, Loss: 0.1589, Validation Loss: 0.1607, Directional Accuracy: 0.1148, Profit: 5834.4822\n"
     ]
    },
    {
     "ename": "KeyboardInterrupt",
     "evalue": "",
     "output_type": "error",
     "traceback": [
      "\u001b[1;31m---------------------------------------------------------------------------\u001b[0m",
      "\u001b[1;31mKeyboardInterrupt\u001b[0m                         Traceback (most recent call last)",
      "Cell \u001b[1;32mIn[53], line 11\u001b[0m\n\u001b[0;32m      8\u001b[0m     epochs\u001b[38;5;241m=\u001b[39m\u001b[38;5;241m0\u001b[39m\n\u001b[0;32m      9\u001b[0m \u001b[38;5;28;01mfor\u001b[39;00m epoch \u001b[38;5;129;01min\u001b[39;00m \u001b[38;5;28mrange\u001b[39m(epochs):\n\u001b[1;32m---> 11\u001b[0m     epoch_loss\u001b[38;5;241m=\u001b[39m\u001b[43mtrain_one_epoch\u001b[49m\u001b[43m(\u001b[49m\u001b[43mmodel\u001b[49m\u001b[43m,\u001b[49m\u001b[43moptimizer\u001b[49m\u001b[43m,\u001b[49m\u001b[43mcriterion\u001b[49m\u001b[43m,\u001b[49m\u001b[43mtrain_loader\u001b[49m\u001b[43m,\u001b[49m\u001b[43m \u001b[49m\u001b[43mscheduler\u001b[49m\u001b[43m)\u001b[49m\n\u001b[0;32m     12\u001b[0m     val_loss, direction, profit\u001b[38;5;241m=\u001b[39mvalidate(model,criterion,val_loader)\n\u001b[0;32m     14\u001b[0m     val_loss\u001b[38;5;241m=\u001b[39mval_loss \u001b[38;5;241m/\u001b[39m \u001b[38;5;28mlen\u001b[39m(val_loader)\n",
      "Cell \u001b[1;32mIn[48], line 21\u001b[0m, in \u001b[0;36mtrain_one_epoch\u001b[1;34m(model, optimizer, criterion, train_loader, scheduler)\u001b[0m\n\u001b[0;32m     18\u001b[0m     \u001b[38;5;66;03m# loss = mse\u001b[39;00m\n\u001b[0;32m     20\u001b[0m     loss\u001b[38;5;241m.\u001b[39mbackward()\n\u001b[1;32m---> 21\u001b[0m     \u001b[43moptimizer\u001b[49m\u001b[38;5;241;43m.\u001b[39;49m\u001b[43mstep\u001b[49m\u001b[43m(\u001b[49m\u001b[43m)\u001b[49m\n\u001b[0;32m     23\u001b[0m     epoch_loss \u001b[38;5;241m+\u001b[39m\u001b[38;5;241m=\u001b[39m loss\u001b[38;5;241m.\u001b[39mitem()\n\u001b[0;32m     26\u001b[0m scheduler\u001b[38;5;241m.\u001b[39mstep()\n",
      "File \u001b[1;32mc:\\Users\\alt_user\\anaconda3\\envs\\tf\\lib\\site-packages\\torch\\optim\\lr_scheduler.py:130\u001b[0m, in \u001b[0;36mLRScheduler.__init__.<locals>.patch_track_step_called.<locals>.wrap_step.<locals>.wrapper\u001b[1;34m(*args, **kwargs)\u001b[0m\n\u001b[0;32m    128\u001b[0m opt \u001b[38;5;241m=\u001b[39m opt_ref()\n\u001b[0;32m    129\u001b[0m opt\u001b[38;5;241m.\u001b[39m_opt_called \u001b[38;5;241m=\u001b[39m \u001b[38;5;28;01mTrue\u001b[39;00m  \u001b[38;5;66;03m# type: ignore[union-attr]\u001b[39;00m\n\u001b[1;32m--> 130\u001b[0m \u001b[38;5;28;01mreturn\u001b[39;00m func\u001b[38;5;241m.\u001b[39m\u001b[38;5;21m__get__\u001b[39m(opt, opt\u001b[38;5;241m.\u001b[39m\u001b[38;5;18m__class__\u001b[39m)(\u001b[38;5;241m*\u001b[39margs, \u001b[38;5;241m*\u001b[39m\u001b[38;5;241m*\u001b[39mkwargs)\n",
      "File \u001b[1;32mc:\\Users\\alt_user\\anaconda3\\envs\\tf\\lib\\site-packages\\torch\\optim\\optimizer.py:484\u001b[0m, in \u001b[0;36mOptimizer.profile_hook_step.<locals>.wrapper\u001b[1;34m(*args, **kwargs)\u001b[0m\n\u001b[0;32m    479\u001b[0m         \u001b[38;5;28;01melse\u001b[39;00m:\n\u001b[0;32m    480\u001b[0m             \u001b[38;5;28;01mraise\u001b[39;00m \u001b[38;5;167;01mRuntimeError\u001b[39;00m(\n\u001b[0;32m    481\u001b[0m                 \u001b[38;5;124mf\u001b[39m\u001b[38;5;124m\"\u001b[39m\u001b[38;5;132;01m{\u001b[39;00mfunc\u001b[38;5;132;01m}\u001b[39;00m\u001b[38;5;124m must return None or a tuple of (new_args, new_kwargs), but got \u001b[39m\u001b[38;5;132;01m{\u001b[39;00mresult\u001b[38;5;132;01m}\u001b[39;00m\u001b[38;5;124m.\u001b[39m\u001b[38;5;124m\"\u001b[39m\n\u001b[0;32m    482\u001b[0m             )\n\u001b[1;32m--> 484\u001b[0m out \u001b[38;5;241m=\u001b[39m func(\u001b[38;5;241m*\u001b[39margs, \u001b[38;5;241m*\u001b[39m\u001b[38;5;241m*\u001b[39mkwargs)\n\u001b[0;32m    485\u001b[0m \u001b[38;5;28mself\u001b[39m\u001b[38;5;241m.\u001b[39m_optimizer_step_code()\n\u001b[0;32m    487\u001b[0m \u001b[38;5;66;03m# call optimizer step post hooks\u001b[39;00m\n",
      "File \u001b[1;32mc:\\Users\\alt_user\\anaconda3\\envs\\tf\\lib\\site-packages\\torch\\optim\\optimizer.py:89\u001b[0m, in \u001b[0;36m_use_grad_for_differentiable.<locals>._use_grad\u001b[1;34m(self, *args, **kwargs)\u001b[0m\n\u001b[0;32m     87\u001b[0m     torch\u001b[38;5;241m.\u001b[39mset_grad_enabled(\u001b[38;5;28mself\u001b[39m\u001b[38;5;241m.\u001b[39mdefaults[\u001b[38;5;124m\"\u001b[39m\u001b[38;5;124mdifferentiable\u001b[39m\u001b[38;5;124m\"\u001b[39m])\n\u001b[0;32m     88\u001b[0m     torch\u001b[38;5;241m.\u001b[39m_dynamo\u001b[38;5;241m.\u001b[39mgraph_break()\n\u001b[1;32m---> 89\u001b[0m     ret \u001b[38;5;241m=\u001b[39m func(\u001b[38;5;28mself\u001b[39m, \u001b[38;5;241m*\u001b[39margs, \u001b[38;5;241m*\u001b[39m\u001b[38;5;241m*\u001b[39mkwargs)\n\u001b[0;32m     90\u001b[0m \u001b[38;5;28;01mfinally\u001b[39;00m:\n\u001b[0;32m     91\u001b[0m     torch\u001b[38;5;241m.\u001b[39m_dynamo\u001b[38;5;241m.\u001b[39mgraph_break()\n",
      "File \u001b[1;32mc:\\Users\\alt_user\\anaconda3\\envs\\tf\\lib\\site-packages\\torch\\optim\\adam.py:226\u001b[0m, in \u001b[0;36mAdam.step\u001b[1;34m(self, closure)\u001b[0m\n\u001b[0;32m    214\u001b[0m     beta1, beta2 \u001b[38;5;241m=\u001b[39m group[\u001b[38;5;124m\"\u001b[39m\u001b[38;5;124mbetas\u001b[39m\u001b[38;5;124m\"\u001b[39m]\n\u001b[0;32m    216\u001b[0m     has_complex \u001b[38;5;241m=\u001b[39m \u001b[38;5;28mself\u001b[39m\u001b[38;5;241m.\u001b[39m_init_group(\n\u001b[0;32m    217\u001b[0m         group,\n\u001b[0;32m    218\u001b[0m         params_with_grad,\n\u001b[1;32m   (...)\u001b[0m\n\u001b[0;32m    223\u001b[0m         state_steps,\n\u001b[0;32m    224\u001b[0m     )\n\u001b[1;32m--> 226\u001b[0m     \u001b[43madam\u001b[49m\u001b[43m(\u001b[49m\n\u001b[0;32m    227\u001b[0m \u001b[43m        \u001b[49m\u001b[43mparams_with_grad\u001b[49m\u001b[43m,\u001b[49m\n\u001b[0;32m    228\u001b[0m \u001b[43m        \u001b[49m\u001b[43mgrads\u001b[49m\u001b[43m,\u001b[49m\n\u001b[0;32m    229\u001b[0m \u001b[43m        \u001b[49m\u001b[43mexp_avgs\u001b[49m\u001b[43m,\u001b[49m\n\u001b[0;32m    230\u001b[0m \u001b[43m        \u001b[49m\u001b[43mexp_avg_sqs\u001b[49m\u001b[43m,\u001b[49m\n\u001b[0;32m    231\u001b[0m \u001b[43m        \u001b[49m\u001b[43mmax_exp_avg_sqs\u001b[49m\u001b[43m,\u001b[49m\n\u001b[0;32m    232\u001b[0m \u001b[43m        \u001b[49m\u001b[43mstate_steps\u001b[49m\u001b[43m,\u001b[49m\n\u001b[0;32m    233\u001b[0m \u001b[43m        \u001b[49m\u001b[43mamsgrad\u001b[49m\u001b[38;5;241;43m=\u001b[39;49m\u001b[43mgroup\u001b[49m\u001b[43m[\u001b[49m\u001b[38;5;124;43m\"\u001b[39;49m\u001b[38;5;124;43mamsgrad\u001b[39;49m\u001b[38;5;124;43m\"\u001b[39;49m\u001b[43m]\u001b[49m\u001b[43m,\u001b[49m\n\u001b[0;32m    234\u001b[0m \u001b[43m        \u001b[49m\u001b[43mhas_complex\u001b[49m\u001b[38;5;241;43m=\u001b[39;49m\u001b[43mhas_complex\u001b[49m\u001b[43m,\u001b[49m\n\u001b[0;32m    235\u001b[0m \u001b[43m        \u001b[49m\u001b[43mbeta1\u001b[49m\u001b[38;5;241;43m=\u001b[39;49m\u001b[43mbeta1\u001b[49m\u001b[43m,\u001b[49m\n\u001b[0;32m    236\u001b[0m \u001b[43m        \u001b[49m\u001b[43mbeta2\u001b[49m\u001b[38;5;241;43m=\u001b[39;49m\u001b[43mbeta2\u001b[49m\u001b[43m,\u001b[49m\n\u001b[0;32m    237\u001b[0m \u001b[43m        \u001b[49m\u001b[43mlr\u001b[49m\u001b[38;5;241;43m=\u001b[39;49m\u001b[43mgroup\u001b[49m\u001b[43m[\u001b[49m\u001b[38;5;124;43m\"\u001b[39;49m\u001b[38;5;124;43mlr\u001b[39;49m\u001b[38;5;124;43m\"\u001b[39;49m\u001b[43m]\u001b[49m\u001b[43m,\u001b[49m\n\u001b[0;32m    238\u001b[0m \u001b[43m        \u001b[49m\u001b[43mweight_decay\u001b[49m\u001b[38;5;241;43m=\u001b[39;49m\u001b[43mgroup\u001b[49m\u001b[43m[\u001b[49m\u001b[38;5;124;43m\"\u001b[39;49m\u001b[38;5;124;43mweight_decay\u001b[39;49m\u001b[38;5;124;43m\"\u001b[39;49m\u001b[43m]\u001b[49m\u001b[43m,\u001b[49m\n\u001b[0;32m    239\u001b[0m \u001b[43m        \u001b[49m\u001b[43meps\u001b[49m\u001b[38;5;241;43m=\u001b[39;49m\u001b[43mgroup\u001b[49m\u001b[43m[\u001b[49m\u001b[38;5;124;43m\"\u001b[39;49m\u001b[38;5;124;43meps\u001b[39;49m\u001b[38;5;124;43m\"\u001b[39;49m\u001b[43m]\u001b[49m\u001b[43m,\u001b[49m\n\u001b[0;32m    240\u001b[0m \u001b[43m        \u001b[49m\u001b[43mmaximize\u001b[49m\u001b[38;5;241;43m=\u001b[39;49m\u001b[43mgroup\u001b[49m\u001b[43m[\u001b[49m\u001b[38;5;124;43m\"\u001b[39;49m\u001b[38;5;124;43mmaximize\u001b[39;49m\u001b[38;5;124;43m\"\u001b[39;49m\u001b[43m]\u001b[49m\u001b[43m,\u001b[49m\n\u001b[0;32m    241\u001b[0m \u001b[43m        \u001b[49m\u001b[43mforeach\u001b[49m\u001b[38;5;241;43m=\u001b[39;49m\u001b[43mgroup\u001b[49m\u001b[43m[\u001b[49m\u001b[38;5;124;43m\"\u001b[39;49m\u001b[38;5;124;43mforeach\u001b[39;49m\u001b[38;5;124;43m\"\u001b[39;49m\u001b[43m]\u001b[49m\u001b[43m,\u001b[49m\n\u001b[0;32m    242\u001b[0m \u001b[43m        \u001b[49m\u001b[43mcapturable\u001b[49m\u001b[38;5;241;43m=\u001b[39;49m\u001b[43mgroup\u001b[49m\u001b[43m[\u001b[49m\u001b[38;5;124;43m\"\u001b[39;49m\u001b[38;5;124;43mcapturable\u001b[39;49m\u001b[38;5;124;43m\"\u001b[39;49m\u001b[43m]\u001b[49m\u001b[43m,\u001b[49m\n\u001b[0;32m    243\u001b[0m \u001b[43m        \u001b[49m\u001b[43mdifferentiable\u001b[49m\u001b[38;5;241;43m=\u001b[39;49m\u001b[43mgroup\u001b[49m\u001b[43m[\u001b[49m\u001b[38;5;124;43m\"\u001b[39;49m\u001b[38;5;124;43mdifferentiable\u001b[39;49m\u001b[38;5;124;43m\"\u001b[39;49m\u001b[43m]\u001b[49m\u001b[43m,\u001b[49m\n\u001b[0;32m    244\u001b[0m \u001b[43m        \u001b[49m\u001b[43mfused\u001b[49m\u001b[38;5;241;43m=\u001b[39;49m\u001b[43mgroup\u001b[49m\u001b[43m[\u001b[49m\u001b[38;5;124;43m\"\u001b[39;49m\u001b[38;5;124;43mfused\u001b[39;49m\u001b[38;5;124;43m\"\u001b[39;49m\u001b[43m]\u001b[49m\u001b[43m,\u001b[49m\n\u001b[0;32m    245\u001b[0m \u001b[43m        \u001b[49m\u001b[43mgrad_scale\u001b[49m\u001b[38;5;241;43m=\u001b[39;49m\u001b[38;5;28;43mgetattr\u001b[39;49m\u001b[43m(\u001b[49m\u001b[38;5;28;43mself\u001b[39;49m\u001b[43m,\u001b[49m\u001b[43m \u001b[49m\u001b[38;5;124;43m\"\u001b[39;49m\u001b[38;5;124;43mgrad_scale\u001b[39;49m\u001b[38;5;124;43m\"\u001b[39;49m\u001b[43m,\u001b[49m\u001b[43m \u001b[49m\u001b[38;5;28;43;01mNone\u001b[39;49;00m\u001b[43m)\u001b[49m\u001b[43m,\u001b[49m\n\u001b[0;32m    246\u001b[0m \u001b[43m        \u001b[49m\u001b[43mfound_inf\u001b[49m\u001b[38;5;241;43m=\u001b[39;49m\u001b[38;5;28;43mgetattr\u001b[39;49m\u001b[43m(\u001b[49m\u001b[38;5;28;43mself\u001b[39;49m\u001b[43m,\u001b[49m\u001b[43m \u001b[49m\u001b[38;5;124;43m\"\u001b[39;49m\u001b[38;5;124;43mfound_inf\u001b[39;49m\u001b[38;5;124;43m\"\u001b[39;49m\u001b[43m,\u001b[49m\u001b[43m \u001b[49m\u001b[38;5;28;43;01mNone\u001b[39;49;00m\u001b[43m)\u001b[49m\u001b[43m,\u001b[49m\n\u001b[0;32m    247\u001b[0m \u001b[43m    \u001b[49m\u001b[43m)\u001b[49m\n\u001b[0;32m    249\u001b[0m \u001b[38;5;28;01mreturn\u001b[39;00m loss\n",
      "File \u001b[1;32mc:\\Users\\alt_user\\anaconda3\\envs\\tf\\lib\\site-packages\\torch\\optim\\optimizer.py:161\u001b[0m, in \u001b[0;36m_disable_dynamo_if_unsupported.<locals>.wrapper.<locals>.maybe_fallback\u001b[1;34m(*args, **kwargs)\u001b[0m\n\u001b[0;32m    159\u001b[0m     \u001b[38;5;28;01mreturn\u001b[39;00m disabled_func(\u001b[38;5;241m*\u001b[39margs, \u001b[38;5;241m*\u001b[39m\u001b[38;5;241m*\u001b[39mkwargs)\n\u001b[0;32m    160\u001b[0m \u001b[38;5;28;01melse\u001b[39;00m:\n\u001b[1;32m--> 161\u001b[0m     \u001b[38;5;28;01mreturn\u001b[39;00m func(\u001b[38;5;241m*\u001b[39margs, \u001b[38;5;241m*\u001b[39m\u001b[38;5;241m*\u001b[39mkwargs)\n",
      "File \u001b[1;32mc:\\Users\\alt_user\\anaconda3\\envs\\tf\\lib\\site-packages\\torch\\optim\\adam.py:766\u001b[0m, in \u001b[0;36madam\u001b[1;34m(params, grads, exp_avgs, exp_avg_sqs, max_exp_avg_sqs, state_steps, foreach, capturable, differentiable, fused, grad_scale, found_inf, has_complex, amsgrad, beta1, beta2, lr, weight_decay, eps, maximize)\u001b[0m\n\u001b[0;32m    763\u001b[0m \u001b[38;5;28;01melse\u001b[39;00m:\n\u001b[0;32m    764\u001b[0m     func \u001b[38;5;241m=\u001b[39m _single_tensor_adam\n\u001b[1;32m--> 766\u001b[0m \u001b[43mfunc\u001b[49m\u001b[43m(\u001b[49m\n\u001b[0;32m    767\u001b[0m \u001b[43m    \u001b[49m\u001b[43mparams\u001b[49m\u001b[43m,\u001b[49m\n\u001b[0;32m    768\u001b[0m \u001b[43m    \u001b[49m\u001b[43mgrads\u001b[49m\u001b[43m,\u001b[49m\n\u001b[0;32m    769\u001b[0m \u001b[43m    \u001b[49m\u001b[43mexp_avgs\u001b[49m\u001b[43m,\u001b[49m\n\u001b[0;32m    770\u001b[0m \u001b[43m    \u001b[49m\u001b[43mexp_avg_sqs\u001b[49m\u001b[43m,\u001b[49m\n\u001b[0;32m    771\u001b[0m \u001b[43m    \u001b[49m\u001b[43mmax_exp_avg_sqs\u001b[49m\u001b[43m,\u001b[49m\n\u001b[0;32m    772\u001b[0m \u001b[43m    \u001b[49m\u001b[43mstate_steps\u001b[49m\u001b[43m,\u001b[49m\n\u001b[0;32m    773\u001b[0m \u001b[43m    \u001b[49m\u001b[43mamsgrad\u001b[49m\u001b[38;5;241;43m=\u001b[39;49m\u001b[43mamsgrad\u001b[49m\u001b[43m,\u001b[49m\n\u001b[0;32m    774\u001b[0m \u001b[43m    \u001b[49m\u001b[43mhas_complex\u001b[49m\u001b[38;5;241;43m=\u001b[39;49m\u001b[43mhas_complex\u001b[49m\u001b[43m,\u001b[49m\n\u001b[0;32m    775\u001b[0m \u001b[43m    \u001b[49m\u001b[43mbeta1\u001b[49m\u001b[38;5;241;43m=\u001b[39;49m\u001b[43mbeta1\u001b[49m\u001b[43m,\u001b[49m\n\u001b[0;32m    776\u001b[0m \u001b[43m    \u001b[49m\u001b[43mbeta2\u001b[49m\u001b[38;5;241;43m=\u001b[39;49m\u001b[43mbeta2\u001b[49m\u001b[43m,\u001b[49m\n\u001b[0;32m    777\u001b[0m \u001b[43m    \u001b[49m\u001b[43mlr\u001b[49m\u001b[38;5;241;43m=\u001b[39;49m\u001b[43mlr\u001b[49m\u001b[43m,\u001b[49m\n\u001b[0;32m    778\u001b[0m \u001b[43m    \u001b[49m\u001b[43mweight_decay\u001b[49m\u001b[38;5;241;43m=\u001b[39;49m\u001b[43mweight_decay\u001b[49m\u001b[43m,\u001b[49m\n\u001b[0;32m    779\u001b[0m \u001b[43m    \u001b[49m\u001b[43meps\u001b[49m\u001b[38;5;241;43m=\u001b[39;49m\u001b[43meps\u001b[49m\u001b[43m,\u001b[49m\n\u001b[0;32m    780\u001b[0m \u001b[43m    \u001b[49m\u001b[43mmaximize\u001b[49m\u001b[38;5;241;43m=\u001b[39;49m\u001b[43mmaximize\u001b[49m\u001b[43m,\u001b[49m\n\u001b[0;32m    781\u001b[0m \u001b[43m    \u001b[49m\u001b[43mcapturable\u001b[49m\u001b[38;5;241;43m=\u001b[39;49m\u001b[43mcapturable\u001b[49m\u001b[43m,\u001b[49m\n\u001b[0;32m    782\u001b[0m \u001b[43m    \u001b[49m\u001b[43mdifferentiable\u001b[49m\u001b[38;5;241;43m=\u001b[39;49m\u001b[43mdifferentiable\u001b[49m\u001b[43m,\u001b[49m\n\u001b[0;32m    783\u001b[0m \u001b[43m    \u001b[49m\u001b[43mgrad_scale\u001b[49m\u001b[38;5;241;43m=\u001b[39;49m\u001b[43mgrad_scale\u001b[49m\u001b[43m,\u001b[49m\n\u001b[0;32m    784\u001b[0m \u001b[43m    \u001b[49m\u001b[43mfound_inf\u001b[49m\u001b[38;5;241;43m=\u001b[39;49m\u001b[43mfound_inf\u001b[49m\u001b[43m,\u001b[49m\n\u001b[0;32m    785\u001b[0m \u001b[43m\u001b[49m\u001b[43m)\u001b[49m\n",
      "File \u001b[1;32mc:\\Users\\alt_user\\anaconda3\\envs\\tf\\lib\\site-packages\\torch\\optim\\adam.py:518\u001b[0m, in \u001b[0;36m_multi_tensor_adam\u001b[1;34m(params, grads, exp_avgs, exp_avg_sqs, max_exp_avg_sqs, state_steps, grad_scale, found_inf, amsgrad, has_complex, beta1, beta2, lr, weight_decay, eps, maximize, capturable, differentiable)\u001b[0m\n\u001b[0;32m    513\u001b[0m \u001b[38;5;66;03m# Update steps\u001b[39;00m\n\u001b[0;32m    514\u001b[0m \u001b[38;5;66;03m# If steps are on CPU, foreach will fall back to the slow path, which is a for-loop calling t.add(1) over\u001b[39;00m\n\u001b[0;32m    515\u001b[0m \u001b[38;5;66;03m# and over. 1 will then be wrapped into a Tensor over and over again, which is slower than if we just\u001b[39;00m\n\u001b[0;32m    516\u001b[0m \u001b[38;5;66;03m# wrapped it once now. The alpha is required to assure we go to the right overload.\u001b[39;00m\n\u001b[0;32m    517\u001b[0m \u001b[38;5;28;01mif\u001b[39;00m device_state_steps[\u001b[38;5;241m0\u001b[39m]\u001b[38;5;241m.\u001b[39mis_cpu:\n\u001b[1;32m--> 518\u001b[0m     \u001b[43mtorch\u001b[49m\u001b[38;5;241;43m.\u001b[39;49m\u001b[43m_foreach_add_\u001b[49m\u001b[43m(\u001b[49m\n\u001b[0;32m    519\u001b[0m \u001b[43m        \u001b[49m\u001b[43mdevice_state_steps\u001b[49m\u001b[43m,\u001b[49m\u001b[43m \u001b[49m\u001b[43mtorch\u001b[49m\u001b[38;5;241;43m.\u001b[39;49m\u001b[43mtensor\u001b[49m\u001b[43m(\u001b[49m\u001b[38;5;241;43m1.0\u001b[39;49m\u001b[43m,\u001b[49m\u001b[43m \u001b[49m\u001b[43mdevice\u001b[49m\u001b[38;5;241;43m=\u001b[39;49m\u001b[38;5;124;43m\"\u001b[39;49m\u001b[38;5;124;43mcpu\u001b[39;49m\u001b[38;5;124;43m\"\u001b[39;49m\u001b[43m)\u001b[49m\u001b[43m,\u001b[49m\u001b[43m \u001b[49m\u001b[43malpha\u001b[49m\u001b[38;5;241;43m=\u001b[39;49m\u001b[38;5;241;43m1.0\u001b[39;49m\n\u001b[0;32m    520\u001b[0m \u001b[43m    \u001b[49m\u001b[43m)\u001b[49m\n\u001b[0;32m    521\u001b[0m \u001b[38;5;28;01melse\u001b[39;00m:\n\u001b[0;32m    522\u001b[0m     torch\u001b[38;5;241m.\u001b[39m_foreach_add_(device_state_steps, \u001b[38;5;241m1\u001b[39m)\n",
      "\u001b[1;31mKeyboardInterrupt\u001b[0m: "
     ]
    }
   ],
   "source": [
    "valLosses=[]\n",
    "trainLosses=[]\n",
    "DAvals=[]\n",
    "earlyStopper=0\n",
    "# Training loop\n",
    "temp=epochs\n",
    "if(loaded):\n",
    "    epochs=0\n",
    "for epoch in range(epochs):\n",
    "\n",
    "    epoch_loss=train_one_epoch(model,optimizer,criterion,train_loader, scheduler)\n",
    "    val_loss, direction, profit=validate(model,criterion,val_loader)\n",
    "\n",
    "    val_loss=val_loss / len(val_loader)\n",
    "    epoch_loss=epoch_loss / len(train_loader)\n",
    "    direction=direction / len(nameAll)\n",
    "    \n",
    "    valLosses.append(val_loss)\n",
    "    trainLosses.append(epoch_loss)\n",
    "    DAvals.append(direction)\n",
    "\n",
    "    print(f\"Epoch {epoch+1}/{epochs}, Loss: {epoch_loss:.4f}, Validation Loss: {val_loss:.4f}, Directional Accuracy: {direction:.4f}, Profit: {profit:.4f}\")\n",
    "    if(val_loss<valLosses[-1]):\n",
    "        earlyStopper+=1\n",
    "        if(earlyStopper>5):\n",
    "            print(\"Early Stopping\")\n",
    "            break\n",
    "    else:\n",
    "        earlyStopper=0\n",
    "\n",
    "\n",
    "\n",
    "if(loaded):\n",
    "    epochs=temp\n",
    "    temp=None"
   ]
  },
  {
   "cell_type": "code",
   "execution_count": null,
   "metadata": {},
   "outputs": [],
   "source": [
    "# import matplotlib.pyplot as plt\n",
    "# import numpy as np\n",
    "# startPoint=30\n",
    "# # Example float array\n",
    "# val_array = valLosses[startPoint:]\n",
    "# train_array = trainLosses[startPoint:]\n",
    "\n",
    "# # Create an x-axis for the data points\n",
    "# x = np.arange(len(train_array))\n",
    "# y = np.arange(len(val_array))\n",
    "\n",
    "# # Plot the graph\n",
    "# plt.plot(x, train_array, marker='o', linestyle='-', color='b', label='Train Loss')\n",
    "# plt.plot(y, val_array, marker='o', linestyle='-', color='r', label='Val Loss')\n",
    "\n",
    "# # Add labels and title\n",
    "# plt.xlabel('Index')\n",
    "# plt.ylabel('Value')\n",
    "# plt.title('Float Array Plot')\n",
    "# plt.legend()\n",
    "\n",
    "# plt.grid(True)\n",
    "# plt.show()"
   ]
  },
  {
   "cell_type": "code",
   "execution_count": null,
   "metadata": {},
   "outputs": [],
   "source": [
    "# startPoint=15\n",
    "# da_array = DAvals[startPoint:]\n",
    "# # Create an x-axis for the data points\n",
    "# x = np.arange(len(da_array))\n",
    "\n",
    "# # Plot the graph\n",
    "# plt.plot(x, da_array, marker='o', linestyle='-', color='b', label='Directional success')\n",
    "# # Add labels and title\n",
    "# plt.xlabel('Index')\n",
    "# plt.ylabel('Value')\n",
    "# plt.title('Float Array Plot')\n",
    "# plt.legend()\n",
    "\n",
    "# plt.grid(True)\n",
    "# plt.show()"
   ]
  },
  {
   "cell_type": "code",
   "execution_count": null,
   "metadata": {},
   "outputs": [],
   "source": [
    "\n",
    "#TODO maybe take an input for the save name\n",
    "saveName=\"./Weights/lr_dec_BiDir6200.pth\"\n",
    "\n",
    "if(not loaded and input(\"Do you want to save the model? (y/n)\")==\"y\"):\n",
    "    torch.save(model.state_dict(), saveName)\n",
    "\n",
    "if(not loaded and input(\"Do you want to save the scalers? (y/n)\")==\"y\"):\n",
    "    import pickle as pkl\n",
    "    scalerSaveName=saveName.split(\"/\")[-1][:-4]\n",
    "    os.makedirs(f\"./Weights/scalers/{scalerSaveName}\", exist_ok=True)\n",
    "    with open(f\"./Weights/scalers/{scalerSaveName}/scaler_{scalerSaveName}.pkl\",\"wb\") as f:\n",
    "        pkl.dump(scaler,f)\n",
    "        f.close()\n",
    "    with open(f\"./Weights/scalers/{scalerSaveName}/zScalerDic_{scalerSaveName}.pkl\",\"wb\") as f:\n",
    "        pkl.dump(zScalerDic,f)\n",
    "        f.close()"
   ]
  },
  {
   "cell_type": "code",
   "execution_count": null,
   "metadata": {},
   "outputs": [
    {
     "name": "stdout",
     "output_type": "stream",
     "text": [
      "Test Input Shape: torch.Size([32, 10, 6])\n",
      "Predicted Output Shape: torch.Size([32])\n"
     ]
    },
    {
     "data": {
      "text/plain": [
       "tensor([23.0708, 13.7689, 36.2973, 12.8128, 10.1537, 19.9538, 32.4030, 14.6738,\n",
       "        25.3991, 14.0790, 28.9539, 25.9049, 11.5357, 15.0943, 11.8914, 11.0357,\n",
       "        12.6061, 26.1578, 13.0953, 16.1365, 12.1550, 32.4615, 11.0882, 35.2191,\n",
       "        29.0208, 28.3859, 27.3044, 35.7956, 12.8247, 17.4292, 18.8766, 14.1144],\n",
       "       device='cuda:0')"
      ]
     },
     "execution_count": 23,
     "metadata": {},
     "output_type": "execute_result"
    }
   ],
   "source": [
    "# Extract one batch of data for testing\n",
    "model.to(device)\n",
    "for sequences, targets, name, open in train_loader:\n",
    "    testInput = sequences.to(device)  # Sequence data\n",
    "    # testInput.to(device)\n",
    "    print(f\"Test Input Shape: {testInput.shape}\")\n",
    "    realOutput = targets   # Ground truth output\n",
    "    break\n",
    "\n",
    "# Ensure the model is in evaluation mode\n",
    "model.eval()\n",
    "\n",
    "# Predict using the model\n",
    "with torch.no_grad():  # Disable gradient calculations for inference\n",
    "    predicted, att = model(testInput) # Forward pass through the model\n",
    "    predicted=predicted.squeeze()\n",
    "# Check shapes and results\n",
    "print(f\"Predicted Output Shape: {predicted.shape}\")\n",
    "\n",
    "predicted\n",
    "# testInput.shape"
   ]
  },
  {
   "cell_type": "code",
   "execution_count": null,
   "metadata": {},
   "outputs": [
    {
     "data": {
      "text/plain": [
       "tensor([22.7607, 13.9064, 38.1664, 12.8154, 10.2141, 19.9622, 32.4496, 14.8337,\n",
       "        24.8467, 14.1724, 28.9589, 26.8786, 11.5357, 15.0554, 11.9663, 11.0366,\n",
       "        12.5290, 25.0590, 13.5174, 16.0576, 12.1851, 32.5694, 11.0653, 34.7276,\n",
       "        28.5664, 28.3039, 27.4845, 33.7297, 12.8250, 17.6794, 18.8024, 14.0642])"
      ]
     },
     "execution_count": 24,
     "metadata": {},
     "output_type": "execute_result"
    }
   ],
   "source": [
    "realOutput"
   ]
  },
  {
   "cell_type": "code",
   "execution_count": null,
   "metadata": {},
   "outputs": [
    {
     "data": {
      "text/plain": [
       "tensor([[1.5686e+01, 1.5906e+01, 1.5744e+01, 1.5900e+01, 7.8264e+00, 1.6592e+01],\n",
       "        [1.5585e+01, 1.5755e+01, 1.5551e+01, 1.5610e+01, 8.8968e+00, 9.7202e-03],\n",
       "        [1.5221e+01, 1.5369e+01, 1.5041e+01, 1.5131e+01, 8.6726e+00, 9.7202e-03],\n",
       "        [1.4727e+01, 1.5043e+01, 1.4795e+01, 1.4991e+01, 8.6295e+00, 9.7202e-03],\n",
       "        [1.4543e+01, 1.4752e+01, 1.4565e+01, 1.4717e+01, 8.6079e+00, 9.7202e-03],\n",
       "        [1.4222e+01, 1.4444e+01, 1.4261e+01, 1.4364e+01, 8.6408e+00, 1.6592e+01],\n",
       "        [1.3817e+01, 1.4120e+01, 1.3902e+01, 1.3957e+01, 8.6194e+00, 9.7202e-03],\n",
       "        [1.3839e+01, 1.4047e+01, 1.3889e+01, 1.3758e+01, 8.6508e+00, 9.7202e-03],\n",
       "        [1.3635e+01, 1.3812e+01, 1.3775e+01, 1.3690e+01, 9.3899e+00, 9.7202e-03],\n",
       "        [1.3586e+01, 1.3848e+01, 1.3807e+01, 1.3758e+01, 9.4191e+00, 9.7202e-03]])"
      ]
     },
     "execution_count": 25,
     "metadata": {},
     "output_type": "execute_result"
    }
   ],
   "source": [
    "sequences[1]"
   ]
  },
  {
   "cell_type": "code",
   "execution_count": null,
   "metadata": {},
   "outputs": [],
   "source": [
    "predIndex=1\n",
    "prediction=np.zeros((32,lookback_window,6))\n",
    "real=np.zeros((32,lookback_window,6))\n",
    "openNext=np.zeros((32,lookback_window,6))\n",
    "openNext[:,-1,0]=open.cpu().numpy()\n",
    "real[:,-1,3]=realOutput.cpu().numpy()\n",
    "prediction[:,-1,3]=predicted.cpu().numpy()"
   ]
  },
  {
   "cell_type": "code",
   "execution_count": null,
   "metadata": {},
   "outputs": [
    {
     "data": {
      "text/plain": [
       "(25.543865485416806, 'real val')"
      ]
     },
     "execution_count": 27,
     "metadata": {},
     "output_type": "execute_result"
    }
   ],
   "source": [
    "reverseScaled=scaler.inverse_transform(real[predIndex,:,:])\n",
    "zScalerDic[name[predIndex]].inverse_transform(reverseScaled)[-1,3], \"real val\""
   ]
  },
  {
   "cell_type": "code",
   "execution_count": null,
   "metadata": {},
   "outputs": [
    {
     "data": {
      "text/plain": [
       "(25.166522884825817, 'prediction')"
      ]
     },
     "execution_count": 28,
     "metadata": {},
     "output_type": "execute_result"
    }
   ],
   "source": [
    "reverseScaledP=scaler.inverse_transform(prediction[predIndex,:,:])\n",
    "zScalerDic[name[predIndex]].inverse_transform(reverseScaledP)[-1,3], \"prediction\""
   ]
  },
  {
   "cell_type": "code",
   "execution_count": null,
   "metadata": {},
   "outputs": [
    {
     "data": {
      "text/plain": [
       "(25.83440399788412, 'open')"
      ]
     },
     "execution_count": 29,
     "metadata": {},
     "output_type": "execute_result"
    }
   ],
   "source": [
    "reverseScaledO=scaler.inverse_transform(openNext[predIndex,:,:])\n",
    "zScalerDic[name[predIndex]].inverse_transform(reverseScaledO)[-1,0], \"open\""
   ]
  },
  {
   "cell_type": "code",
   "execution_count": null,
   "metadata": {},
   "outputs": [],
   "source": [
    "def calculateProfit(model,val_loader):\n",
    "    model.eval()\n",
    "    model.to(device)\n",
    "    profit=0\n",
    "    capital=0\n",
    "    with torch.no_grad():\n",
    "        for sequences, targets, name, open in val_loader:\n",
    "            sequences, targets = sequences.to(device), targets.to(device)\n",
    "            outputs, att = model(sequences)\n",
    "            outputs=outputs.squeeze()\n",
    "\n",
    "            for index in range(0, targets.shape[0]):\n",
    "\n",
    "                realVal=inverseScale(targets[index],scaler,name[index],index, 3)[-1,3]\n",
    "                predVal=inverseScale(outputs[index],scaler,name[index],index, 3)[-1,3]\n",
    "                nextOpen=inverseScale(open[index],scaler,name[index],index, 0)[-1,0]\n",
    "\n",
    "                #code for the previous value scaling\n",
    "                # realPrevVal=zScalerDic[name[index]].inverse_transform(scaler.inverse_transform(sequences[index,-2:,:].cpu().numpy()))[-1,3]\n",
    "\n",
    "                if predVal > nextOpen:  # Buy\n",
    "                    profit = (realVal - nextOpen) \n",
    "                elif predVal < nextOpen:  # Short\n",
    "                    profit = (nextOpen - realVal) \n",
    "                else:  # No trade\n",
    "                    profit = 0\n",
    "\n",
    "                capital += (profit)  # Update capital\n",
    "                # print(f\"Profit: {profit:.4f} Real Val: {realVal:.4f} Pred Val: {predVal:.4f} Next Open: {nextOpen:.4f}\")\n",
    "    return capital"
   ]
  },
  {
   "cell_type": "code",
   "execution_count": null,
   "metadata": {},
   "outputs": [
    {
     "data": {
      "text/plain": [
       "6201.201549075434"
      ]
     },
     "execution_count": 31,
     "metadata": {},
     "output_type": "execute_result"
    }
   ],
   "source": [
    "calculateProfit(model,val_loader)"
   ]
  }
 ],
 "metadata": {
  "kernelspec": {
   "display_name": "tf",
   "language": "python",
   "name": "python3"
  },
  "language_info": {
   "codemirror_mode": {
    "name": "ipython",
    "version": 3
   },
   "file_extension": ".py",
   "mimetype": "text/x-python",
   "name": "python",
   "nbconvert_exporter": "python",
   "pygments_lexer": "ipython3",
   "version": "3.9.19"
  }
 },
 "nbformat": 4,
 "nbformat_minor": 2
}
