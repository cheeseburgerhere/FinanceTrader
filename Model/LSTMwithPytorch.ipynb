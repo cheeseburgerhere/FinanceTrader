{
 "cells": [
  {
   "cell_type": "code",
   "execution_count": 53,
   "metadata": {},
   "outputs": [],
   "source": [
    "import numpy as np\n",
    "import torch\n",
    "import torch.nn as nn\n",
    "from torch.utils.data import DataLoader, Dataset\n",
    "import pandas as pd\n",
    "import os"
   ]
  },
  {
   "cell_type": "code",
   "execution_count": 54,
   "metadata": {},
   "outputs": [],
   "source": [
    "\n",
    "# Hyperparameters\n",
    "lookback_window = 7  # Number of time steps\n",
    "#I don't have any idea which number is best\n",
    "# from past test it looks like model has an understanding of general trend of the stock\n",
    "# but not the specific chracteristics of the stock\n",
    "# chatgpt recommends me to increase lookback window\n",
    "input_size = 6        # Number of features (univariate = 1)\n",
    "hidden_size = 50      # Number of LSTM neurons\n",
    "num_layers = 2        # Number of LSTM layers\n",
    "output_size = 1       # Predicting one value\n",
    "learning_rate = 0.001\n",
    "epochs = 50\n",
    "batch_size = 32\n"
   ]
  },
  {
   "cell_type": "code",
   "execution_count": 55,
   "metadata": {},
   "outputs": [],
   "source": [
    "dataLocation=\"../Data/StandardizedData\"\n",
    "allcsvs=os.listdir(dataLocation)\n",
    "# turn float64 to float 32"
   ]
  },
  {
   "cell_type": "code",
   "execution_count": 56,
   "metadata": {},
   "outputs": [],
   "source": [
    "unnecessaryColumns=[\"Date\",\"Pct_Change\"]\n",
    "\n",
    "# from Scaler import Scaler\n",
    "\n",
    "# scaler = Scaler()\n",
    "\n",
    "\n",
    "def df_to_X_y(df,window_size=5):\n",
    "  lightWeightDf=df.drop(columns=unnecessaryColumns)\n",
    "  changeMatrix=lightWeightDf.copy()\n",
    "  changeMatrix[\"Open\"]=changeMatrix[\"Open\"].pct_change()\n",
    "  changeMatrix[\"High\"]=changeMatrix[\"High\"].pct_change()\n",
    "  changeMatrix[\"Low\"]=changeMatrix[\"Low\"].pct_change()\n",
    "  changeMatrix[\"Close\"]=changeMatrix[\"Close\"].pct_change()\n",
    "  changeMatrix[\"Volume\"]=changeMatrix[\"Volume\"].pct_change()\n",
    "  changeMatrix.dropna(inplace=True)\n",
    "  changeMatrix.fillna(0,inplace=True)\n",
    "  # df_as_np = scaler.fit_transform(lightWeightDf.to_numpy())\n",
    "  df_as_np = changeMatrix.to_numpy()\n",
    "  X = []\n",
    "  y = []\n",
    "  for i in range(len(df_as_np)-window_size):\n",
    "    row = [a for a in df_as_np[i:i+window_size]]\n",
    "    X.append(row)\n",
    "    label = df_as_np[i+window_size,3]\n",
    "    y.append(label)\n",
    "  return np.array(X), np.array(y)"
   ]
  },
  {
   "cell_type": "code",
   "execution_count": 57,
   "metadata": {},
   "outputs": [],
   "source": [
    "XAll = np.zeros(1, dtype=np.int32)\n",
    "yAll = np.zeros(1, dtype=np.int32)\n",
    "\n",
    "for i in range(len(allcsvs)):\n",
    "    rawData=pd.read_csv(os.path.join(dataLocation,allcsvs[i]))\n",
    "    Xtemp,yTemp=df_to_X_y(rawData ,lookback_window)\n",
    "    if(XAll.shape[0] == 1 and yAll.shape[0] == 1):\n",
    "        XAll=Xtemp\n",
    "        yAll=yTemp\n",
    "    else:\n",
    "        XAll=np.concatenate((XAll,Xtemp),axis=0)\n",
    "        yAll=np.concatenate((yAll,yTemp),axis=0)\n",
    "\n",
    "\n",
    "# I have to store all of the rawData accurately because I need them afterwards\n",
    "# or I can make a huge tensor and store all of them in it\n",
    "# but this raises concerns about the time series consistency"
   ]
  },
  {
   "cell_type": "code",
   "execution_count": 58,
   "metadata": {},
   "outputs": [
    {
     "data": {
      "text/plain": [
       "((57412, 7, 6), (57412,))"
      ]
     },
     "execution_count": 58,
     "metadata": {},
     "output_type": "execute_result"
    }
   ],
   "source": [
    "XAll.shape, yAll.shape"
   ]
  },
  {
   "cell_type": "code",
   "execution_count": 60,
   "metadata": {},
   "outputs": [
    {
     "data": {
      "text/plain": [
       "array([[ 0.00000000e+00,  0.00000000e+00,  0.00000000e+00,\n",
       "         0.00000000e+00,  0.00000000e+00,  1.00000000e+00],\n",
       "       [ 5.00270958e-04, -1.99198488e-03, -1.51215973e-03,\n",
       "         2.51626391e-03, -3.47952449e-02,  1.00000000e+00],\n",
       "       [-5.00086055e-04,  7.98403856e-03,  7.06716900e-03,\n",
       "         9.03612800e-03, -9.78712104e-02,  1.00000000e+00],\n",
       "       [ 7.50373849e-03,  4.95037801e-03,  3.50878731e-03,\n",
       "         2.98506920e-03,  9.01759592e-02,  1.00000000e+00],\n",
       "       [-9.92830937e-04, -4.92586393e-03, -1.09889798e-02,\n",
       "        -1.53768484e-02,  3.07745209e-02,  3.00000000e+00],\n",
       "       [-1.34195861e-02, -1.73268699e-02, -2.22221915e-02,\n",
       "        -2.21663132e-02, -7.50415494e-02,  2.00000000e+00],\n",
       "       [-2.01511832e-02, -1.51135189e-02, -1.44629396e-02,\n",
       "        -1.23648044e-02,  4.88214480e-02,  1.00000000e+00]])"
      ]
     },
     "execution_count": 60,
     "metadata": {},
     "output_type": "execute_result"
    }
   ],
   "source": [
    "XAll[0]"
   ]
  },
  {
   "cell_type": "code",
   "execution_count": 59,
   "metadata": {},
   "outputs": [
    {
     "ename": "AssertionError",
     "evalue": "stop",
     "output_type": "error",
     "traceback": [
      "\u001b[1;31m---------------------------------------------------------------------------\u001b[0m",
      "\u001b[1;31mAssertionError\u001b[0m                            Traceback (most recent call last)",
      "Cell \u001b[1;32mIn[59], line 1\u001b[0m\n\u001b[1;32m----> 1\u001b[0m \u001b[38;5;28;01massert\u001b[39;00m \u001b[38;5;28;01mFalse\u001b[39;00m,\u001b[38;5;124m\"\u001b[39m\u001b[38;5;124mstop\u001b[39m\u001b[38;5;124m\"\u001b[39m\n",
      "\u001b[1;31mAssertionError\u001b[0m: stop"
     ]
    }
   ],
   "source": [
    "assert False,\"stop\""
   ]
  },
  {
   "cell_type": "code",
   "execution_count": 45,
   "metadata": {},
   "outputs": [],
   "source": [
    "def shuffle_data(X, y):\n",
    "    \"\"\"\n",
    "    Shuffle the data while maintaining the correspondence between X and y.\n",
    "\n",
    "    Parameters:\n",
    "    X (numpy.ndarray): The input features tensor.\n",
    "    y (numpy.ndarray): The target array.\n",
    "\n",
    "    Returns:\n",
    "    tuple: Shuffled X and y tensors.\n",
    "    \"\"\"\n",
    "    assert len(X) == len(y), \"X and y must have the same length.\"\n",
    "    \n",
    "    # Generate a random permutation of indices\n",
    "    #TODO add a seed for reproducibility\n",
    "    #add seed to the code below\n",
    "    np.random.seed(42)\n",
    "    indices = np.random.permutation(len(X))\n",
    "    # print(indices[:5])\n",
    "    # Shuffle X and y\n",
    "    X_shuffled = X[indices]\n",
    "    y_shuffled = y[indices]\n",
    "    \n",
    "    return X_shuffled, y_shuffled"
   ]
  },
  {
   "cell_type": "code",
   "execution_count": 46,
   "metadata": {},
   "outputs": [],
   "source": [
    "X_shuffled, y_shuffled = shuffle_data(XAll, yAll)"
   ]
  },
  {
   "cell_type": "code",
   "execution_count": 47,
   "metadata": {},
   "outputs": [],
   "source": [
    "class TimeSeriesDataset(Dataset):\n",
    "    def __init__(self, X_shuffled, y_shuffled):\n",
    "        # self.scaler = Scaler()\n",
    "        # X = np.zeros(1)\n",
    "        # y = np.zeros(1)\n",
    "\n",
    "        # for i in range(len(allcsvLoc)):\n",
    "        #     rawData=pd.read_csv(os.path.join(dataDir,allcsvLoc[i]))\n",
    "        #     Xtemp,yTemp=df_to_X_y(rawData, self.scaler, lookback_window)\n",
    "        #     if(X.shape[0] == 1 and y.shape[0] == 1):\n",
    "        #         X=Xtemp\n",
    "        #         y=yTemp\n",
    "        #     else:\n",
    "        #         X=np.concatenate((X,Xtemp),axis=0)\n",
    "        #         y=np.concatenate((y,yTemp),axis=0)\n",
    "\n",
    "\n",
    "        # #shuffle the data\n",
    "        # #NOTE shuffling is automatically done in the dataloader\n",
    "        # X_shuffled, y_shuffled = shuffle_data(X, y)\n",
    "        self.dataX = torch.tensor(X_shuffled, dtype=torch.float32)\n",
    "        self.dataY = torch.tensor(y_shuffled, dtype=torch.float32)\n",
    "        \n",
    "        \n",
    "\n",
    "    def __len__(self):\n",
    "        return self.dataX.size(0)\n",
    "\n",
    "    def __getitem__(self, idx):\n",
    "        sequence = self.dataX[idx, :]\n",
    "        target = self.dataY[idx]\n",
    "        return sequence, target\n",
    "\n",
    "# LSTM Model\n",
    "class LSTMModel(nn.Module):\n",
    "    def __init__(self, input_size, hidden_size, num_layers, output_size):\n",
    "        super(LSTMModel, self).__init__()\n",
    "        self.lstm = nn.LSTM(input_size, hidden_size, num_layers, batch_first=True)\n",
    "        self.fc = nn.Linear(hidden_size, output_size)\n",
    "\n",
    "    def forward(self, x):\n",
    "        output, _ = self.lstm(x)\n",
    "        last_output = output[:, -1, :]  # Take the output at the last time step\n",
    "        return self.fc(last_output)\n",
    "    \n",
    "    # def init_weights(module):\n",
    "    #     if isinstance(module, nn.LSTM):\n",
    "    #         nn.init.xavier_normal_(module.weight_ih_l0)\n",
    "    #         nn.init.xavier_normal_(module.weight_hh_l0)\n",
    "    #         if module.is_bidirectional:\n",
    "    #             nn.init.xavier_normal_(module.weight_ih_l0_reverse)\n",
    "    #             nn.init.xavier_normal_(module.weight_hh_l0_reverse) \n"
   ]
  },
  {
   "cell_type": "code",
   "execution_count": 48,
   "metadata": {},
   "outputs": [
    {
     "name": "stdout",
     "output_type": "stream",
     "text": [
      "Using cuda\n"
     ]
    }
   ],
   "source": [
    "device = torch.device('cuda') if torch.cuda.is_available() else torch.device('cpu')\n",
    "print(f\"Using {device}\")"
   ]
  },
  {
   "cell_type": "code",
   "execution_count": 49,
   "metadata": {},
   "outputs": [],
   "source": [
    "X_train = X_shuffled[:int(0.8*len(X_shuffled))]\n",
    "y_train = y_shuffled[:int(0.8*len(y_shuffled))]\n",
    "X_val = X_shuffled[int(0.8*len(X_shuffled)):]\n",
    "y_val = y_shuffled[int(0.8*len(y_shuffled)):]"
   ]
  },
  {
   "cell_type": "code",
   "execution_count": null,
   "metadata": {},
   "outputs": [
    {
     "name": "stdout",
     "output_type": "stream",
     "text": [
      "Epoch 1/50, Loss: nan\n",
      "Epoch 2/50, Loss: nan\n",
      "Epoch 3/50, Loss: nan\n"
     ]
    },
    {
     "ename": "KeyboardInterrupt",
     "evalue": "",
     "output_type": "error",
     "traceback": [
      "\u001b[1;31m---------------------------------------------------------------------------\u001b[0m",
      "\u001b[1;31mKeyboardInterrupt\u001b[0m                         Traceback (most recent call last)",
      "Cell \u001b[1;32mIn[50], line 22\u001b[0m\n\u001b[0;32m     20\u001b[0m \u001b[38;5;28;01mfor\u001b[39;00m sequences, targets \u001b[38;5;129;01min\u001b[39;00m train_loader:\n\u001b[0;32m     21\u001b[0m     optimizer\u001b[38;5;241m.\u001b[39mzero_grad()\n\u001b[1;32m---> 22\u001b[0m     outputs \u001b[38;5;241m=\u001b[39m \u001b[43mmodel\u001b[49m\u001b[43m(\u001b[49m\u001b[43msequences\u001b[49m\u001b[43m)\u001b[49m\n\u001b[0;32m     23\u001b[0m     loss \u001b[38;5;241m=\u001b[39m criterion(outputs\u001b[38;5;241m.\u001b[39msqueeze(), targets)\n\u001b[0;32m     24\u001b[0m     loss\u001b[38;5;241m.\u001b[39mbackward()\n",
      "File \u001b[1;32mc:\\Users\\alt_user\\anaconda3\\envs\\tf\\lib\\site-packages\\torch\\nn\\modules\\module.py:1553\u001b[0m, in \u001b[0;36mModule._wrapped_call_impl\u001b[1;34m(self, *args, **kwargs)\u001b[0m\n\u001b[0;32m   1551\u001b[0m     \u001b[38;5;28;01mreturn\u001b[39;00m \u001b[38;5;28mself\u001b[39m\u001b[38;5;241m.\u001b[39m_compiled_call_impl(\u001b[38;5;241m*\u001b[39margs, \u001b[38;5;241m*\u001b[39m\u001b[38;5;241m*\u001b[39mkwargs)  \u001b[38;5;66;03m# type: ignore[misc]\u001b[39;00m\n\u001b[0;32m   1552\u001b[0m \u001b[38;5;28;01melse\u001b[39;00m:\n\u001b[1;32m-> 1553\u001b[0m     \u001b[38;5;28;01mreturn\u001b[39;00m \u001b[38;5;28mself\u001b[39m\u001b[38;5;241m.\u001b[39m_call_impl(\u001b[38;5;241m*\u001b[39margs, \u001b[38;5;241m*\u001b[39m\u001b[38;5;241m*\u001b[39mkwargs)\n",
      "File \u001b[1;32mc:\\Users\\alt_user\\anaconda3\\envs\\tf\\lib\\site-packages\\torch\\nn\\modules\\module.py:1562\u001b[0m, in \u001b[0;36mModule._call_impl\u001b[1;34m(self, *args, **kwargs)\u001b[0m\n\u001b[0;32m   1557\u001b[0m \u001b[38;5;66;03m# If we don't have any hooks, we want to skip the rest of the logic in\u001b[39;00m\n\u001b[0;32m   1558\u001b[0m \u001b[38;5;66;03m# this function, and just call forward.\u001b[39;00m\n\u001b[0;32m   1559\u001b[0m \u001b[38;5;28;01mif\u001b[39;00m \u001b[38;5;129;01mnot\u001b[39;00m (\u001b[38;5;28mself\u001b[39m\u001b[38;5;241m.\u001b[39m_backward_hooks \u001b[38;5;129;01mor\u001b[39;00m \u001b[38;5;28mself\u001b[39m\u001b[38;5;241m.\u001b[39m_backward_pre_hooks \u001b[38;5;129;01mor\u001b[39;00m \u001b[38;5;28mself\u001b[39m\u001b[38;5;241m.\u001b[39m_forward_hooks \u001b[38;5;129;01mor\u001b[39;00m \u001b[38;5;28mself\u001b[39m\u001b[38;5;241m.\u001b[39m_forward_pre_hooks\n\u001b[0;32m   1560\u001b[0m         \u001b[38;5;129;01mor\u001b[39;00m _global_backward_pre_hooks \u001b[38;5;129;01mor\u001b[39;00m _global_backward_hooks\n\u001b[0;32m   1561\u001b[0m         \u001b[38;5;129;01mor\u001b[39;00m _global_forward_hooks \u001b[38;5;129;01mor\u001b[39;00m _global_forward_pre_hooks):\n\u001b[1;32m-> 1562\u001b[0m     \u001b[38;5;28;01mreturn\u001b[39;00m forward_call(\u001b[38;5;241m*\u001b[39margs, \u001b[38;5;241m*\u001b[39m\u001b[38;5;241m*\u001b[39mkwargs)\n\u001b[0;32m   1564\u001b[0m \u001b[38;5;28;01mtry\u001b[39;00m:\n\u001b[0;32m   1565\u001b[0m     result \u001b[38;5;241m=\u001b[39m \u001b[38;5;28;01mNone\u001b[39;00m\n",
      "Cell \u001b[1;32mIn[47], line 42\u001b[0m, in \u001b[0;36mLSTMModel.forward\u001b[1;34m(self, x)\u001b[0m\n\u001b[0;32m     41\u001b[0m \u001b[38;5;28;01mdef\u001b[39;00m \u001b[38;5;21mforward\u001b[39m(\u001b[38;5;28mself\u001b[39m, x):\n\u001b[1;32m---> 42\u001b[0m     output, _ \u001b[38;5;241m=\u001b[39m \u001b[38;5;28;43mself\u001b[39;49m\u001b[38;5;241;43m.\u001b[39;49m\u001b[43mlstm\u001b[49m\u001b[43m(\u001b[49m\u001b[43mx\u001b[49m\u001b[43m)\u001b[49m\n\u001b[0;32m     43\u001b[0m     last_output \u001b[38;5;241m=\u001b[39m output[:, \u001b[38;5;241m-\u001b[39m\u001b[38;5;241m1\u001b[39m, :]  \u001b[38;5;66;03m# Take the output at the last time step\u001b[39;00m\n\u001b[0;32m     44\u001b[0m     \u001b[38;5;28;01mreturn\u001b[39;00m \u001b[38;5;28mself\u001b[39m\u001b[38;5;241m.\u001b[39mfc(last_output)\n",
      "File \u001b[1;32mc:\\Users\\alt_user\\anaconda3\\envs\\tf\\lib\\site-packages\\torch\\nn\\modules\\module.py:1553\u001b[0m, in \u001b[0;36mModule._wrapped_call_impl\u001b[1;34m(self, *args, **kwargs)\u001b[0m\n\u001b[0;32m   1551\u001b[0m     \u001b[38;5;28;01mreturn\u001b[39;00m \u001b[38;5;28mself\u001b[39m\u001b[38;5;241m.\u001b[39m_compiled_call_impl(\u001b[38;5;241m*\u001b[39margs, \u001b[38;5;241m*\u001b[39m\u001b[38;5;241m*\u001b[39mkwargs)  \u001b[38;5;66;03m# type: ignore[misc]\u001b[39;00m\n\u001b[0;32m   1552\u001b[0m \u001b[38;5;28;01melse\u001b[39;00m:\n\u001b[1;32m-> 1553\u001b[0m     \u001b[38;5;28;01mreturn\u001b[39;00m \u001b[38;5;28mself\u001b[39m\u001b[38;5;241m.\u001b[39m_call_impl(\u001b[38;5;241m*\u001b[39margs, \u001b[38;5;241m*\u001b[39m\u001b[38;5;241m*\u001b[39mkwargs)\n",
      "File \u001b[1;32mc:\\Users\\alt_user\\anaconda3\\envs\\tf\\lib\\site-packages\\torch\\nn\\modules\\module.py:1562\u001b[0m, in \u001b[0;36mModule._call_impl\u001b[1;34m(self, *args, **kwargs)\u001b[0m\n\u001b[0;32m   1557\u001b[0m \u001b[38;5;66;03m# If we don't have any hooks, we want to skip the rest of the logic in\u001b[39;00m\n\u001b[0;32m   1558\u001b[0m \u001b[38;5;66;03m# this function, and just call forward.\u001b[39;00m\n\u001b[0;32m   1559\u001b[0m \u001b[38;5;28;01mif\u001b[39;00m \u001b[38;5;129;01mnot\u001b[39;00m (\u001b[38;5;28mself\u001b[39m\u001b[38;5;241m.\u001b[39m_backward_hooks \u001b[38;5;129;01mor\u001b[39;00m \u001b[38;5;28mself\u001b[39m\u001b[38;5;241m.\u001b[39m_backward_pre_hooks \u001b[38;5;129;01mor\u001b[39;00m \u001b[38;5;28mself\u001b[39m\u001b[38;5;241m.\u001b[39m_forward_hooks \u001b[38;5;129;01mor\u001b[39;00m \u001b[38;5;28mself\u001b[39m\u001b[38;5;241m.\u001b[39m_forward_pre_hooks\n\u001b[0;32m   1560\u001b[0m         \u001b[38;5;129;01mor\u001b[39;00m _global_backward_pre_hooks \u001b[38;5;129;01mor\u001b[39;00m _global_backward_hooks\n\u001b[0;32m   1561\u001b[0m         \u001b[38;5;129;01mor\u001b[39;00m _global_forward_hooks \u001b[38;5;129;01mor\u001b[39;00m _global_forward_pre_hooks):\n\u001b[1;32m-> 1562\u001b[0m     \u001b[38;5;28;01mreturn\u001b[39;00m forward_call(\u001b[38;5;241m*\u001b[39margs, \u001b[38;5;241m*\u001b[39m\u001b[38;5;241m*\u001b[39mkwargs)\n\u001b[0;32m   1564\u001b[0m \u001b[38;5;28;01mtry\u001b[39;00m:\n\u001b[0;32m   1565\u001b[0m     result \u001b[38;5;241m=\u001b[39m \u001b[38;5;28;01mNone\u001b[39;00m\n",
      "File \u001b[1;32mc:\\Users\\alt_user\\anaconda3\\envs\\tf\\lib\\site-packages\\torch\\nn\\modules\\rnn.py:917\u001b[0m, in \u001b[0;36mLSTM.forward\u001b[1;34m(self, input, hx)\u001b[0m\n\u001b[0;32m    914\u001b[0m         hx \u001b[38;5;241m=\u001b[39m \u001b[38;5;28mself\u001b[39m\u001b[38;5;241m.\u001b[39mpermute_hidden(hx, sorted_indices)\n\u001b[0;32m    916\u001b[0m \u001b[38;5;28;01mif\u001b[39;00m batch_sizes \u001b[38;5;129;01mis\u001b[39;00m \u001b[38;5;28;01mNone\u001b[39;00m:\n\u001b[1;32m--> 917\u001b[0m     result \u001b[38;5;241m=\u001b[39m \u001b[43m_VF\u001b[49m\u001b[38;5;241;43m.\u001b[39;49m\u001b[43mlstm\u001b[49m\u001b[43m(\u001b[49m\u001b[38;5;28;43minput\u001b[39;49m\u001b[43m,\u001b[49m\u001b[43m \u001b[49m\u001b[43mhx\u001b[49m\u001b[43m,\u001b[49m\u001b[43m \u001b[49m\u001b[38;5;28;43mself\u001b[39;49m\u001b[38;5;241;43m.\u001b[39;49m\u001b[43m_flat_weights\u001b[49m\u001b[43m,\u001b[49m\u001b[43m \u001b[49m\u001b[38;5;28;43mself\u001b[39;49m\u001b[38;5;241;43m.\u001b[39;49m\u001b[43mbias\u001b[49m\u001b[43m,\u001b[49m\u001b[43m \u001b[49m\u001b[38;5;28;43mself\u001b[39;49m\u001b[38;5;241;43m.\u001b[39;49m\u001b[43mnum_layers\u001b[49m\u001b[43m,\u001b[49m\n\u001b[0;32m    918\u001b[0m \u001b[43m                      \u001b[49m\u001b[38;5;28;43mself\u001b[39;49m\u001b[38;5;241;43m.\u001b[39;49m\u001b[43mdropout\u001b[49m\u001b[43m,\u001b[49m\u001b[43m \u001b[49m\u001b[38;5;28;43mself\u001b[39;49m\u001b[38;5;241;43m.\u001b[39;49m\u001b[43mtraining\u001b[49m\u001b[43m,\u001b[49m\u001b[43m \u001b[49m\u001b[38;5;28;43mself\u001b[39;49m\u001b[38;5;241;43m.\u001b[39;49m\u001b[43mbidirectional\u001b[49m\u001b[43m,\u001b[49m\u001b[43m \u001b[49m\u001b[38;5;28;43mself\u001b[39;49m\u001b[38;5;241;43m.\u001b[39;49m\u001b[43mbatch_first\u001b[49m\u001b[43m)\u001b[49m\n\u001b[0;32m    919\u001b[0m \u001b[38;5;28;01melse\u001b[39;00m:\n\u001b[0;32m    920\u001b[0m     result \u001b[38;5;241m=\u001b[39m _VF\u001b[38;5;241m.\u001b[39mlstm(\u001b[38;5;28minput\u001b[39m, batch_sizes, hx, \u001b[38;5;28mself\u001b[39m\u001b[38;5;241m.\u001b[39m_flat_weights, \u001b[38;5;28mself\u001b[39m\u001b[38;5;241m.\u001b[39mbias,\n\u001b[0;32m    921\u001b[0m                       \u001b[38;5;28mself\u001b[39m\u001b[38;5;241m.\u001b[39mnum_layers, \u001b[38;5;28mself\u001b[39m\u001b[38;5;241m.\u001b[39mdropout, \u001b[38;5;28mself\u001b[39m\u001b[38;5;241m.\u001b[39mtraining, \u001b[38;5;28mself\u001b[39m\u001b[38;5;241m.\u001b[39mbidirectional)\n",
      "\u001b[1;31mKeyboardInterrupt\u001b[0m: "
     ]
    }
   ],
   "source": [
    "trainDataset = TimeSeriesDataset(X_train, y_train)\n",
    "train_loader = DataLoader(trainDataset, batch_size=batch_size, shuffle=True)\n",
    "#Dataset for validation\n",
    "valDataset = TimeSeriesDataset(X_val, y_val)\n",
    "val_loader = DataLoader(valDataset, batch_size=batch_size, shuffle=False)\n",
    "\n",
    "# Cross-validation: On non-overlapping sequential splits for evaluation.\n",
    "\n",
    "\n",
    "# Initialize model, loss function, and optimizer\n",
    "model = LSTMModel(input_size, hidden_size, num_layers, output_size)\n",
    "criterion = nn.MSELoss()\n",
    "optimizer = torch.optim.Adam(model.parameters(), lr=learning_rate)\n",
    "\n",
    "# Training loop\n",
    "for epoch in range(epochs):\n",
    "    model.train()\n",
    "    epoch_loss = 0\n",
    "\n",
    "    for sequences, targets in train_loader:\n",
    "        optimizer.zero_grad()\n",
    "        outputs = model(sequences)\n",
    "        loss = criterion(outputs.squeeze(), targets)\n",
    "        loss.backward()\n",
    "        optimizer.step()\n",
    "        epoch_loss += loss.item()\n",
    "\n",
    "    print(f\"Epoch {epoch+1}/{epochs}, Loss: {epoch_loss / len(train_loader):.4f}\")"
   ]
  },
  {
   "cell_type": "code",
   "execution_count": null,
   "metadata": {},
   "outputs": [
    {
     "name": "stdout",
     "output_type": "stream",
     "text": [
      "Test Input Shape: torch.Size([32, 5, 6])\n",
      "Predicted Output Shape: torch.Size([32])\n",
      "First Prediction: 407.726318359375\n",
      "Actual Output (First Target): 448.0087585449219\n"
     ]
    },
    {
     "data": {
      "text/plain": [
       "tensor([407.7263, 407.7263, 407.7263, 407.7263, 407.7263, 407.7263, 407.7263,\n",
       "        407.7263, 407.7263, 407.7263, 407.7263, 407.7263, 407.7263, 407.7263,\n",
       "        407.7263, 407.7263, 407.7263, 407.7263, 407.7263, 407.7263, 407.7263,\n",
       "        407.7263, 407.7263, 407.7263, 407.7263, 407.7263, 407.7263, 407.7263,\n",
       "        407.7263, 407.7263, 945.0376, 407.7263])"
      ]
     },
     "execution_count": 13,
     "metadata": {},
     "output_type": "execute_result"
    }
   ],
   "source": [
    "# Extract one batch of data for testing\n",
    "for sequences, targets in train_loader:\n",
    "    testInput = sequences  # Sequence data\n",
    "    print(f\"Test Input Shape: {testInput.shape}\")\n",
    "    realOutput = targets   # Ground truth output\n",
    "    break\n",
    "\n",
    "# Ensure the model is in evaluation mode\n",
    "model.eval()\n",
    "\n",
    "# Predict using the model\n",
    "with torch.no_grad():  # Disable gradient calculations for inference\n",
    "    predicted = model(testInput).squeeze()  # Forward pass through the model\n",
    "\n",
    "# Check shapes and results\n",
    "print(f\"Predicted Output Shape: {predicted.shape}\")\n",
    "print(f\"First Prediction: {predicted[0].item()}\")\n",
    "print(f\"Actual Output (First Target): {realOutput[0].item()}\")\n",
    "\n",
    "predicted\n",
    "# testInput.shape"
   ]
  },
  {
   "cell_type": "code",
   "execution_count": 14,
   "metadata": {},
   "outputs": [
    {
     "data": {
      "text/plain": [
       "tensor([ 448.0088,   25.0103,  168.0784,   20.9696,   15.5573, 1723.0000,\n",
       "          30.5591,   33.7800,  172.0681,   22.8000,  103.7000,    4.6216,\n",
       "          44.7600,  298.2500,    4.6500,   24.6301,   24.1800,    5.0271,\n",
       "           8.8564,   47.9817,    3.2000,   46.2337,   20.6925,    7.3362,\n",
       "         113.8000,   22.7703,   36.7012,   66.4421,    7.8999,    6.3868,\n",
       "        1963.6000,  155.6090])"
      ]
     },
     "execution_count": 14,
     "metadata": {},
     "output_type": "execute_result"
    }
   ],
   "source": [
    "realOutput"
   ]
  }
 ],
 "metadata": {
  "kernelspec": {
   "display_name": "tf",
   "language": "python",
   "name": "python3"
  },
  "language_info": {
   "codemirror_mode": {
    "name": "ipython",
    "version": 3
   },
   "file_extension": ".py",
   "mimetype": "text/x-python",
   "name": "python",
   "nbconvert_exporter": "python",
   "pygments_lexer": "ipython3",
   "version": "3.9.19"
  }
 },
 "nbformat": 4,
 "nbformat_minor": 2
}
