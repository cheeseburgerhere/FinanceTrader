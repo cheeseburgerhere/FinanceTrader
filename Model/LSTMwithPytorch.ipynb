{
 "cells": [
  {
   "cell_type": "code",
   "execution_count": 15,
   "metadata": {},
   "outputs": [],
   "source": [
    "import numpy as np\n",
    "import torch\n",
    "import torch.nn as nn\n",
    "from torch.utils.data import DataLoader, Dataset\n",
    "import pandas as pd\n",
    "import os"
   ]
  },
  {
   "cell_type": "markdown",
   "metadata": {},
   "source": [
    "## Good combs\n",
    "\n",
    "->\n",
    "hidden_size = 50      \n",
    "num_layers = 3        \n",
    "output_size = 1       \n",
    "learning_rate = 0.0001\n",
    "\n",
    "val_loss= ~0.017"
   ]
  },
  {
   "cell_type": "code",
   "execution_count": 16,
   "metadata": {},
   "outputs": [],
   "source": [
    "\n",
    "# Hyperparameters\n",
    "lookback_window = 7  # Number of time steps\n",
    "#I don't have any idea which number is best\n",
    "# from past test it looks like model has an understanding of general trend of the stock\n",
    "# but not the specific chracteristics of the stock\n",
    "# chatgpt recommends me to increase lookback window\n",
    "input_size = 6        # Number of features (univariate = 1)\n",
    "output_size = 1       # Predicting one value\n",
    "hidden_size = 50      # Number of LSTM neurons\n",
    "num_layers = 3        # Number of LSTM layers\n",
    "learning_rate = 0.0001\n",
    "epochs = 0\n",
    "batch_size = 32\n",
    "\n",
    "#TODO: USD/TRY exchange rate input\n",
    "#TODO: Faiz Enflasyon ve Piyasa Katılımcıları Anketi input\n",
    "\n",
    "#TODO: Takas Verisi (model iyi sonuçlar vermezse son çare olarak kullanılabilir)\n",
    "\n",
    "#TODO: Vadeli İşlem ve Opsiyon Borsası (VIOP) input (Çok karmaşıklaştırıyor gelecekte belki)\n",
    "#TODO: Anlık Aracı Kurum Dağılımı  (çok karıştırabilir)\n",
    "\n"
   ]
  },
  {
   "cell_type": "code",
   "execution_count": 17,
   "metadata": {},
   "outputs": [],
   "source": [
    "dataLocation=\"../Data/StandardizedData\"\n",
    "allcsvs=os.listdir(dataLocation)\n",
    "# turn float64 to float 32"
   ]
  },
  {
   "cell_type": "code",
   "execution_count": 27,
   "metadata": {},
   "outputs": [],
   "source": [
    "unnecessaryColumns=[\"Date\",\"Pct_Change\"]\n",
    "\n",
    "from Scaler import Scaler\n",
    "from sklearn.preprocessing import StandardScaler\n",
    "\n",
    "\n",
    "# Can't do with minMax scaler we need Z scaler\n",
    "#Rewrite Time\n",
    "scaler = Scaler(0,50)\n",
    "zScalerDic={}\n",
    "\n",
    "\n",
    "def df_to_X_y(df,zScaler,window_size=5):\n",
    "  lightWeightDf=df.drop(columns=unnecessaryColumns)\n",
    "  df_as_np = zScaler.fit_transform(lightWeightDf.to_numpy())\n",
    "  # df_as_np = lightWeightDf.to_numpy()\n",
    "\n",
    "  X = []\n",
    "  y = []\n",
    "  for i in range(len(df_as_np)-window_size):\n",
    "    row = [a for a in df_as_np[i:i+window_size]]\n",
    "    X.append(row)\n",
    "    label = df_as_np[i+window_size,3]\n",
    "    y.append(label)\n",
    "  return np.array(X), np.array(y)"
   ]
  },
  {
   "cell_type": "code",
   "execution_count": 28,
   "metadata": {},
   "outputs": [],
   "source": [
    "XAll = np.zeros(1, dtype=np.int32)\n",
    "yAll = np.zeros(1, dtype=np.int32)\n",
    "\n",
    "for i in range(len(allcsvs)):\n",
    "    rawData=pd.read_csv(os.path.join(dataLocation,allcsvs[i]))\n",
    "    currentScaler=StandardScaler()\n",
    "    zScalerDic[allcsvs[i]]=currentScaler\n",
    "    Xtemp,yTemp=df_to_X_y(rawData, currentScaler, lookback_window)\n",
    "    nameTemp=np.array([allcsvs[i]]*yTemp.shape[0])\n",
    "\n",
    "    if(XAll.shape[0] == 1 and yAll.shape[0] == 1):\n",
    "        XAll=Xtemp\n",
    "        yAll=yTemp\n",
    "        nameAll=nameTemp\n",
    "    else:\n",
    "        XAll=np.concatenate((XAll,Xtemp),axis=0)\n",
    "        yAll=np.concatenate((yAll,yTemp),axis=0)\n",
    "        nameAll=np.concatenate((nameAll,nameTemp),axis=0)\n",
    "XAll=scaler.fit_transform(XAll)\n",
    "yAll=scaler.fit_transform(yAll)\n",
    "\n",
    "# I have to store all of the rawData accurately because I need them afterwards\n",
    "# or I can make a huge tensor and store all of them in it\n",
    "# but this raises concerns about the time series consistency"
   ]
  },
  {
   "cell_type": "code",
   "execution_count": 24,
   "metadata": {},
   "outputs": [
    {
     "data": {
      "text/plain": [
       "((57412, 7, 6), (57412,), (57412,))"
      ]
     },
     "execution_count": 24,
     "metadata": {},
     "output_type": "execute_result"
    }
   ],
   "source": [
    "XAll.shape, yAll.shape, nameAll.shape"
   ]
  },
  {
   "cell_type": "code",
   "execution_count": 29,
   "metadata": {},
   "outputs": [
    {
     "data": {
      "text/plain": [
       "(array([[13.92315264, 14.18317764, 13.83897119, 14.01086309,  7.91110531,\n",
       "          0.05918395],\n",
       "        [13.92219138, 14.19835368, 13.85279951, 14.02819236,  7.7134293 ,\n",
       "          0.05918395],\n",
       "        [13.93660782, 14.20783847, 13.85971367, 14.03396878,  7.87773715,\n",
       "          0.05918395],\n",
       "        [13.93468604, 14.19835392, 13.8379836 , 14.00412414,  7.9388673 ,\n",
       "         16.62497361],\n",
       "        [13.90873621, 14.16515611, 13.7945234 , 13.96176349,  7.78521834,\n",
       "          8.34207878]]),\n",
       " array([12.06184055, 12.10136227, 12.07704105, 12.09426853, 12.13987108]),\n",
       " array(['AEFES.IS.csv', 'AEFES.IS.csv', 'AEFES.IS.csv', 'AEFES.IS.csv',\n",
       "        'AEFES.IS.csv'], dtype='<U12'))"
      ]
     },
     "execution_count": 29,
     "metadata": {},
     "output_type": "execute_result"
    }
   ],
   "source": [
    "XAll[:5,1,:], yAll[:5], nameAll[:5]"
   ]
  },
  {
   "cell_type": "code",
   "execution_count": 13,
   "metadata": {},
   "outputs": [],
   "source": [
    "def shuffle_data(X, y, names):\n",
    "    \"\"\"\n",
    "    Shuffle the data while maintaining the correspondence between X and y.\n",
    "\n",
    "    Parameters:\n",
    "    X (numpy.ndarray): The input features tensor.\n",
    "    y (numpy.ndarray): The target array.\n",
    "\n",
    "    Returns:\n",
    "    tuple: Shuffled X and y tensors.\n",
    "    \"\"\"\n",
    "    assert len(X) == len(y), \"X and y must have the same length.\"\n",
    "    assert len(y) == len(names), \"y and names must have the same length.\"\n",
    "\n",
    "    # Generate a random permutation of indices\n",
    "    #TODO add a seed for reproducibility\n",
    "    #add seed to the code below\n",
    "    np.random.seed(42)\n",
    "    indices = np.random.permutation(len(X))\n",
    "    # print(indices[:5])\n",
    "    # Shuffle X and y\n",
    "    X_shuffled = X[indices]\n",
    "    y_shuffled = y[indices]\n",
    "    name_shuffled = names[indices]\n",
    "    \n",
    "    return X_shuffled, y_shuffled, name_shuffled"
   ]
  },
  {
   "cell_type": "code",
   "execution_count": 14,
   "metadata": {},
   "outputs": [],
   "source": [
    "X_shuffled, y_shuffled, name_shuffled = shuffle_data(XAll, yAll, nameAll)"
   ]
  },
  {
   "cell_type": "code",
   "execution_count": 117,
   "metadata": {},
   "outputs": [],
   "source": [
    "class TimeSeriesDataset(Dataset):\n",
    "    def __init__(self, X_shuffled, y_shuffled, name_shuffled):\n",
    "        # #NOTE shuffling is automatically done in the dataloader\n",
    "        # X_shuffled, y_shuffled = shuffle_data(X, y)\n",
    "        self.dataX = torch.tensor(X_shuffled, dtype=torch.float32)\n",
    "        self.dataY = torch.tensor(y_shuffled, dtype=torch.float32)\n",
    "        self.names = torch.tensor(name_shuffled, dtype=torch.string)\n",
    "        \n",
    "    def __len__(self):\n",
    "        return self.dataX.size(0)\n",
    "\n",
    "    def __getitem__(self, idx):\n",
    "        sequence = self.dataX[idx, :]\n",
    "        target = self.dataY[idx]\n",
    "        name = self.names[idx]\n",
    "        return sequence, target, name\n",
    "\n",
    "# LSTM Model\n",
    "class LSTMModel(nn.Module):\n",
    "    def __init__(self, input_size, hidden_size, num_layers, output_size):\n",
    "        super(LSTMModel, self).__init__()\n",
    "        self.lstm = nn.LSTM(input_size, hidden_size, num_layers, batch_first=True, bidirectional=False)\n",
    "        self.fc = nn.Linear(hidden_size, output_size)\n",
    "#try hidden_size*2 if bidirectional is True\n",
    "    def forward(self, x):\n",
    "        output, _ = self.lstm(x)\n",
    "        last_output = output[:, -1, :]  # Take the output at the last time step\n",
    "        return self.fc(last_output)\n"
   ]
  },
  {
   "cell_type": "code",
   "execution_count": 118,
   "metadata": {},
   "outputs": [],
   "source": [
    "import torch.nn.functional as F\n",
    "\n",
    "\n",
    "#TODO test and utilize\n",
    "class AttentionMechanism(nn.Module):\n",
    "    def __init__(self, hidden_dim):\n",
    "        super(AttentionMechanism, self).__init__()\n",
    "        self.attention_weights = nn.Linear(hidden_dim, 1, bias=False)\n",
    "    \n",
    "    def forward(self, lstm_outputs):\n",
    "        # lstm_outputs: [batch_size, seq_len, hidden_dim]\n",
    "        attention_scores = self.attention_weights(lstm_outputs).squeeze(-1)  # [batch_size, seq_len]\n",
    "        attention_weights = F.softmax(attention_scores, dim=1)  # [batch_size, seq_len]\n",
    "        weighted_output = torch.sum(lstm_outputs * attention_weights.unsqueeze(-1), dim=1)  # [batch_size, hidden_dim]\n",
    "        return weighted_output, attention_weights\n",
    "    \n",
    "\n",
    "class LSTMAttentionModel(nn.Module):\n",
    "    def __init__(self, input_dim, hidden_dim, output_dim, num_layers=1, bidirectional=False):\n",
    "        super(LSTMAttentionModel, self).__init__()\n",
    "        self.hidden_dim = hidden_dim\n",
    "        self.num_layers = num_layers\n",
    "        self.bidirectional = bidirectional\n",
    "        self.lstm = nn.LSTM(input_dim, hidden_dim, num_layers, batch_first=True, bidirectional=bidirectional)\n",
    "        self.attention = AttentionMechanism(hidden_dim * (2 if bidirectional else 1))\n",
    "        self.fc = nn.Linear(hidden_dim * (2 if bidirectional else 1), output_dim)\n",
    "    \n",
    "    def forward(self, x):\n",
    "        lstm_out, _ = self.lstm(x)  # [batch_size, seq_len, hidden_dim]\n",
    "        attention_out, attention_weights = self.attention(lstm_out)  # [batch_size, hidden_dim], [batch_size, seq_len]\n",
    "        output = self.fc(attention_out)  # [batch_size, output_dim]\n",
    "        return output, attention_weights"
   ]
  },
  {
   "cell_type": "code",
   "execution_count": 119,
   "metadata": {},
   "outputs": [
    {
     "name": "stdout",
     "output_type": "stream",
     "text": [
      "Using cuda\n"
     ]
    }
   ],
   "source": [
    "device = torch.device('cuda') if torch.cuda.is_available() else torch.device('cpu')\n",
    "print(f\"Using {device}\")"
   ]
  },
  {
   "cell_type": "code",
   "execution_count": 120,
   "metadata": {},
   "outputs": [],
   "source": [
    "X_train = X_shuffled[:int(0.8*len(X_shuffled))]\n",
    "y_train = y_shuffled[:int(0.8*len(y_shuffled))]\n",
    "name_train = name_shuffled[:int(0.8*len(name_shuffled))]\n",
    "\n",
    "X_val = X_shuffled[int(0.8*len(X_shuffled)):]\n",
    "y_val = y_shuffled[int(0.8*len(y_shuffled)):]\n",
    "name_val = name_shuffled[int(0.8*len(name_shuffled)):]"
   ]
  },
  {
   "cell_type": "code",
   "execution_count": 121,
   "metadata": {},
   "outputs": [],
   "source": [
    "trainDataset = TimeSeriesDataset(X_train, y_train,name_train)\n",
    "train_loader = DataLoader(trainDataset, batch_size=batch_size, shuffle=False)\n",
    "#Dataset for validation\n",
    "valDataset = TimeSeriesDataset(X_val, y_val,name_val)\n",
    "val_loader = DataLoader(valDataset, batch_size=batch_size, shuffle=False)\n",
    "\n",
    "# Cross-validation: On non-overlapping sequential splits for evaluation."
   ]
  },
  {
   "cell_type": "code",
   "execution_count": 122,
   "metadata": {},
   "outputs": [],
   "source": [
    "def train_one_epoch(model,optimizer,criterion,train_loader):\n",
    "    model.train()\n",
    "    model.to(device)\n",
    "    epoch_loss = 0\n",
    "\n",
    "    for sequences, targets, name in train_loader:\n",
    "        sequences, targets = sequences.to(device), targets.to(device)\n",
    "        optimizer.zero_grad()\n",
    "        outputs = model(sequences)\n",
    "        loss = criterion(outputs.squeeze(), targets)\n",
    "        loss.backward()\n",
    "        optimizer.step()\n",
    "        \n",
    "        epoch_loss += loss.item()\n",
    "    return epoch_loss\n",
    "    # print(f\"Epoch {epoch+1}/{epochs}, Loss: {epoch_loss / len(train_loader):.4f}\")\n",
    "    \n",
    "\n",
    "\n",
    "def validate(model,criterion,val_loader):\n",
    "    model.eval()\n",
    "    model.to(device)\n",
    "    val_loss = 0\n",
    "    DA=0\n",
    "\n",
    "    with torch.no_grad():\n",
    "        for sequences, targets, name in val_loader:\n",
    "            sequences, targets = sequences.to(device), targets.to(device)\n",
    "            outputs = model(sequences)\n",
    "            loss = criterion(outputs.squeeze(), targets)\n",
    "            val_loss += loss.item()\n",
    "    return val_loss\n",
    "    # print(f\"Validation Loss: {val_loss / len(val_loader):.4f}\")"
   ]
  },
  {
   "cell_type": "markdown",
   "metadata": {},
   "source": [
    "## Some Potenetial Metrics to evaluate models\n",
    "\n",
    "\n",
    "Directional Accuracy\n",
    "Measures how often the predicted direction (up or down) matches the actual direction.\n",
    "Formula: \n",
    "DA=Number of Correct Directions/Total Predictions\n",
    "\n",
    "Cons: Ignores magnitude of errors.\n",
    "\n",
    "## OR\n",
    "Profit and Loss (PnL) simulation for trading applications."
   ]
  },
  {
   "cell_type": "code",
   "execution_count": 123,
   "metadata": {},
   "outputs": [],
   "source": [
    "# Initialize model, loss function, and optimizer\n",
    "model = LSTMModel(input_size, hidden_size, num_layers, output_size)\n",
    "criterion = nn.MSELoss()\n",
    "optimizer = torch.optim.Adam(model.parameters(), lr=learning_rate)"
   ]
  },
  {
   "cell_type": "code",
   "execution_count": 124,
   "metadata": {},
   "outputs": [],
   "source": [
    "\n",
    "valLosses=[]\n",
    "trainLosses=[]\n",
    "# Training loop\n",
    "for epoch in range(epochs):\n",
    "\n",
    "    epoch_loss=train_one_epoch(model,optimizer,criterion,train_loader)\n",
    "    val_loss=validate(model,criterion,val_loader)\n",
    "    valLosses.append(val_loss)\n",
    "    trainLosses.append(epoch_loss)\n",
    "    print(f\"Epoch {epoch+1}/{epochs}, Loss: {epoch_loss / len(train_loader):.4f}, Validation Loss: {val_loss / len(val_loader):.4f}\")"
   ]
  },
  {
   "cell_type": "code",
   "execution_count": 125,
   "metadata": {},
   "outputs": [
    {
     "data": {
      "image/png": "[encoded data removed]",
      "text/plain": [
       "<Figure size 640x480 with 1 Axes>"
      ]
     },
     "metadata": {},
     "output_type": "display_data"
    }
   ],
   "source": [
    "import matplotlib.pyplot as plt\n",
    "import numpy as np\n",
    "startPoint=20\n",
    "# Example float array\n",
    "val_array = valLosses[startPoint:]\n",
    "train_array = trainLosses[startPoint:]\n",
    "\n",
    "# Create an x-axis for the data points\n",
    "x = np.arange(len(train_array))\n",
    "y = np.arange(len(val_array))\n",
    "\n",
    "# Plot the graph\n",
    "plt.plot(x, train_array, marker='o', linestyle='-', color='b', label='Train Loss')\n",
    "plt.plot(y, val_array, marker='o', linestyle='-', color='r', label='Val Loss')\n",
    "\n",
    "# Add labels and title\n",
    "plt.xlabel('Index')\n",
    "plt.ylabel('Value')\n",
    "plt.title('Float Array Plot')\n",
    "plt.legend()\n",
    "\n",
    "# Show the plot\n",
    "plt.grid(True)\n",
    "plt.show()"
   ]
  },
  {
   "cell_type": "code",
   "execution_count": 126,
   "metadata": {},
   "outputs": [
    {
     "name": "stdout",
     "output_type": "stream",
     "text": [
      "Test Input Shape: torch.Size([32, 7, 6])\n",
      "Predicted Output Shape: torch.Size([32])\n",
      "First Prediction: 0.05473044142127037\n",
      "Actual Output (First Target): 0.08542854338884354\n"
     ]
    },
    {
     "data": {
      "text/plain": [
       "tensor([0.0547, 0.0560, 0.0553, 0.0560, 0.0556, 0.0560, 0.0565, 0.0554, 0.0554,\n",
       "        0.0532, 0.0561, 0.0554, 0.0548, 0.0560, 0.0550, 0.0558, 0.0509, 0.0554,\n",
       "        0.0551, 0.0553, 0.0605, 0.0550, 0.0553, 0.0335, 0.0561, 0.0445, 0.0524,\n",
       "        0.0556, 0.0551, 0.0551, 0.0513, 0.0560], device='cuda:0')"
      ]
     },
     "execution_count": 126,
     "metadata": {},
     "output_type": "execute_result"
    }
   ],
   "source": [
    "# Extract one batch of data for testing\n",
    "model.to(device)\n",
    "for sequences, targets in train_loader:\n",
    "    testInput = sequences.to(device)  # Sequence data\n",
    "    # testInput.to(device)\n",
    "    print(f\"Test Input Shape: {testInput.shape}\")\n",
    "    realOutput = targets   # Ground truth output\n",
    "    break\n",
    "\n",
    "# Ensure the model is in evaluation mode\n",
    "model.eval()\n",
    "\n",
    "# Predict using the model\n",
    "with torch.no_grad():  # Disable gradient calculations for inference\n",
    "    predicted = model(testInput).squeeze()  # Forward pass through the model\n",
    "\n",
    "# Check shapes and results\n",
    "print(f\"Predicted Output Shape: {predicted.shape}\")\n",
    "print(f\"First Prediction: {predicted[0].item()}\")\n",
    "print(f\"Actual Output (First Target): {realOutput[0].item()}\")\n",
    "\n",
    "predicted\n",
    "# testInput.shape"
   ]
  },
  {
   "cell_type": "code",
   "execution_count": 127,
   "metadata": {},
   "outputs": [
    {
     "data": {
      "text/plain": [
       "tensor(0.0071)"
      ]
     },
     "execution_count": 127,
     "metadata": {},
     "output_type": "execute_result"
    }
   ],
   "source": [
    "realOutput[-1]"
   ]
  },
  {
   "cell_type": "code",
   "execution_count": 128,
   "metadata": {},
   "outputs": [
    {
     "data": {
      "text/plain": [
       "tensor([0.0075, 0.0073, 0.0072, 0.0071, 0.0070, 0.0070, 0.0070])"
      ]
     },
     "execution_count": 128,
     "metadata": {},
     "output_type": "execute_result"
    }
   ],
   "source": [
    "sequences[-1,:,3]"
   ]
  },
  {
   "cell_type": "code",
   "execution_count": 129,
   "metadata": {},
   "outputs": [
    {
     "data": {
      "text/plain": [
       "array([1.738073 , 1.7128551, 1.6981272, 1.670136 , 1.6608056, 1.6608056,\n",
       "       1.6608056], dtype=float32)"
      ]
     },
     "execution_count": 129,
     "metadata": {},
     "output_type": "execute_result"
    }
   ],
   "source": [
    "scaler.inverse_transform(sequences[-1].to('cpu').numpy())[:,3]"
   ]
  }
 ],
 "metadata": {
  "kernelspec": {
   "display_name": "tf",
   "language": "python",
   "name": "python3"
  },
  "language_info": {
   "codemirror_mode": {
    "name": "ipython",
    "version": 3
   },
   "file_extension": ".py",
   "mimetype": "text/x-python",
   "name": "python",
   "nbconvert_exporter": "python",
   "pygments_lexer": "ipython3",
   "version": "3.9.19"
  }
 },
 "nbformat": 4,
 "nbformat_minor": 2
}
