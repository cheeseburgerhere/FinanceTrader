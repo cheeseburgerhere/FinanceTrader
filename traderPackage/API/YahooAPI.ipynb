{
 "cells": [
  {
   "cell_type": "code",
   "execution_count": 41,
   "metadata": {},
   "outputs": [],
   "source": [
    "import yfinance as yf\n",
    "import pandas as pd\n",
    "import os"
   ]
  },
  {
   "cell_type": "code",
   "execution_count": 42,
   "metadata": {},
   "outputs": [],
   "source": [
    "class StockTicker:\n",
    "    def __init__(self, stockName:str, timePeriod:str, timeInterval:str=\"1h\") -> None:\n",
    "        self.name=stockName\n",
    "        periods=['1d', '5d', '1mo', '3mo', '6mo', '1y', '2y', '5y', '10y', 'ytd', 'max']\n",
    "        if(timePeriod not in periods):\n",
    "            raise ValueError(f\"Supported periods are [{periods}]\")\n",
    "        self.period=timePeriod\n",
    "\n",
    "        intervals=[\"1m\", \"2m\", \"5m\", \"15m\", \"30m\", \"60m\", \"90m\", \"1h\", \"1d\", \"5d\", \"1wk\", \"1mo\", \"3mo\"]\n",
    "\n",
    "        #I guess api doesn't care the given interval if the period is too large\n",
    "        if(timeInterval not in intervals):\n",
    "            raise ValueError(f\"Supported intervals are [{intervals}]\")\n",
    "        self.interval=timeInterval\n",
    "\n",
    "        self.ticker=yf.Ticker(self.name)\n",
    "\n",
    "    def getOHLC(self):\n",
    "        try:\n",
    "            self.data=self.ticker.history(period=self.period).reset_index().drop(columns=[\"Dividends\",\"Stock Splits\"])\n",
    "        except:\n",
    "            if(self.period==\"max\"):\n",
    "                return pd.DataFrame()\n",
    "            self.period=\"max\"\n",
    "\n",
    "            return self.getOHLC()\n",
    "\n",
    "        # Select columns with 'float64' dtype  \n",
    "        float64_cols = list(self.data.select_dtypes(include='float64'))\n",
    "        \n",
    "        self.data[float64_cols] = self.data[float64_cols].astype('float32')\n",
    "        # Select columns with 'float64' dtype  \n",
    "        int64_cols = list(self.data.select_dtypes(include='int64'))\n",
    "        self.data[int64_cols] = self.data[int64_cols].astype('int32')\n",
    "\n",
    "        self.data['Volume']=self.data['Volume'].rolling(window=5, min_periods=1, center=True).mean()\n",
    "        #TODO balance_sheet update: Do we really need these for the first stage\n",
    "        return self.data\n",
    "    \n"
   ]
  },
  {
   "cell_type": "code",
   "execution_count": 43,
   "metadata": {},
   "outputs": [],
   "source": [
    "stock=\"XULAS.IS\""
   ]
  },
  {
   "cell_type": "code",
   "execution_count": 44,
   "metadata": {},
   "outputs": [
    {
     "name": "stdout",
     "output_type": "stream",
     "text": [
      "XULAS.IS\n"
     ]
    },
    {
     "name": "stderr",
     "output_type": "stream",
     "text": [
      "$XULAS.IS: possibly delisted; no price data found  (period=1mo)\n",
      "$XULAS.IS: possibly delisted; no price data found  (1d 1926-05-31 -> 2025-05-06)\n"
     ]
    }
   ],
   "source": [
    "# names=os.listdir(\"ScrapedData\")\n",
    "\n",
    "existingStocks={}\n",
    "# for name in names:\n",
    "#     existingStocks[name[:-4]]=1\n",
    "\n",
    "\n",
    "# if (stock in existingStocks):\n",
    "#     pass\n",
    "\n",
    "print(stock)\n",
    "ticker=StockTicker(stock,'1mo', \"1d\")\n",
    "stockdf=ticker.getOHLC()"
   ]
  },
  {
   "cell_type": "code",
   "execution_count": 45,
   "metadata": {},
   "outputs": [
    {
     "data": {
      "text/plain": [
       "(0, 0)"
      ]
     },
     "execution_count": 45,
     "metadata": {},
     "output_type": "execute_result"
    }
   ],
   "source": [
    "stockdf.shape"
   ]
  }
 ],
 "metadata": {
  "kernelspec": {
   "display_name": "Python 3",
   "language": "python",
   "name": "python3"
  },
  "language_info": {
   "codemirror_mode": {
    "name": "ipython",
    "version": 3
   },
   "file_extension": ".py",
   "mimetype": "text/x-python",
   "name": "python",
   "nbconvert_exporter": "python",
   "pygments_lexer": "ipython3",
   "version": "3.11.7"
  }
 },
 "nbformat": 4,
 "nbformat_minor": 2
}
