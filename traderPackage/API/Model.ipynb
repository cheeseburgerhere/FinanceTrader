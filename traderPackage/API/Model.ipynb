{
 "cells": [
  {
   "cell_type": "code",
   "execution_count": 23,
   "metadata": {},
   "outputs": [],
   "source": [
    "import numpy as np\n",
    "import torch\n",
    "import torch.nn as nn\n",
    "from torch.utils.data import DataLoader, Dataset\n",
    "import pandas as pd\n",
    "import os"
   ]
  },
  {
   "cell_type": "code",
   "execution_count": 24,
   "metadata": {},
   "outputs": [],
   "source": [
    "mainModel=\"../../Model/Weights/lr_dec_BiDir6200.pth\""
   ]
  },
  {
   "cell_type": "code",
   "execution_count": 25,
   "metadata": {},
   "outputs": [
    {
     "name": "stdout",
     "output_type": "stream",
     "text": [
      "{'../../Model/Weights/lr_dec_BiDir6200.pth': {'lookback_window': 10, 'input_size': 6, 'output_size': 1, 'num_layers': 1, 'embed_dim': 64, 'hidden_size': 128, 'bidirectional': True}}\n"
     ]
    }
   ],
   "source": [
    "import json\n",
    "\n",
    "# Open and read the JSON file\n",
    "with open('hyperparameters.json', 'r') as file:\n",
    "    data = json.load(file)\n",
    "\n",
    "# Print the data\n",
    "print(data)\n"
   ]
  },
  {
   "cell_type": "code",
   "execution_count": 26,
   "metadata": {},
   "outputs": [],
   "source": [
    "lookback_window = data[mainModel]['lookback_window']\n",
    "input_size = data[mainModel]['input_size']\n",
    "output_size = data[mainModel]['output_size']\n",
    "num_layers = data[mainModel]['num_layers']\n",
    "embed_dim = data[mainModel]['embed_dim']\n",
    "hidden_size = data[mainModel]['hidden_size']\n",
    "bidirectional = data[mainModel]['bidirectional']"
   ]
  },
  {
   "cell_type": "code",
   "execution_count": 27,
   "metadata": {},
   "outputs": [
    {
     "name": "stdout",
     "output_type": "stream",
     "text": [
      "Using cuda\n"
     ]
    }
   ],
   "source": [
    "device = torch.device('cuda') if torch.cuda.is_available() else torch.device('cpu')\n",
    "print(f\"Using {device}\")"
   ]
  },
  {
   "cell_type": "code",
   "execution_count": 28,
   "metadata": {},
   "outputs": [],
   "source": [
    "class TimeSeriesDataset(Dataset):\n",
    "    def __init__(self, X_shuffled, y_shuffled, name_shuffled, open_shuffled):\n",
    "        self.dataX = torch.tensor(X_shuffled, dtype=torch.float32)\n",
    "        self.dataY = torch.tensor(y_shuffled, dtype=torch.float32)\n",
    "        self.names = name_shuffled\n",
    "        self.open = torch.tensor(open_shuffled, dtype=torch.float32)\n",
    "        \n",
    "    def __len__(self):\n",
    "        return self.dataX.size(0)\n",
    "\n",
    "    def __getitem__(self, idx):\n",
    "        sequence = self.dataX[idx, :]\n",
    "        target = self.dataY[idx]\n",
    "        name = self.names[idx]\n",
    "        open = self.open[idx]\n",
    "        return sequence, target, name, open\n",
    "    \n",
    "import torch.nn.functional as F\n",
    "\n",
    "class AttentionMechanism(nn.Module):\n",
    "    def __init__(self, hidden_dim):\n",
    "        super(AttentionMechanism, self).__init__()\n",
    "        self.attention_weights = nn.Linear(hidden_dim, 1, bias=False)\n",
    "    \n",
    "    def forward(self, lstm_outputs):\n",
    "        # lstm_outputs: [batch_size, seq_len, hidden_dim]\n",
    "        attention_scores = self.attention_weights(lstm_outputs).squeeze(-1)  # [batch_size, seq_len]\n",
    "        attention_weights = F.softmax(attention_scores, dim=1)  # [batch_size, seq_len]\n",
    "        weighted_output = torch.sum(lstm_outputs * attention_weights.unsqueeze(-1), dim=1)  # [batch_size, hidden_dim]\n",
    "        return weighted_output, attention_weights\n",
    "    \n",
    "class LSTMDoubleAttentionModel(nn.Module):\n",
    "    def __init__(self, input_dim, embed_dim, hidden_dim, output_dim, num_layers=1, bidirectional=False):\n",
    "        super(LSTMDoubleAttentionModel, self).__init__()\n",
    "        self.hidden_dim = hidden_dim\n",
    "        self.num_layers = num_layers\n",
    "        self.bidirectional = bidirectional\n",
    "        self.directions = 2 if bidirectional else 1\n",
    "\n",
    "        # Embedding layer (optional: use if input is categorical or needs projection)\n",
    "        self.embedding = nn.Linear(input_dim, embed_dim)  # Replace with nn.Embedding if needed\n",
    "        \n",
    "        # Encoder LSTM\n",
    "        self.encoder_lstm = nn.LSTM(embed_dim, hidden_dim, num_layers, \n",
    "                                    batch_first=True, bidirectional=bidirectional)\n",
    "        \n",
    "        # Attention\n",
    "        self.attention = AttentionMechanism(hidden_dim * self.directions)\n",
    "        \n",
    "        # Decoder LSTM\n",
    "        self.decoder_lstm = nn.LSTM(hidden_dim * self.directions, hidden_dim, num_layers,\n",
    "                                    batch_first=True, bidirectional=bidirectional)\n",
    "        \n",
    "        # Fully Connected Layer\n",
    "        self.fc = nn.Linear(hidden_dim * self.directions, output_dim)\n",
    "    \n",
    "    def forward(self, x):\n",
    "        # x shape: [batch_size, seq_len, input_dim]\n",
    "        \n",
    "        # Embedding\n",
    "        embedded = self.embedding(x)  # [batch_size, seq_len, embed_dim]\n",
    "        \n",
    "        # Encoder LSTM\n",
    "        encoder_out, _ = self.encoder_lstm(embedded)  # [batch_size, seq_len, hidden_dim * directions]\n",
    "        \n",
    "        # Attention\n",
    "        attention_out, attention_weights = self.attention(encoder_out)  # [batch_size, hidden_dim * directions]\n",
    "        \n",
    "        # Prepare Decoder Input (sequence length 1)\n",
    "        decoder_input = attention_out.unsqueeze(1)  # [batch_size, 1, hidden_dim * directions]\n",
    "        \n",
    "        # Decoder LSTM\n",
    "        decoder_out, _ = self.decoder_lstm(decoder_input)  # [batch_size, 1, hidden_dim * directions]\n",
    "        \n",
    "        # Final Prediction\n",
    "        output = self.fc(decoder_out.squeeze(1))  # [batch_size, output_dim]\n",
    "        \n",
    "        return output, attention_weights"
   ]
  },
  {
   "cell_type": "code",
   "execution_count": 29,
   "metadata": {},
   "outputs": [],
   "source": [
    "model = LSTMDoubleAttentionModel(input_size, embed_dim, hidden_size, output_size, num_layers=num_layers, bidirectional=bidirectional)"
   ]
  },
  {
   "cell_type": "code",
   "execution_count": 31,
   "metadata": {},
   "outputs": [],
   "source": [
    "import sys\n",
    "\n",
    "# Determine the parent directory of traderPackage by going two levels up\n",
    "# from the current working directory (which is traderPackage/API)\n",
    "parent_dir = os.path.abspath(os.path.join(os.getcwd(), '..', '..'))\n",
    "if parent_dir not in sys.path:\n",
    "    sys.path.insert(0, parent_dir)\n",
    "\n",
    "    \n",
    "from traderPackage import Scaler\n",
    "from sklearn.preprocessing import StandardScaler\n",
    "\n",
    "model.load_state_dict(torch.load(mainModel, weights_only=True))\n",
    "model.eval()\n",
    "\n",
    "\n",
    "saveName=mainModel.split(\"/\")[-1].split(\".\")[0]\n",
    "saveFolder=f\"../../Model/Weights/scalers\"\n",
    "\n",
    "import pickle\n",
    "dbfile = open(os.path.join(saveFolder,f\"{saveName}/scaler_{saveName}.pkl\"), 'rb')    \n",
    "scaler = pickle.load(dbfile)\n",
    "dbfile.close()\n",
    "\n",
    "dbfile = open(os.path.join(saveFolder,f\"{saveName}/zScalerDic_{saveName}.pkl\"), 'rb')    \n",
    "zScalerDic= pickle.load(dbfile)\n",
    "dbfile.close()"
   ]
  }
 ],
 "metadata": {
  "kernelspec": {
   "display_name": "tf",
   "language": "python",
   "name": "python3"
  },
  "language_info": {
   "codemirror_mode": {
    "name": "ipython",
    "version": 3
   },
   "file_extension": ".py",
   "mimetype": "text/x-python",
   "name": "python",
   "nbconvert_exporter": "python",
   "pygments_lexer": "ipython3",
   "version": "3.9.19"
  }
 },
 "nbformat": 4,
 "nbformat_minor": 2
}
