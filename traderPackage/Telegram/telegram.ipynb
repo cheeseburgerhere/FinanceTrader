{
 "cells": [
  {
   "cell_type": "code",
   "execution_count": null,
   "metadata": {},
   "outputs": [],
   "source": [
    "import requests\n",
    "import time\n",
    "from dotenv import load_dotenv\n",
    "import os\n",
    "\n",
    "load_dotenv()  # Automatically loads the .env file\n",
    "\n",
    "# Telegram bot bilgileri\n",
    "TELEGRAM_TOKEN = os.getenv('MY_TOKEN')\n",
    "CHAT_ID = os.getenv('MY_ID')   # Chat ID'niz\n",
    "\n",
    "if not TELEGRAM_TOKEN:\n",
    "    raise ValueError(\"No API key found in .env file.\")\n",
    "\n",
    "if not CHAT_ID:\n",
    "    raise ValueError(\"No API key found in .env file.\")\n",
    "\n",
    "\n",
    "# Mesaj gönderme fonksiyonu\n",
    "def send_telegram_message(message):\n",
    "    url = f'https://api.telegram.org/bot{TELEGRAM_TOKEN}/sendMessage'\n",
    "    payload = {'chat_id': CHAT_ID, 'text': message}\n",
    "    response = requests.post(url, data=payload)\n",
    "    print(response.json())  # Yanıtı kontrol et\n",
    "\n",
    "# Mesaj gönderme\n",
    "send_telegram_message(\"API keylerini deniyorum\")\n",
    "# Sonsuz döngü ile her dakika mesaj gönderme\n",
    "#while True:\n",
    "#    send_telegram_message()\n",
    "#    time.sleep(60)  # 60 saniye bekle"
   ]
  }
 ],
 "metadata": {
  "kernelspec": {
   "display_name": "tf",
   "language": "python",
   "name": "python3"
  },
  "language_info": {
   "codemirror_mode": {
    "name": "ipython",
    "version": 3
   },
   "file_extension": ".py",
   "mimetype": "text/x-python",
   "name": "python",
   "nbconvert_exporter": "python",
   "pygments_lexer": "ipython3",
   "version": "3.9.19"
  }
 },
 "nbformat": 4,
 "nbformat_minor": 2
}
