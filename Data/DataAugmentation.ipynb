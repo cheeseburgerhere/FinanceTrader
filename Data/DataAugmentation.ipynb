{
 "cells": [
  {
   "cell_type": "code",
   "execution_count": 51,
   "metadata": {},
   "outputs": [],
   "source": [
    "import pandas as pd\n",
    "import numpy as np\n",
    "from datetime import timedelta"
   ]
  },
  {
   "cell_type": "code",
   "execution_count": 52,
   "metadata": {},
   "outputs": [],
   "source": [
    "import os\n",
    "\n",
    "def get_csvs(dir:str):\n",
    "    dirList=os.listdir(dir)\n",
    "    endResult=[]\n",
    "    for dire in dirList:\n",
    "        if(os.path.join(dir,dire).endswith(\".csv\")):\n",
    "            endResult.append(dir+\"/\"+dire)\n",
    "    return endResult "
   ]
  },
  {
   "cell_type": "code",
   "execution_count": 53,
   "metadata": {},
   "outputs": [],
   "source": [
    "allDirs=get_csvs(\"ScrapedData\")"
   ]
  },
  {
   "cell_type": "code",
   "execution_count": 82,
   "metadata": {},
   "outputs": [],
   "source": [
    "def irregularitiesFinder(df:pd.DataFrame, stockName:str, dic:dict):\n",
    "    # Calculate percentage change\n",
    "    df['Pct_Change'] = df['Close'].pct_change()\n",
    "\n",
    "    # Flag large changes\n",
    "    threshold = 0.13  # Define a threshold for irregular change, e.g., 10%\n",
    "    irregularities = df.index[abs(df['Pct_Change']) > threshold].to_list();\n",
    "    cleanIrregularities = []\n",
    "    for i, index in enumerate(irregularities):\n",
    "        if(not ( pd.to_datetime(df.iloc[index,0])-pd.to_datetime(df.iloc[index-1,0])>timedelta(days=3) or (pd.to_datetime(df.iloc[index,0])-pd.to_datetime(\"2020-03-13 00:00:00+03:00\")<timedelta(days=0) and abs(df.iloc[index,6]) < 0.21 ))):\n",
    "            cleanIrregularities.append(index)\n",
    "\n",
    "\n",
    "    if(len(cleanIrregularities)==0):\n",
    "        return\n",
    "\n",
    "    irregularitiesNP=np.zeros((len(cleanIrregularities),10,7),dtype=object);\n",
    "    for i, index in enumerate(cleanIrregularities):\n",
    "\n",
    "        irregularitiesNP[i,:,:]=df.iloc[index-5:index+5,:].to_numpy()\n",
    "\n",
    "    dic[stockName]=irregularitiesNP"
   ]
  },
  {
   "cell_type": "code",
   "execution_count": 65,
   "metadata": {},
   "outputs": [],
   "source": [
    "df=pd.read_csv(\"ScrapedData/AEFES.IS.csv\")"
   ]
  },
  {
   "cell_type": "code",
   "execution_count": 83,
   "metadata": {},
   "outputs": [
    {
     "data": {
      "text/plain": [
       "dict_keys(['ScrapedData/CCOLA.IS.csv', 'ScrapedData/HALKB.IS.csv', 'ScrapedData/KONTR.IS.csv', 'ScrapedData/ODAS.IS.csv', 'ScrapedData/VAKBN.IS.csv', 'ScrapedData/XBANK.IS.csv', 'ScrapedData/XU030.IS.csv', 'ScrapedData/XU100.IS.csv', 'ScrapedData/XUSIN.IS.csv'])"
      ]
     },
     "execution_count": 83,
     "metadata": {},
     "output_type": "execute_result"
    }
   ],
   "source": [
    "stDic={}\n",
    "for dirs in allDirs:\n",
    "    df=pd.read_csv(dirs)\n",
    "\n",
    "    irregularitiesFinder(df,dirs,stDic)\n",
    "stDic.keys()"
   ]
  },
  {
   "cell_type": "code",
   "execution_count": 84,
   "metadata": {},
   "outputs": [
    {
     "data": {
      "text/plain": [
       "9"
      ]
     },
     "execution_count": 84,
     "metadata": {},
     "output_type": "execute_result"
    }
   ],
   "source": [
    "len(stDic)"
   ]
  },
  {
   "cell_type": "code",
   "execution_count": 85,
   "metadata": {},
   "outputs": [
    {
     "name": "stdout",
     "output_type": "stream",
     "text": [
      "ScrapedData/CCOLA.IS.csv\n",
      "(1, 10, 7)\n",
      "ScrapedData/HALKB.IS.csv\n",
      "(1, 10, 7)\n",
      "ScrapedData/KONTR.IS.csv\n",
      "(1, 10, 7)\n",
      "ScrapedData/ODAS.IS.csv\n",
      "(1, 10, 7)\n",
      "ScrapedData/VAKBN.IS.csv\n",
      "(1, 10, 7)\n",
      "ScrapedData/XBANK.IS.csv\n",
      "(1, 10, 7)\n",
      "ScrapedData/XU030.IS.csv\n",
      "(1, 10, 7)\n",
      "ScrapedData/XU100.IS.csv\n",
      "(1, 10, 7)\n",
      "ScrapedData/XUSIN.IS.csv\n",
      "(1, 10, 7)\n"
     ]
    }
   ],
   "source": [
    "for stockName in stDic:\n",
    "    print(stockName)\n",
    "    print(stDic[stockName].shape)\n",
    "        "
   ]
  },
  {
   "cell_type": "code",
   "execution_count": 86,
   "metadata": {},
   "outputs": [
    {
     "data": {
      "text/plain": [
       "(1, 10, 7)"
      ]
     },
     "execution_count": 86,
     "metadata": {},
     "output_type": "execute_result"
    }
   ],
   "source": [
    "stDic[\"ScrapedData/XUSIN.IS.csv\"].shape"
   ]
  },
  {
   "cell_type": "code",
   "execution_count": 88,
   "metadata": {},
   "outputs": [],
   "source": [
    "mistakesDf = pd.DataFrame(stDic[\"ScrapedData/XUSIN.IS.csv\"][0], columns=df.columns)"
   ]
  },
  {
   "cell_type": "code",
   "execution_count": 89,
   "metadata": {},
   "outputs": [
    {
     "data": {
      "text/html": [
       "<div>\n",
       "<style scoped>\n",
       "    .dataframe tbody tr th:only-of-type {\n",
       "        vertical-align: middle;\n",
       "    }\n",
       "\n",
       "    .dataframe tbody tr th {\n",
       "        vertical-align: top;\n",
       "    }\n",
       "\n",
       "    .dataframe thead th {\n",
       "        text-align: right;\n",
       "    }\n",
       "</style>\n",
       "<table border=\"1\" class=\"dataframe\">\n",
       "  <thead>\n",
       "    <tr style=\"text-align: right;\">\n",
       "      <th></th>\n",
       "      <th>Date</th>\n",
       "      <th>Open</th>\n",
       "      <th>High</th>\n",
       "      <th>Low</th>\n",
       "      <th>Close</th>\n",
       "      <th>Volume</th>\n",
       "      <th>Pct_Change</th>\n",
       "    </tr>\n",
       "  </thead>\n",
       "  <tbody>\n",
       "    <tr>\n",
       "      <th>0</th>\n",
       "      <td>2020-07-20 00:00:00+03:00</td>\n",
       "      <td>160043.9</td>\n",
       "      <td>161001.0</td>\n",
       "      <td>159708.8</td>\n",
       "      <td>160396.1</td>\n",
       "      <td>1702160.0</td>\n",
       "      <td>0.005099</td>\n",
       "    </tr>\n",
       "    <tr>\n",
       "      <th>1</th>\n",
       "      <td>2020-07-21 00:00:00+03:00</td>\n",
       "      <td>161718.2</td>\n",
       "      <td>162101.8</td>\n",
       "      <td>156987.1</td>\n",
       "      <td>158537.1</td>\n",
       "      <td>1673760.0</td>\n",
       "      <td>-0.01159</td>\n",
       "    </tr>\n",
       "    <tr>\n",
       "      <th>2</th>\n",
       "      <td>2020-07-22 00:00:00+03:00</td>\n",
       "      <td>159805.6</td>\n",
       "      <td>160457.7</td>\n",
       "      <td>157423.2</td>\n",
       "      <td>158683.5</td>\n",
       "      <td>1675520.0</td>\n",
       "      <td>0.000923</td>\n",
       "    </tr>\n",
       "    <tr>\n",
       "      <th>3</th>\n",
       "      <td>2020-07-23 00:00:00+03:00</td>\n",
       "      <td>159592.2</td>\n",
       "      <td>160566.3</td>\n",
       "      <td>159313.4</td>\n",
       "      <td>159612.8</td>\n",
       "      <td>1526120.0</td>\n",
       "      <td>0.005856</td>\n",
       "    </tr>\n",
       "    <tr>\n",
       "      <th>4</th>\n",
       "      <td>2020-07-24 00:00:00+03:00</td>\n",
       "      <td>159046.2</td>\n",
       "      <td>160658.3</td>\n",
       "      <td>158622.5</td>\n",
       "      <td>160642.9</td>\n",
       "      <td>1470140.0</td>\n",
       "      <td>0.006454</td>\n",
       "    </tr>\n",
       "    <tr>\n",
       "      <th>5</th>\n",
       "      <td>2020-07-27 00:00:00+03:00</td>\n",
       "      <td>1618.5</td>\n",
       "      <td>1631.8</td>\n",
       "      <td>1618.5</td>\n",
       "      <td>1621.7</td>\n",
       "      <td>1368420.0</td>\n",
       "      <td>-0.989905</td>\n",
       "    </tr>\n",
       "    <tr>\n",
       "      <th>6</th>\n",
       "      <td>2020-07-28 00:00:00+03:00</td>\n",
       "      <td>1629.4</td>\n",
       "      <td>1630.6</td>\n",
       "      <td>1567.9</td>\n",
       "      <td>1570.7</td>\n",
       "      <td>1194960.0</td>\n",
       "      <td>-0.031448</td>\n",
       "    </tr>\n",
       "    <tr>\n",
       "      <th>7</th>\n",
       "      <td>2020-07-29 00:00:00+03:00</td>\n",
       "      <td>1574.1</td>\n",
       "      <td>1587.6</td>\n",
       "      <td>1531.6</td>\n",
       "      <td>1563.4</td>\n",
       "      <td>1209720.0</td>\n",
       "      <td>-0.004648</td>\n",
       "    </tr>\n",
       "    <tr>\n",
       "      <th>8</th>\n",
       "      <td>2020-07-30 00:00:00+03:00</td>\n",
       "      <td>1569.1</td>\n",
       "      <td>1569.1</td>\n",
       "      <td>1553.7</td>\n",
       "      <td>1560.1</td>\n",
       "      <td>1268860.0</td>\n",
       "      <td>-0.002111</td>\n",
       "    </tr>\n",
       "    <tr>\n",
       "      <th>9</th>\n",
       "      <td>2020-08-04 00:00:00+03:00</td>\n",
       "      <td>1580.0</td>\n",
       "      <td>1587.5</td>\n",
       "      <td>1466.3</td>\n",
       "      <td>1507.2</td>\n",
       "      <td>1228480.0</td>\n",
       "      <td>-0.033908</td>\n",
       "    </tr>\n",
       "  </tbody>\n",
       "</table>\n",
       "</div>"
      ],
      "text/plain": [
       "                        Date      Open      High       Low     Close  \\\n",
       "0  2020-07-20 00:00:00+03:00  160043.9  161001.0  159708.8  160396.1   \n",
       "1  2020-07-21 00:00:00+03:00  161718.2  162101.8  156987.1  158537.1   \n",
       "2  2020-07-22 00:00:00+03:00  159805.6  160457.7  157423.2  158683.5   \n",
       "3  2020-07-23 00:00:00+03:00  159592.2  160566.3  159313.4  159612.8   \n",
       "4  2020-07-24 00:00:00+03:00  159046.2  160658.3  158622.5  160642.9   \n",
       "5  2020-07-27 00:00:00+03:00    1618.5    1631.8    1618.5    1621.7   \n",
       "6  2020-07-28 00:00:00+03:00    1629.4    1630.6    1567.9    1570.7   \n",
       "7  2020-07-29 00:00:00+03:00    1574.1    1587.6    1531.6    1563.4   \n",
       "8  2020-07-30 00:00:00+03:00    1569.1    1569.1    1553.7    1560.1   \n",
       "9  2020-08-04 00:00:00+03:00    1580.0    1587.5    1466.3    1507.2   \n",
       "\n",
       "      Volume Pct_Change  \n",
       "0  1702160.0   0.005099  \n",
       "1  1673760.0   -0.01159  \n",
       "2  1675520.0   0.000923  \n",
       "3  1526120.0   0.005856  \n",
       "4  1470140.0   0.006454  \n",
       "5  1368420.0  -0.989905  \n",
       "6  1194960.0  -0.031448  \n",
       "7  1209720.0  -0.004648  \n",
       "8  1268860.0  -0.002111  \n",
       "9  1228480.0  -0.033908  "
      ]
     },
     "execution_count": 89,
     "metadata": {},
     "output_type": "execute_result"
    }
   ],
   "source": [
    "mistakesDf"
   ]
  },
  {
   "cell_type": "code",
   "execution_count": 20,
   "metadata": {},
   "outputs": [],
   "source": [
    "for stockName in stDic:\n",
    "    for layer in range(0,stDic[stockName].shape[0]):\n",
    "        mistakesDf = pd.DataFrame(stDic[stockName][layer], columns=df.columns)\n",
    "        mistakesDf.to_csv(\"WeirdData/\"+str(layer)+stockName[12:],index=False)\n",
    "        "
   ]
  },
  {
   "cell_type": "code",
   "execution_count": 49,
   "metadata": {},
   "outputs": [],
   "source": [
    "def standardize(df,name):\n",
    "    df['Date'] = pd.to_datetime(df['Date'])\n",
    "    df['Days_Between'] = df['Date'].diff().dt.days \n",
    "    df['Days_Between'] = df['Days_Between'].fillna(1).astype(float)\n",
    "    \n",
    "    df['Pct_Change'] = df['Close'].pct_change()\n",
    "    df[\"Pct_Change\"] = df[\"Pct_Change\"].fillna(0).astype(float)\n",
    "\n",
    "    #normalize the anomalies\n",
    "    if name in stDic:\n",
    "        pass\n",
    "    #divide the OHLCV by the change percentage\n"
   ]
  },
  {
   "cell_type": "code",
   "execution_count": 50,
   "metadata": {},
   "outputs": [],
   "source": [
    "for dirs in allDirs:\n",
    "    df=pd.read_csv(dirs)\n",
    "\n",
    "    \n",
    "    standardize(df,dirs)\n",
    "    df.to_csv(\"StandardizedData/\"+dirs[12:],index=False)\n"
   ]
  }
 ],
 "metadata": {
  "kernelspec": {
   "display_name": "tf",
   "language": "python",
   "name": "python3"
  },
  "language_info": {
   "codemirror_mode": {
    "name": "ipython",
    "version": 3
   },
   "file_extension": ".py",
   "mimetype": "text/x-python",
   "name": "python",
   "nbconvert_exporter": "python",
   "pygments_lexer": "ipython3",
   "version": "3.9.19"
  }
 },
 "nbformat": 4,
 "nbformat_minor": 2
}
