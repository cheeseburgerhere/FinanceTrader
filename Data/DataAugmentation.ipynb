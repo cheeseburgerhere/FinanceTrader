{
 "cells": [
  {
   "cell_type": "code",
   "execution_count": 84,
   "metadata": {},
   "outputs": [],
   "source": [
    "import pandas as pd\n",
    "import numpy as np"
   ]
  },
  {
   "cell_type": "code",
   "execution_count": 85,
   "metadata": {},
   "outputs": [],
   "source": [
    "import os\n",
    "\n",
    "def get_csvs(dir:str):\n",
    "    dirList=os.listdir(dir)\n",
    "    endResult=[]\n",
    "    for dire in dirList:\n",
    "        if(os.path.join(dir,dire).endswith(\".csv\")):\n",
    "            endResult.append(dir+\"/\"+dire)\n",
    "    return endResult "
   ]
  },
  {
   "cell_type": "code",
   "execution_count": 86,
   "metadata": {},
   "outputs": [],
   "source": [
    "allDirs=get_csvs(\"ScrapedData\")"
   ]
  },
  {
   "cell_type": "code",
   "execution_count": 105,
   "metadata": {},
   "outputs": [],
   "source": [
    "def irregularitiesFinder(df:pd.DataFrame, stockName:str, dic:dict):\n",
    "    # Calculate percentage change\n",
    "    df['Pct_Change'] = df['Close'].pct_change()\n",
    "\n",
    "    # Flag large changes\n",
    "    threshold = 0.13  # Define a threshold for irregular change, e.g., 10%\n",
    "    irregularities = df.index[abs(df['Pct_Change']) > threshold].to_list();\n",
    "\n",
    "\n",
    "    from datetime import timedelta\n",
    "    for i, index in enumerate(irregularities):\n",
    "        if(pd.to_datetime(df.iloc[index,0])-pd.to_datetime(df.iloc[index-1,0])>timedelta(days=3)):\n",
    "            irregularities.remove(index)\n",
    "\n",
    "    if(len(irregularities)==0):\n",
    "        return\n",
    "\n",
    "    irregularitiesNP=np.zeros((len(irregularities),10,7),dtype=object);\n",
    "    for i, index in enumerate(irregularities):\n",
    "\n",
    "        irregularitiesNP[i,:,:]=df.iloc[index-5:index+5,:].to_numpy()\n",
    "\n",
    "    dic[stockName]=irregularitiesNP"
   ]
  },
  {
   "cell_type": "code",
   "execution_count": 2,
   "metadata": {},
   "outputs": [
    {
     "data": {
      "text/html": [
       "<div>\n",
       "<style scoped>\n",
       "    .dataframe tbody tr th:only-of-type {\n",
       "        vertical-align: middle;\n",
       "    }\n",
       "\n",
       "    .dataframe tbody tr th {\n",
       "        vertical-align: top;\n",
       "    }\n",
       "\n",
       "    .dataframe thead th {\n",
       "        text-align: right;\n",
       "    }\n",
       "</style>\n",
       "<table border=\"1\" class=\"dataframe\">\n",
       "  <thead>\n",
       "    <tr style=\"text-align: right;\">\n",
       "      <th></th>\n",
       "      <th>Date</th>\n",
       "      <th>Open</th>\n",
       "      <th>High</th>\n",
       "      <th>Low</th>\n",
       "      <th>Close</th>\n",
       "      <th>Volume</th>\n",
       "    </tr>\n",
       "  </thead>\n",
       "  <tbody>\n",
       "    <tr>\n",
       "      <th>0</th>\n",
       "      <td>2019-10-22 00:00:00+03:00</td>\n",
       "      <td>31.259470</td>\n",
       "      <td>31.376331</td>\n",
       "      <td>30.967327</td>\n",
       "      <td>31.064709</td>\n",
       "      <td>344403.666667</td>\n",
       "    </tr>\n",
       "    <tr>\n",
       "      <th>1</th>\n",
       "      <td>2019-10-23 00:00:00+03:00</td>\n",
       "      <td>31.181570</td>\n",
       "      <td>31.415283</td>\n",
       "      <td>30.986805</td>\n",
       "      <td>31.201046</td>\n",
       "      <td>324291.000000</td>\n",
       "    </tr>\n",
       "    <tr>\n",
       "      <th>2</th>\n",
       "      <td>2019-10-24 00:00:00+03:00</td>\n",
       "      <td>31.337378</td>\n",
       "      <td>32.135906</td>\n",
       "      <td>31.337378</td>\n",
       "      <td>32.077477</td>\n",
       "      <td>273870.200000</td>\n",
       "    </tr>\n",
       "    <tr>\n",
       "      <th>3</th>\n",
       "      <td>2019-10-25 00:00:00+03:00</td>\n",
       "      <td>32.135910</td>\n",
       "      <td>32.174862</td>\n",
       "      <td>31.493190</td>\n",
       "      <td>31.629524</td>\n",
       "      <td>302192.600000</td>\n",
       "    </tr>\n",
       "    <tr>\n",
       "      <th>4</th>\n",
       "      <td>2019-10-28 00:00:00+03:00</td>\n",
       "      <td>32.019050</td>\n",
       "      <td>32.116430</td>\n",
       "      <td>31.746378</td>\n",
       "      <td>31.746378</td>\n",
       "      <td>312042.200000</td>\n",
       "    </tr>\n",
       "  </tbody>\n",
       "</table>\n",
       "</div>"
      ],
      "text/plain": [
       "                        Date       Open       High        Low      Close  \\\n",
       "0  2019-10-22 00:00:00+03:00  31.259470  31.376331  30.967327  31.064709   \n",
       "1  2019-10-23 00:00:00+03:00  31.181570  31.415283  30.986805  31.201046   \n",
       "2  2019-10-24 00:00:00+03:00  31.337378  32.135906  31.337378  32.077477   \n",
       "3  2019-10-25 00:00:00+03:00  32.135910  32.174862  31.493190  31.629524   \n",
       "4  2019-10-28 00:00:00+03:00  32.019050  32.116430  31.746378  31.746378   \n",
       "\n",
       "          Volume  \n",
       "0  344403.666667  \n",
       "1  324291.000000  \n",
       "2  273870.200000  \n",
       "3  302192.600000  \n",
       "4  312042.200000  "
      ]
     },
     "execution_count": 2,
     "metadata": {},
     "output_type": "execute_result"
    }
   ],
   "source": [
    "df=pd.read_csv(\"ScrapedData/CCOLA.IS.csv\")"
   ]
  },
  {
   "cell_type": "code",
   "execution_count": 106,
   "metadata": {},
   "outputs": [
    {
     "data": {
      "text/plain": [
       "dict_keys(['ScrapedData/ALARK.IS.csv', 'ScrapedData/BRSAN.IS.csv', 'ScrapedData/CCOLA.IS.csv', 'ScrapedData/DOAS.IS.csv', 'ScrapedData/HALKB.IS.csv', 'ScrapedData/KONTR.IS.csv', 'ScrapedData/ODAS.IS.csv', 'ScrapedData/PGSUS.IS.csv', 'ScrapedData/THYAO.IS.csv', 'ScrapedData/VAKBN.IS.csv', 'ScrapedData/VESTL.IS.csv', 'ScrapedData/XBANK.IS.csv', 'ScrapedData/XU030.IS.csv', 'ScrapedData/XU100.IS.csv', 'ScrapedData/XUSIN.IS.csv', 'ScrapedData/ZOREN.IS.csv'])"
      ]
     },
     "execution_count": 106,
     "metadata": {},
     "output_type": "execute_result"
    }
   ],
   "source": [
    "stDic={}\n",
    "for dirs in allDirs:\n",
    "    df=pd.read_csv(dirs)\n",
    "\n",
    "    irregularitiesFinder(df,dirs,stDic)\n",
    "stDic.keys()"
   ]
  },
  {
   "cell_type": "code",
   "execution_count": 109,
   "metadata": {},
   "outputs": [
    {
     "data": {
      "text/plain": [
       "16"
      ]
     },
     "execution_count": 109,
     "metadata": {},
     "output_type": "execute_result"
    }
   ],
   "source": [
    "len(stDic)"
   ]
  },
  {
   "cell_type": "code",
   "execution_count": 110,
   "metadata": {},
   "outputs": [
    {
     "name": "stdout",
     "output_type": "stream",
     "text": [
      "ScrapedData/ALARK.IS.csv\n",
      "(1, 10, 7)\n",
      "ScrapedData/BRSAN.IS.csv\n",
      "(3, 10, 7)\n",
      "ScrapedData/CCOLA.IS.csv\n",
      "(1, 10, 7)\n",
      "ScrapedData/DOAS.IS.csv\n",
      "(2, 10, 7)\n",
      "ScrapedData/HALKB.IS.csv\n",
      "(1, 10, 7)\n",
      "ScrapedData/KONTR.IS.csv\n",
      "(1, 10, 7)\n",
      "ScrapedData/ODAS.IS.csv\n",
      "(2, 10, 7)\n",
      "ScrapedData/PGSUS.IS.csv\n",
      "(1, 10, 7)\n",
      "ScrapedData/THYAO.IS.csv\n",
      "(1, 10, 7)\n",
      "ScrapedData/VAKBN.IS.csv\n",
      "(1, 10, 7)\n",
      "ScrapedData/VESTL.IS.csv\n",
      "(1, 10, 7)\n",
      "ScrapedData/XBANK.IS.csv\n",
      "(1, 10, 7)\n",
      "ScrapedData/XU030.IS.csv\n",
      "(1, 10, 7)\n",
      "ScrapedData/XU100.IS.csv\n",
      "(1, 10, 7)\n",
      "ScrapedData/XUSIN.IS.csv\n",
      "(1, 10, 7)\n",
      "ScrapedData/ZOREN.IS.csv\n",
      "(1, 10, 7)\n"
     ]
    }
   ],
   "source": [
    "for stockName in stDic:\n",
    "    print(stockName)\n",
    "    print(stDic[stockName].shape)\n",
    "        "
   ]
  },
  {
   "cell_type": "code",
   "execution_count": 111,
   "metadata": {},
   "outputs": [
    {
     "data": {
      "text/plain": [
       "array([[['2020-07-20 00:00:00+03:00', 134319.0, 135191.2, 133921.5,\n",
       "         134530.0, 2371520.0, 0.001122197482943621],\n",
       "        ['2020-07-21 00:00:00+03:00', 135423.1, 136198.4, 132451.3,\n",
       "         133454.9, 2289060.0, -0.007991526053668374],\n",
       "        ['2020-07-22 00:00:00+03:00', 134241.3, 134877.6, 133216.7,\n",
       "         133703.4, 2388580.0, 0.0018620522738392875],\n",
       "        ['2020-07-23 00:00:00+03:00', 134385.3, 135546.8, 134194.0,\n",
       "         134821.2, 2334200.0, 0.008360295998456335],\n",
       "        ['2020-07-24 00:00:00+03:00', 134220.8, 134947.3, 133890.9,\n",
       "         134849.0, 2294480.0, 0.00020619902507901244],\n",
       "        ['2020-07-27 00:00:00+03:00', 1356.1, 1361.3, 1347.5, 1350.0,\n",
       "         2085780.0, -0.9899888022899688],\n",
       "        ['2020-07-28 00:00:00+03:00', 1350.0, 1351.8, 1301.0, 1301.0,\n",
       "         1898120.0, -0.03629629629629627],\n",
       "        ['2020-07-29 00:00:00+03:00', 1304.3, 1307.2, 1258.8, 1272.2,\n",
       "         2033940.0, -0.022136817832436595],\n",
       "        ['2020-07-30 00:00:00+03:00', 1273.0, 1273.5, 1257.9, 1259.6,\n",
       "         2353220.0, -0.009904103128439035],\n",
       "        ['2020-08-04 00:00:00+03:00', 1273.4, 1276.5, 1199.7, 1221.3,\n",
       "         2567860.0, -0.03040647824706255]]], dtype=object)"
      ]
     },
     "execution_count": 111,
     "metadata": {},
     "output_type": "execute_result"
    }
   ],
   "source": [
    "stDic[\"ScrapedData/XU030.IS.csv\"]"
   ]
  },
  {
   "cell_type": "code",
   "execution_count": 112,
   "metadata": {},
   "outputs": [],
   "source": [
    "mistakesDf = pd.DataFrame(stDic[\"ScrapedData/XU030.IS.csv\"][0], columns=df.columns)"
   ]
  },
  {
   "cell_type": "code",
   "execution_count": 113,
   "metadata": {},
   "outputs": [
    {
     "data": {
      "text/html": [
       "<div>\n",
       "<style scoped>\n",
       "    .dataframe tbody tr th:only-of-type {\n",
       "        vertical-align: middle;\n",
       "    }\n",
       "\n",
       "    .dataframe tbody tr th {\n",
       "        vertical-align: top;\n",
       "    }\n",
       "\n",
       "    .dataframe thead th {\n",
       "        text-align: right;\n",
       "    }\n",
       "</style>\n",
       "<table border=\"1\" class=\"dataframe\">\n",
       "  <thead>\n",
       "    <tr style=\"text-align: right;\">\n",
       "      <th></th>\n",
       "      <th>Date</th>\n",
       "      <th>Open</th>\n",
       "      <th>High</th>\n",
       "      <th>Low</th>\n",
       "      <th>Close</th>\n",
       "      <th>Volume</th>\n",
       "      <th>Pct_Change</th>\n",
       "    </tr>\n",
       "  </thead>\n",
       "  <tbody>\n",
       "    <tr>\n",
       "      <th>0</th>\n",
       "      <td>2020-07-20 00:00:00+03:00</td>\n",
       "      <td>134319.0</td>\n",
       "      <td>135191.2</td>\n",
       "      <td>133921.5</td>\n",
       "      <td>134530.0</td>\n",
       "      <td>2371520.0</td>\n",
       "      <td>0.001122</td>\n",
       "    </tr>\n",
       "    <tr>\n",
       "      <th>1</th>\n",
       "      <td>2020-07-21 00:00:00+03:00</td>\n",
       "      <td>135423.1</td>\n",
       "      <td>136198.4</td>\n",
       "      <td>132451.3</td>\n",
       "      <td>133454.9</td>\n",
       "      <td>2289060.0</td>\n",
       "      <td>-0.007992</td>\n",
       "    </tr>\n",
       "    <tr>\n",
       "      <th>2</th>\n",
       "      <td>2020-07-22 00:00:00+03:00</td>\n",
       "      <td>134241.3</td>\n",
       "      <td>134877.6</td>\n",
       "      <td>133216.7</td>\n",
       "      <td>133703.4</td>\n",
       "      <td>2388580.0</td>\n",
       "      <td>0.001862</td>\n",
       "    </tr>\n",
       "    <tr>\n",
       "      <th>3</th>\n",
       "      <td>2020-07-23 00:00:00+03:00</td>\n",
       "      <td>134385.3</td>\n",
       "      <td>135546.8</td>\n",
       "      <td>134194.0</td>\n",
       "      <td>134821.2</td>\n",
       "      <td>2334200.0</td>\n",
       "      <td>0.00836</td>\n",
       "    </tr>\n",
       "    <tr>\n",
       "      <th>4</th>\n",
       "      <td>2020-07-24 00:00:00+03:00</td>\n",
       "      <td>134220.8</td>\n",
       "      <td>134947.3</td>\n",
       "      <td>133890.9</td>\n",
       "      <td>134849.0</td>\n",
       "      <td>2294480.0</td>\n",
       "      <td>0.000206</td>\n",
       "    </tr>\n",
       "    <tr>\n",
       "      <th>5</th>\n",
       "      <td>2020-07-27 00:00:00+03:00</td>\n",
       "      <td>1356.1</td>\n",
       "      <td>1361.3</td>\n",
       "      <td>1347.5</td>\n",
       "      <td>1350.0</td>\n",
       "      <td>2085780.0</td>\n",
       "      <td>-0.989989</td>\n",
       "    </tr>\n",
       "    <tr>\n",
       "      <th>6</th>\n",
       "      <td>2020-07-28 00:00:00+03:00</td>\n",
       "      <td>1350.0</td>\n",
       "      <td>1351.8</td>\n",
       "      <td>1301.0</td>\n",
       "      <td>1301.0</td>\n",
       "      <td>1898120.0</td>\n",
       "      <td>-0.036296</td>\n",
       "    </tr>\n",
       "    <tr>\n",
       "      <th>7</th>\n",
       "      <td>2020-07-29 00:00:00+03:00</td>\n",
       "      <td>1304.3</td>\n",
       "      <td>1307.2</td>\n",
       "      <td>1258.8</td>\n",
       "      <td>1272.2</td>\n",
       "      <td>2033940.0</td>\n",
       "      <td>-0.022137</td>\n",
       "    </tr>\n",
       "    <tr>\n",
       "      <th>8</th>\n",
       "      <td>2020-07-30 00:00:00+03:00</td>\n",
       "      <td>1273.0</td>\n",
       "      <td>1273.5</td>\n",
       "      <td>1257.9</td>\n",
       "      <td>1259.6</td>\n",
       "      <td>2353220.0</td>\n",
       "      <td>-0.009904</td>\n",
       "    </tr>\n",
       "    <tr>\n",
       "      <th>9</th>\n",
       "      <td>2020-08-04 00:00:00+03:00</td>\n",
       "      <td>1273.4</td>\n",
       "      <td>1276.5</td>\n",
       "      <td>1199.7</td>\n",
       "      <td>1221.3</td>\n",
       "      <td>2567860.0</td>\n",
       "      <td>-0.030406</td>\n",
       "    </tr>\n",
       "  </tbody>\n",
       "</table>\n",
       "</div>"
      ],
      "text/plain": [
       "                        Date      Open      High       Low     Close  \\\n",
       "0  2020-07-20 00:00:00+03:00  134319.0  135191.2  133921.5  134530.0   \n",
       "1  2020-07-21 00:00:00+03:00  135423.1  136198.4  132451.3  133454.9   \n",
       "2  2020-07-22 00:00:00+03:00  134241.3  134877.6  133216.7  133703.4   \n",
       "3  2020-07-23 00:00:00+03:00  134385.3  135546.8  134194.0  134821.2   \n",
       "4  2020-07-24 00:00:00+03:00  134220.8  134947.3  133890.9  134849.0   \n",
       "5  2020-07-27 00:00:00+03:00    1356.1    1361.3    1347.5    1350.0   \n",
       "6  2020-07-28 00:00:00+03:00    1350.0    1351.8    1301.0    1301.0   \n",
       "7  2020-07-29 00:00:00+03:00    1304.3    1307.2    1258.8    1272.2   \n",
       "8  2020-07-30 00:00:00+03:00    1273.0    1273.5    1257.9    1259.6   \n",
       "9  2020-08-04 00:00:00+03:00    1273.4    1276.5    1199.7    1221.3   \n",
       "\n",
       "      Volume Pct_Change  \n",
       "0  2371520.0   0.001122  \n",
       "1  2289060.0  -0.007992  \n",
       "2  2388580.0   0.001862  \n",
       "3  2334200.0    0.00836  \n",
       "4  2294480.0   0.000206  \n",
       "5  2085780.0  -0.989989  \n",
       "6  1898120.0  -0.036296  \n",
       "7  2033940.0  -0.022137  \n",
       "8  2353220.0  -0.009904  \n",
       "9  2567860.0  -0.030406  "
      ]
     },
     "execution_count": 113,
     "metadata": {},
     "output_type": "execute_result"
    }
   ],
   "source": [
    "mistakesDf"
   ]
  }
 ],
 "metadata": {
  "kernelspec": {
   "display_name": "tf",
   "language": "python",
   "name": "python3"
  },
  "language_info": {
   "codemirror_mode": {
    "name": "ipython",
    "version": 3
   },
   "file_extension": ".py",
   "mimetype": "text/x-python",
   "name": "python",
   "nbconvert_exporter": "python",
   "pygments_lexer": "ipython3",
   "version": "3.9.19"
  }
 },
 "nbformat": 4,
 "nbformat_minor": 2
}
