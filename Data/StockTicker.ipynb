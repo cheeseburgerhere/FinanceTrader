{
 "cells": [
  {
   "cell_type": "code",
   "execution_count": 14,
   "metadata": {},
   "outputs": [],
   "source": [
    "import yfinance as yf\n",
    "import pandas as pd\n"
   ]
  },
  {
   "cell_type": "code",
   "execution_count": 24,
   "metadata": {},
   "outputs": [],
   "source": [
    "class StockTicker:\n",
    "    def __init__(self, stockName:str, timePeriod:str, timeInterval:str=\"1h\") -> None:\n",
    "        self.name=stockName\n",
    "        periods=['1d', '5d', '1mo', '3mo', '6mo', '1y', '2y', '5y', '10y', 'ytd', 'max']\n",
    "        if(timePeriod not in periods):\n",
    "            raise ValueError(f\"Supported periods are [{periods}]\")\n",
    "        self.period=timePeriod\n",
    "\n",
    "        intervals=[\"1m\", \"2m\", \"5m\", \"15m\", \"30m\", \"60m\", \"90m\", \"1h\", \"1d\", \"5d\", \"1wk\", \"1mo\", \"3mo\"]\n",
    "        if(timeInterval not in intervals):\n",
    "            raise ValueError(f\"Supported intervals are [{intervals}]\")\n",
    "        self.interval=timeInterval\n",
    "\n",
    "        self.ticker=yf.Ticker(self.name)\n",
    "\n",
    "    def getOHLC(self):\n",
    "        self.data=self.ticker.history(period=self.period).reset_index().drop(columns=[\"Dividends\",\"Stock Splits\"])\n",
    "\n",
    "        # Select columns with 'float64' dtype  \n",
    "        float64_cols = list(self.data.select_dtypes(include='float64'))\n",
    "\n",
    "        \n",
    "        self.data[float64_cols] = self.data[float64_cols].astype('float32')\n",
    "                # Select columns with 'float64' dtype  \n",
    "        int64_cols = list(self.data.select_dtypes(include='int64'))\n",
    "        self.data[int64_cols] = self.data[int64_cols].astype('int32')\n",
    "\n",
    "        self.data['Volume'].interpolate(method='linear', inplace=True)\n",
    "        #TODO fix the interpolation\n",
    "        #TODO balance_sheet\n",
    "        return self.data\n",
    "    \n",
    "\n",
    "    #TODO find the required data titles and merge their get functions to a single function\n"
   ]
  },
  {
   "cell_type": "code",
   "execution_count": 25,
   "metadata": {},
   "outputs": [],
   "source": [
    "ticker=StockTicker(\"TUPRS.IS\",'1mo')"
   ]
  },
  {
   "cell_type": "code",
   "execution_count": 27,
   "metadata": {},
   "outputs": [
    {
     "data": {
      "text/html": [
       "<div>\n",
       "<style scoped>\n",
       "    .dataframe tbody tr th:only-of-type {\n",
       "        vertical-align: middle;\n",
       "    }\n",
       "\n",
       "    .dataframe tbody tr th {\n",
       "        vertical-align: top;\n",
       "    }\n",
       "\n",
       "    .dataframe thead th {\n",
       "        text-align: right;\n",
       "    }\n",
       "</style>\n",
       "<table border=\"1\" class=\"dataframe\">\n",
       "  <thead>\n",
       "    <tr style=\"text-align: right;\">\n",
       "      <th></th>\n",
       "      <th>Date</th>\n",
       "      <th>Open</th>\n",
       "      <th>High</th>\n",
       "      <th>Low</th>\n",
       "      <th>Close</th>\n",
       "      <th>Volume</th>\n",
       "    </tr>\n",
       "  </thead>\n",
       "  <tbody>\n",
       "  </tbody>\n",
       "</table>\n",
       "</div>"
      ],
      "text/plain": [
       "Empty DataFrame\n",
       "Columns: [Date, Open, High, Low, Close, Volume]\n",
       "Index: []"
      ]
     },
     "execution_count": 27,
     "metadata": {},
     "output_type": "execute_result"
    }
   ],
   "source": [
    "n=ticker.getOHLC()\n",
    "n[n[\"Volume\"]==0]"
   ]
  }
 ],
 "metadata": {
  "kernelspec": {
   "display_name": "Python 3",
   "language": "python",
   "name": "python3"
  },
  "language_info": {
   "codemirror_mode": {
    "name": "ipython",
    "version": 3
   },
   "file_extension": ".py",
   "mimetype": "text/x-python",
   "name": "python",
   "nbconvert_exporter": "python",
   "pygments_lexer": "ipython3",
   "version": "3.11.7"
  }
 },
 "nbformat": 4,
 "nbformat_minor": 2
}
