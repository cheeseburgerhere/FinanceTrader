{
 "cells": [
  {
   "cell_type": "code",
   "execution_count": 4,
   "metadata": {},
   "outputs": [],
   "source": [
    "import yfinance as yf\n",
    "import pandas as pd\n",
    "import os"
   ]
  },
  {
   "cell_type": "code",
   "execution_count": 5,
   "metadata": {},
   "outputs": [],
   "source": [
    "class StockTicker:\n",
    "    def __init__(self, stockName:str, timePeriod:str, timeInterval:str=\"1h\") -> None:\n",
    "        self.name=stockName\n",
    "        periods=['1d', '5d', '1mo', '3mo', '6mo', '1y', '2y', '5y', '10y', 'ytd', 'max']\n",
    "        if(timePeriod not in periods):\n",
    "            raise ValueError(f\"Supported periods are [{periods}]\")\n",
    "        self.period=timePeriod\n",
    "\n",
    "        intervals=[\"1m\", \"2m\", \"5m\", \"15m\", \"30m\", \"60m\", \"90m\", \"1h\", \"1d\", \"5d\", \"1wk\", \"1mo\", \"3mo\"]\n",
    "\n",
    "        #I guess api doesn't care the given interval if the period is too large\n",
    "        if(timeInterval not in intervals):\n",
    "            raise ValueError(f\"Supported intervals are [{intervals}]\")\n",
    "        self.interval=timeInterval\n",
    "\n",
    "        self.ticker=yf.Ticker(self.name)\n",
    "\n",
    "    def getOHLC(self):\n",
    "        try:\n",
    "            self.data=self.ticker.history(period=self.period).reset_index().drop(columns=[\"Dividends\",\"Stock Splits\"])\n",
    "        except:\n",
    "            if(self.period==\"max\"):\n",
    "                return pd.DataFrame()\n",
    "            self.period=\"max\"\n",
    "\n",
    "            return self.getOHLC()\n",
    "\n",
    "        # Select columns with 'float64' dtype  \n",
    "        float64_cols = list(self.data.select_dtypes(include='float64'))\n",
    "        \n",
    "        self.data[float64_cols] = self.data[float64_cols].astype('float32')\n",
    "        # Select columns with 'float64' dtype  \n",
    "        int64_cols = list(self.data.select_dtypes(include='int64'))\n",
    "        self.data[int64_cols] = self.data[int64_cols].astype('int32')\n",
    "\n",
    "        self.data['Volume']=self.data['Volume'].rolling(window=5, min_periods=1, center=True).mean()\n",
    "        #TODO balance_sheet update: Do we really need these for the first stage\n",
    "        return self.data\n",
    "    \n",
    "\n",
    "    #TODO find the required data titles and merge their get functions to a single function\n"
   ]
  },
  {
   "cell_type": "code",
   "execution_count": 6,
   "metadata": {},
   "outputs": [],
   "source": [
    "stocks=[\n",
    "\"XULAS.IS\",\n",
    "\"XHOLD.IS\",\n",
    "\"XUSIN.IS\",\n",
    "\"XKMYA.IS\",\n",
    "\"XMANA.IS\",\n",
    "\"XINSA.IS\",\n",
    "\"XILTM.IS\",\n",
    "\"XUTEK.IS\",\n",
    "\"XGMYO.IS\",\n",
    "\"XSGRT.IS\",\n",
    "\"XUMAL.IS\",\n",
    "\"XTCRT.IS\",\n",
    "\"XELKT.IS\"]\n",
    "\n"
   ]
  },
  {
   "cell_type": "code",
   "execution_count": 7,
   "metadata": {},
   "outputs": [
    {
     "name": "stdout",
     "output_type": "stream",
     "text": [
      "XULAS.IS\n"
     ]
    },
    {
     "name": "stderr",
     "output_type": "stream",
     "text": [
      "XULAS.IS: Period '5y' is invalid, must be one of ['1d', '5d']\n",
      "XULAS.IS: Period 'max' is invalid, must be one of ['1d', '5d']\n"
     ]
    },
    {
     "name": "stdout",
     "output_type": "stream",
     "text": [
      "XHOLD.IS\n"
     ]
    },
    {
     "name": "stderr",
     "output_type": "stream",
     "text": [
      "XHOLD.IS: Period '5y' is invalid, must be one of ['1d', '5d']\n",
      "XHOLD.IS: Period 'max' is invalid, must be one of ['1d', '5d']\n"
     ]
    },
    {
     "name": "stdout",
     "output_type": "stream",
     "text": [
      "XUSIN.IS\n",
      "XKMYA.IS\n"
     ]
    },
    {
     "name": "stderr",
     "output_type": "stream",
     "text": [
      "XKMYA.IS: Period '5y' is invalid, must be one of ['1d', '5d']\n",
      "XKMYA.IS: Period 'max' is invalid, must be one of ['1d', '5d']\n"
     ]
    },
    {
     "name": "stdout",
     "output_type": "stream",
     "text": [
      "XMANA.IS\n"
     ]
    },
    {
     "name": "stderr",
     "output_type": "stream",
     "text": [
      "XMANA.IS: Period '5y' is invalid, must be one of ['1d', '5d']\n",
      "XMANA.IS: Period 'max' is invalid, must be one of ['1d', '5d']\n"
     ]
    },
    {
     "name": "stdout",
     "output_type": "stream",
     "text": [
      "XINSA.IS\n"
     ]
    },
    {
     "name": "stderr",
     "output_type": "stream",
     "text": [
      "XINSA.IS: Period '5y' is invalid, must be one of ['1d', '5d']\n",
      "XINSA.IS: Period 'max' is invalid, must be one of ['1d', '5d']\n"
     ]
    },
    {
     "name": "stdout",
     "output_type": "stream",
     "text": [
      "XILTM.IS\n"
     ]
    },
    {
     "name": "stderr",
     "output_type": "stream",
     "text": [
      "XILTM.IS: Period '5y' is invalid, must be one of ['1d', '5d']\n",
      "XILTM.IS: Period 'max' is invalid, must be one of ['1d', '5d']\n"
     ]
    },
    {
     "name": "stdout",
     "output_type": "stream",
     "text": [
      "XUTEK.IS\n"
     ]
    },
    {
     "name": "stderr",
     "output_type": "stream",
     "text": [
      "XUTEK.IS: Period '5y' is invalid, must be one of ['1d', '5d']\n",
      "XUTEK.IS: Period 'max' is invalid, must be one of ['1d', '5d']\n"
     ]
    },
    {
     "name": "stdout",
     "output_type": "stream",
     "text": [
      "XGMYO.IS\n"
     ]
    },
    {
     "name": "stderr",
     "output_type": "stream",
     "text": [
      "XGMYO.IS: Period '5y' is invalid, must be one of ['1d', '5d']\n",
      "XGMYO.IS: Period 'max' is invalid, must be one of ['1d', '5d']\n"
     ]
    },
    {
     "name": "stdout",
     "output_type": "stream",
     "text": [
      "XSGRT.IS\n"
     ]
    },
    {
     "name": "stderr",
     "output_type": "stream",
     "text": [
      "XSGRT.IS: Period '5y' is invalid, must be one of ['1d', '5d']\n",
      "XSGRT.IS: Period 'max' is invalid, must be one of ['1d', '5d']\n"
     ]
    },
    {
     "name": "stdout",
     "output_type": "stream",
     "text": [
      "XUMAL.IS\n"
     ]
    },
    {
     "name": "stderr",
     "output_type": "stream",
     "text": [
      "XUMAL.IS: Period '5y' is invalid, must be one of ['1d', '5d']\n",
      "XUMAL.IS: Period 'max' is invalid, must be one of ['1d', '5d']\n"
     ]
    },
    {
     "name": "stdout",
     "output_type": "stream",
     "text": [
      "XTCRT.IS\n"
     ]
    },
    {
     "name": "stderr",
     "output_type": "stream",
     "text": [
      "XTCRT.IS: Period '5y' is invalid, must be one of ['1d', '5d']\n",
      "XTCRT.IS: Period 'max' is invalid, must be one of ['1d', '5d']\n"
     ]
    },
    {
     "name": "stdout",
     "output_type": "stream",
     "text": [
      "XELKT.IS\n"
     ]
    },
    {
     "name": "stderr",
     "output_type": "stream",
     "text": [
      "XELKT.IS: Period '5y' is invalid, must be one of ['1d', '5d']\n",
      "XELKT.IS: Period 'max' is invalid, must be one of ['1d', '5d']\n"
     ]
    }
   ],
   "source": [
    "names=os.listdir(\"ScrapedData\")\n",
    "\n",
    "existingStocks={}\n",
    "for name in names:\n",
    "    existingStocks[name[:-4]]=1\n",
    "\n",
    "\n",
    "for stock in stocks:\n",
    "    if (stock in existingStocks):\n",
    "        continue\n",
    "\n",
    "    print(stock)\n",
    "    ticker=StockTicker(stock,'5y', \"1h\")\n",
    "    ticker.getOHLC().to_csv(os.path.join(\"ScrapedData\", stock + \".csv\"), index=False)\n",
    "    ticker=None"
   ]
  },
  {
   "cell_type": "code",
   "execution_count": 60,
   "metadata": {},
   "outputs": [],
   "source": [
    "\n",
    "# possible use case\n",
    "# tickers = ['AAPL', 'GOOGL', 'MSFT', 'AMZN']\n",
    "\n",
    "# # Download data for multiple stocks\n",
    "# stock_data = yf.download(tickers, start='2023-01-01', end='2023-12-31')"
   ]
  }
 ],
 "metadata": {
  "kernelspec": {
   "display_name": "Python 3",
   "language": "python",
   "name": "python3"
  },
  "language_info": {
   "codemirror_mode": {
    "name": "ipython",
    "version": 3
   },
   "file_extension": ".py",
   "mimetype": "text/x-python",
   "name": "python",
   "nbconvert_exporter": "python",
   "pygments_lexer": "ipython3",
   "version": "3.11.7"
  }
 },
 "nbformat": 4,
 "nbformat_minor": 2
}
